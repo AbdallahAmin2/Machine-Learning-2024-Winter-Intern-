{
  "cells": [
    {
      "cell_type": "markdown",
      "metadata": {
        "id": "wSygJVpJITHT"
      },
      "source": [
        "# **Name: Omar Nezar**"
      ]
    },
    {
      "cell_type": "code",
      "execution_count": null,
      "metadata": {
        "colab": {
          "base_uri": "https://localhost:8080/"
        },
        "id": "cQy1zO5rDLvC",
        "outputId": "90bd9ff8-6eed-4939-d793-f7f01a1a8dc2"
      },
      "outputs": [
        {
          "output_type": "stream",
          "name": "stdout",
          "text": [
            "Drive already mounted at /content/drive; to attempt to forcibly remount, call drive.mount(\"/content/drive\", force_remount=True).\n"
          ]
        }
      ],
      "source": [
        "from google.colab import drive\n",
        "drive.mount('/content/drive')"
      ]
    },
    {
      "cell_type": "markdown",
      "metadata": {
        "id": "1WQRU43vHJyS"
      },
      "source": [
        "### Importing Necessary Libraries\n"
      ]
    },
    {
      "cell_type": "code",
      "execution_count": null,
      "metadata": {
        "id": "lfc7wvS0DQts"
      },
      "outputs": [],
      "source": [
        "import pandas as pd\n",
        "import numpy as np\n",
        "import matplotlib.pyplot as plt\n",
        "import seaborn as sns\n",
        "import joblib\n",
        "from sklearn.model_selection import train_test_split\n",
        "from sklearn.metrics import accuracy_score, confusion_matrix, classification_report\n",
        "from sklearn.neighbors import KNeighborsClassifier\n",
        "\n",
        "\n",
        "%matplotlib inline"
      ]
    },
    {
      "cell_type": "markdown",
      "metadata": {
        "id": "K2KInBRRHT21"
      },
      "source": [
        "### Reading data from CSV file"
      ]
    },
    {
      "cell_type": "code",
      "execution_count": null,
      "metadata": {
        "id": "stiyj4vaDtym"
      },
      "outputs": [],
      "source": [
        "df = pd.read_csv(\"/content/drive/MyDrive/Datasets/first inten project.csv\")"
      ]
    },
    {
      "cell_type": "markdown",
      "metadata": {
        "id": "ZJA5uExGH1wW"
      },
      "source": [
        "### Checking if data has been imported successfuly or not\n"
      ]
    },
    {
      "cell_type": "code",
      "execution_count": null,
      "metadata": {
        "colab": {
          "base_uri": "https://localhost:8080/",
          "height": 328
        },
        "id": "QszzBrrlD7Kh",
        "outputId": "824e157a-1848-48ba-b9b4-4ab7e7a2f084"
      },
      "outputs": [
        {
          "output_type": "execute_result",
          "data": {
            "text/plain": [
              "  Booking_ID  number of adults  number of children  number of weekend nights  \\\n",
              "0   INN00001                 1                   1                         2   \n",
              "1   INN00002                 1                   0                         1   \n",
              "2   INN00003                 2                   1                         1   \n",
              "3   INN00004                 1                   0                         0   \n",
              "4   INN00005                 1                   0                         1   \n",
              "\n",
              "   number of week nights  type of meal  car parking space    room type  \\\n",
              "0                      5   Meal Plan 1                  0  Room_Type 1   \n",
              "1                      3  Not Selected                  0  Room_Type 1   \n",
              "2                      3   Meal Plan 1                  0  Room_Type 1   \n",
              "3                      2   Meal Plan 1                  0  Room_Type 1   \n",
              "4                      2  Not Selected                  0  Room_Type 1   \n",
              "\n",
              "   lead time market segment type  repeated  P-C  P-not-C  average price   \\\n",
              "0        224             Offline         0    0        0           88.00   \n",
              "1          5              Online         0    0        0          106.68   \n",
              "2          1              Online         0    0        0           50.00   \n",
              "3        211              Online         0    0        0          100.00   \n",
              "4         48              Online         0    0        0           77.00   \n",
              "\n",
              "   special requests date of reservation booking status  \n",
              "0                 0           10/2/2015   Not_Canceled  \n",
              "1                 1           11/6/2018   Not_Canceled  \n",
              "2                 0           2/28/2018       Canceled  \n",
              "3                 1           5/20/2017       Canceled  \n",
              "4                 0           4/11/2018       Canceled  "
            ],
            "text/html": [
              "\n",
              "  <div id=\"df-4ef6b823-d8e8-41f5-99ef-20460cf41ef1\" class=\"colab-df-container\">\n",
              "    <div>\n",
              "<style scoped>\n",
              "    .dataframe tbody tr th:only-of-type {\n",
              "        vertical-align: middle;\n",
              "    }\n",
              "\n",
              "    .dataframe tbody tr th {\n",
              "        vertical-align: top;\n",
              "    }\n",
              "\n",
              "    .dataframe thead th {\n",
              "        text-align: right;\n",
              "    }\n",
              "</style>\n",
              "<table border=\"1\" class=\"dataframe\">\n",
              "  <thead>\n",
              "    <tr style=\"text-align: right;\">\n",
              "      <th></th>\n",
              "      <th>Booking_ID</th>\n",
              "      <th>number of adults</th>\n",
              "      <th>number of children</th>\n",
              "      <th>number of weekend nights</th>\n",
              "      <th>number of week nights</th>\n",
              "      <th>type of meal</th>\n",
              "      <th>car parking space</th>\n",
              "      <th>room type</th>\n",
              "      <th>lead time</th>\n",
              "      <th>market segment type</th>\n",
              "      <th>repeated</th>\n",
              "      <th>P-C</th>\n",
              "      <th>P-not-C</th>\n",
              "      <th>average price</th>\n",
              "      <th>special requests</th>\n",
              "      <th>date of reservation</th>\n",
              "      <th>booking status</th>\n",
              "    </tr>\n",
              "  </thead>\n",
              "  <tbody>\n",
              "    <tr>\n",
              "      <th>0</th>\n",
              "      <td>INN00001</td>\n",
              "      <td>1</td>\n",
              "      <td>1</td>\n",
              "      <td>2</td>\n",
              "      <td>5</td>\n",
              "      <td>Meal Plan 1</td>\n",
              "      <td>0</td>\n",
              "      <td>Room_Type 1</td>\n",
              "      <td>224</td>\n",
              "      <td>Offline</td>\n",
              "      <td>0</td>\n",
              "      <td>0</td>\n",
              "      <td>0</td>\n",
              "      <td>88.00</td>\n",
              "      <td>0</td>\n",
              "      <td>10/2/2015</td>\n",
              "      <td>Not_Canceled</td>\n",
              "    </tr>\n",
              "    <tr>\n",
              "      <th>1</th>\n",
              "      <td>INN00002</td>\n",
              "      <td>1</td>\n",
              "      <td>0</td>\n",
              "      <td>1</td>\n",
              "      <td>3</td>\n",
              "      <td>Not Selected</td>\n",
              "      <td>0</td>\n",
              "      <td>Room_Type 1</td>\n",
              "      <td>5</td>\n",
              "      <td>Online</td>\n",
              "      <td>0</td>\n",
              "      <td>0</td>\n",
              "      <td>0</td>\n",
              "      <td>106.68</td>\n",
              "      <td>1</td>\n",
              "      <td>11/6/2018</td>\n",
              "      <td>Not_Canceled</td>\n",
              "    </tr>\n",
              "    <tr>\n",
              "      <th>2</th>\n",
              "      <td>INN00003</td>\n",
              "      <td>2</td>\n",
              "      <td>1</td>\n",
              "      <td>1</td>\n",
              "      <td>3</td>\n",
              "      <td>Meal Plan 1</td>\n",
              "      <td>0</td>\n",
              "      <td>Room_Type 1</td>\n",
              "      <td>1</td>\n",
              "      <td>Online</td>\n",
              "      <td>0</td>\n",
              "      <td>0</td>\n",
              "      <td>0</td>\n",
              "      <td>50.00</td>\n",
              "      <td>0</td>\n",
              "      <td>2/28/2018</td>\n",
              "      <td>Canceled</td>\n",
              "    </tr>\n",
              "    <tr>\n",
              "      <th>3</th>\n",
              "      <td>INN00004</td>\n",
              "      <td>1</td>\n",
              "      <td>0</td>\n",
              "      <td>0</td>\n",
              "      <td>2</td>\n",
              "      <td>Meal Plan 1</td>\n",
              "      <td>0</td>\n",
              "      <td>Room_Type 1</td>\n",
              "      <td>211</td>\n",
              "      <td>Online</td>\n",
              "      <td>0</td>\n",
              "      <td>0</td>\n",
              "      <td>0</td>\n",
              "      <td>100.00</td>\n",
              "      <td>1</td>\n",
              "      <td>5/20/2017</td>\n",
              "      <td>Canceled</td>\n",
              "    </tr>\n",
              "    <tr>\n",
              "      <th>4</th>\n",
              "      <td>INN00005</td>\n",
              "      <td>1</td>\n",
              "      <td>0</td>\n",
              "      <td>1</td>\n",
              "      <td>2</td>\n",
              "      <td>Not Selected</td>\n",
              "      <td>0</td>\n",
              "      <td>Room_Type 1</td>\n",
              "      <td>48</td>\n",
              "      <td>Online</td>\n",
              "      <td>0</td>\n",
              "      <td>0</td>\n",
              "      <td>0</td>\n",
              "      <td>77.00</td>\n",
              "      <td>0</td>\n",
              "      <td>4/11/2018</td>\n",
              "      <td>Canceled</td>\n",
              "    </tr>\n",
              "  </tbody>\n",
              "</table>\n",
              "</div>\n",
              "    <div class=\"colab-df-buttons\">\n",
              "\n",
              "  <div class=\"colab-df-container\">\n",
              "    <button class=\"colab-df-convert\" onclick=\"convertToInteractive('df-4ef6b823-d8e8-41f5-99ef-20460cf41ef1')\"\n",
              "            title=\"Convert this dataframe to an interactive table.\"\n",
              "            style=\"display:none;\">\n",
              "\n",
              "  <svg xmlns=\"http://www.w3.org/2000/svg\" height=\"24px\" viewBox=\"0 -960 960 960\">\n",
              "    <path d=\"M120-120v-720h720v720H120Zm60-500h600v-160H180v160Zm220 220h160v-160H400v160Zm0 220h160v-160H400v160ZM180-400h160v-160H180v160Zm440 0h160v-160H620v160ZM180-180h160v-160H180v160Zm440 0h160v-160H620v160Z\"/>\n",
              "  </svg>\n",
              "    </button>\n",
              "\n",
              "  <style>\n",
              "    .colab-df-container {\n",
              "      display:flex;\n",
              "      gap: 12px;\n",
              "    }\n",
              "\n",
              "    .colab-df-convert {\n",
              "      background-color: #E8F0FE;\n",
              "      border: none;\n",
              "      border-radius: 50%;\n",
              "      cursor: pointer;\n",
              "      display: none;\n",
              "      fill: #1967D2;\n",
              "      height: 32px;\n",
              "      padding: 0 0 0 0;\n",
              "      width: 32px;\n",
              "    }\n",
              "\n",
              "    .colab-df-convert:hover {\n",
              "      background-color: #E2EBFA;\n",
              "      box-shadow: 0px 1px 2px rgba(60, 64, 67, 0.3), 0px 1px 3px 1px rgba(60, 64, 67, 0.15);\n",
              "      fill: #174EA6;\n",
              "    }\n",
              "\n",
              "    .colab-df-buttons div {\n",
              "      margin-bottom: 4px;\n",
              "    }\n",
              "\n",
              "    [theme=dark] .colab-df-convert {\n",
              "      background-color: #3B4455;\n",
              "      fill: #D2E3FC;\n",
              "    }\n",
              "\n",
              "    [theme=dark] .colab-df-convert:hover {\n",
              "      background-color: #434B5C;\n",
              "      box-shadow: 0px 1px 3px 1px rgba(0, 0, 0, 0.15);\n",
              "      filter: drop-shadow(0px 1px 2px rgba(0, 0, 0, 0.3));\n",
              "      fill: #FFFFFF;\n",
              "    }\n",
              "  </style>\n",
              "\n",
              "    <script>\n",
              "      const buttonEl =\n",
              "        document.querySelector('#df-4ef6b823-d8e8-41f5-99ef-20460cf41ef1 button.colab-df-convert');\n",
              "      buttonEl.style.display =\n",
              "        google.colab.kernel.accessAllowed ? 'block' : 'none';\n",
              "\n",
              "      async function convertToInteractive(key) {\n",
              "        const element = document.querySelector('#df-4ef6b823-d8e8-41f5-99ef-20460cf41ef1');\n",
              "        const dataTable =\n",
              "          await google.colab.kernel.invokeFunction('convertToInteractive',\n",
              "                                                    [key], {});\n",
              "        if (!dataTable) return;\n",
              "\n",
              "        const docLinkHtml = 'Like what you see? Visit the ' +\n",
              "          '<a target=\"_blank\" href=https://colab.research.google.com/notebooks/data_table.ipynb>data table notebook</a>'\n",
              "          + ' to learn more about interactive tables.';\n",
              "        element.innerHTML = '';\n",
              "        dataTable['output_type'] = 'display_data';\n",
              "        await google.colab.output.renderOutput(dataTable, element);\n",
              "        const docLink = document.createElement('div');\n",
              "        docLink.innerHTML = docLinkHtml;\n",
              "        element.appendChild(docLink);\n",
              "      }\n",
              "    </script>\n",
              "  </div>\n",
              "\n",
              "\n",
              "<div id=\"df-123625f4-f0f8-44eb-83f6-c2c9fd85b488\">\n",
              "  <button class=\"colab-df-quickchart\" onclick=\"quickchart('df-123625f4-f0f8-44eb-83f6-c2c9fd85b488')\"\n",
              "            title=\"Suggest charts\"\n",
              "            style=\"display:none;\">\n",
              "\n",
              "<svg xmlns=\"http://www.w3.org/2000/svg\" height=\"24px\"viewBox=\"0 0 24 24\"\n",
              "     width=\"24px\">\n",
              "    <g>\n",
              "        <path d=\"M19 3H5c-1.1 0-2 .9-2 2v14c0 1.1.9 2 2 2h14c1.1 0 2-.9 2-2V5c0-1.1-.9-2-2-2zM9 17H7v-7h2v7zm4 0h-2V7h2v10zm4 0h-2v-4h2v4z\"/>\n",
              "    </g>\n",
              "</svg>\n",
              "  </button>\n",
              "\n",
              "<style>\n",
              "  .colab-df-quickchart {\n",
              "      --bg-color: #E8F0FE;\n",
              "      --fill-color: #1967D2;\n",
              "      --hover-bg-color: #E2EBFA;\n",
              "      --hover-fill-color: #174EA6;\n",
              "      --disabled-fill-color: #AAA;\n",
              "      --disabled-bg-color: #DDD;\n",
              "  }\n",
              "\n",
              "  [theme=dark] .colab-df-quickchart {\n",
              "      --bg-color: #3B4455;\n",
              "      --fill-color: #D2E3FC;\n",
              "      --hover-bg-color: #434B5C;\n",
              "      --hover-fill-color: #FFFFFF;\n",
              "      --disabled-bg-color: #3B4455;\n",
              "      --disabled-fill-color: #666;\n",
              "  }\n",
              "\n",
              "  .colab-df-quickchart {\n",
              "    background-color: var(--bg-color);\n",
              "    border: none;\n",
              "    border-radius: 50%;\n",
              "    cursor: pointer;\n",
              "    display: none;\n",
              "    fill: var(--fill-color);\n",
              "    height: 32px;\n",
              "    padding: 0;\n",
              "    width: 32px;\n",
              "  }\n",
              "\n",
              "  .colab-df-quickchart:hover {\n",
              "    background-color: var(--hover-bg-color);\n",
              "    box-shadow: 0 1px 2px rgba(60, 64, 67, 0.3), 0 1px 3px 1px rgba(60, 64, 67, 0.15);\n",
              "    fill: var(--button-hover-fill-color);\n",
              "  }\n",
              "\n",
              "  .colab-df-quickchart-complete:disabled,\n",
              "  .colab-df-quickchart-complete:disabled:hover {\n",
              "    background-color: var(--disabled-bg-color);\n",
              "    fill: var(--disabled-fill-color);\n",
              "    box-shadow: none;\n",
              "  }\n",
              "\n",
              "  .colab-df-spinner {\n",
              "    border: 2px solid var(--fill-color);\n",
              "    border-color: transparent;\n",
              "    border-bottom-color: var(--fill-color);\n",
              "    animation:\n",
              "      spin 1s steps(1) infinite;\n",
              "  }\n",
              "\n",
              "  @keyframes spin {\n",
              "    0% {\n",
              "      border-color: transparent;\n",
              "      border-bottom-color: var(--fill-color);\n",
              "      border-left-color: var(--fill-color);\n",
              "    }\n",
              "    20% {\n",
              "      border-color: transparent;\n",
              "      border-left-color: var(--fill-color);\n",
              "      border-top-color: var(--fill-color);\n",
              "    }\n",
              "    30% {\n",
              "      border-color: transparent;\n",
              "      border-left-color: var(--fill-color);\n",
              "      border-top-color: var(--fill-color);\n",
              "      border-right-color: var(--fill-color);\n",
              "    }\n",
              "    40% {\n",
              "      border-color: transparent;\n",
              "      border-right-color: var(--fill-color);\n",
              "      border-top-color: var(--fill-color);\n",
              "    }\n",
              "    60% {\n",
              "      border-color: transparent;\n",
              "      border-right-color: var(--fill-color);\n",
              "    }\n",
              "    80% {\n",
              "      border-color: transparent;\n",
              "      border-right-color: var(--fill-color);\n",
              "      border-bottom-color: var(--fill-color);\n",
              "    }\n",
              "    90% {\n",
              "      border-color: transparent;\n",
              "      border-bottom-color: var(--fill-color);\n",
              "    }\n",
              "  }\n",
              "</style>\n",
              "\n",
              "  <script>\n",
              "    async function quickchart(key) {\n",
              "      const quickchartButtonEl =\n",
              "        document.querySelector('#' + key + ' button');\n",
              "      quickchartButtonEl.disabled = true;  // To prevent multiple clicks.\n",
              "      quickchartButtonEl.classList.add('colab-df-spinner');\n",
              "      try {\n",
              "        const charts = await google.colab.kernel.invokeFunction(\n",
              "            'suggestCharts', [key], {});\n",
              "      } catch (error) {\n",
              "        console.error('Error during call to suggestCharts:', error);\n",
              "      }\n",
              "      quickchartButtonEl.classList.remove('colab-df-spinner');\n",
              "      quickchartButtonEl.classList.add('colab-df-quickchart-complete');\n",
              "    }\n",
              "    (() => {\n",
              "      let quickchartButtonEl =\n",
              "        document.querySelector('#df-123625f4-f0f8-44eb-83f6-c2c9fd85b488 button');\n",
              "      quickchartButtonEl.style.display =\n",
              "        google.colab.kernel.accessAllowed ? 'block' : 'none';\n",
              "    })();\n",
              "  </script>\n",
              "</div>\n",
              "\n",
              "    </div>\n",
              "  </div>\n"
            ],
            "application/vnd.google.colaboratory.intrinsic+json": {
              "type": "dataframe",
              "variable_name": "df",
              "summary": "{\n  \"name\": \"df\",\n  \"rows\": 36285,\n  \"fields\": [\n    {\n      \"column\": \"Booking_ID\",\n      \"properties\": {\n        \"dtype\": \"string\",\n        \"num_unique_values\": 36285,\n        \"samples\": [\n          \"INN36239\",\n          \"INN00084\",\n          \"INN23450\"\n        ],\n        \"semantic_type\": \"\",\n        \"description\": \"\"\n      }\n    },\n    {\n      \"column\": \"number of adults\",\n      \"properties\": {\n        \"dtype\": \"number\",\n        \"std\": 0,\n        \"min\": 0,\n        \"max\": 4,\n        \"num_unique_values\": 5,\n        \"samples\": [\n          2,\n          4,\n          3\n        ],\n        \"semantic_type\": \"\",\n        \"description\": \"\"\n      }\n    },\n    {\n      \"column\": \"number of children\",\n      \"properties\": {\n        \"dtype\": \"number\",\n        \"std\": 0,\n        \"min\": 0,\n        \"max\": 10,\n        \"num_unique_values\": 6,\n        \"samples\": [\n          1,\n          0,\n          9\n        ],\n        \"semantic_type\": \"\",\n        \"description\": \"\"\n      }\n    },\n    {\n      \"column\": \"number of weekend nights\",\n      \"properties\": {\n        \"dtype\": \"number\",\n        \"std\": 0,\n        \"min\": 0,\n        \"max\": 7,\n        \"num_unique_values\": 8,\n        \"samples\": [\n          1,\n          6,\n          2\n        ],\n        \"semantic_type\": \"\",\n        \"description\": \"\"\n      }\n    },\n    {\n      \"column\": \"number of week nights\",\n      \"properties\": {\n        \"dtype\": \"number\",\n        \"std\": 1,\n        \"min\": 0,\n        \"max\": 17,\n        \"num_unique_values\": 18,\n        \"samples\": [\n          5,\n          3,\n          11\n        ],\n        \"semantic_type\": \"\",\n        \"description\": \"\"\n      }\n    },\n    {\n      \"column\": \"type of meal\",\n      \"properties\": {\n        \"dtype\": \"category\",\n        \"num_unique_values\": 4,\n        \"samples\": [\n          \"Not Selected\",\n          \"Meal Plan 3\",\n          \"Meal Plan 1\"\n        ],\n        \"semantic_type\": \"\",\n        \"description\": \"\"\n      }\n    },\n    {\n      \"column\": \"car parking space\",\n      \"properties\": {\n        \"dtype\": \"number\",\n        \"std\": 0,\n        \"min\": 0,\n        \"max\": 1,\n        \"num_unique_values\": 2,\n        \"samples\": [\n          1,\n          0\n        ],\n        \"semantic_type\": \"\",\n        \"description\": \"\"\n      }\n    },\n    {\n      \"column\": \"room type\",\n      \"properties\": {\n        \"dtype\": \"category\",\n        \"num_unique_values\": 7,\n        \"samples\": [\n          \"Room_Type 1\",\n          \"Room_Type 4\"\n        ],\n        \"semantic_type\": \"\",\n        \"description\": \"\"\n      }\n    },\n    {\n      \"column\": \"lead time\",\n      \"properties\": {\n        \"dtype\": \"number\",\n        \"std\": 85,\n        \"min\": 0,\n        \"max\": 443,\n        \"num_unique_values\": 352,\n        \"samples\": [\n          176,\n          81\n        ],\n        \"semantic_type\": \"\",\n        \"description\": \"\"\n      }\n    },\n    {\n      \"column\": \"market segment type\",\n      \"properties\": {\n        \"dtype\": \"category\",\n        \"num_unique_values\": 5,\n        \"samples\": [\n          \"Online\",\n          \"Complementary\"\n        ],\n        \"semantic_type\": \"\",\n        \"description\": \"\"\n      }\n    },\n    {\n      \"column\": \"repeated\",\n      \"properties\": {\n        \"dtype\": \"number\",\n        \"std\": 0,\n        \"min\": 0,\n        \"max\": 1,\n        \"num_unique_values\": 2,\n        \"samples\": [\n          1,\n          0\n        ],\n        \"semantic_type\": \"\",\n        \"description\": \"\"\n      }\n    },\n    {\n      \"column\": \"P-C\",\n      \"properties\": {\n        \"dtype\": \"number\",\n        \"std\": 0,\n        \"min\": 0,\n        \"max\": 13,\n        \"num_unique_values\": 9,\n        \"samples\": [\n          13,\n          3\n        ],\n        \"semantic_type\": \"\",\n        \"description\": \"\"\n      }\n    },\n    {\n      \"column\": \"P-not-C\",\n      \"properties\": {\n        \"dtype\": \"number\",\n        \"std\": 1,\n        \"min\": 0,\n        \"max\": 58,\n        \"num_unique_values\": 59,\n        \"samples\": [\n          0,\n          12\n        ],\n        \"semantic_type\": \"\",\n        \"description\": \"\"\n      }\n    },\n    {\n      \"column\": \"average price \",\n      \"properties\": {\n        \"dtype\": \"number\",\n        \"std\": 35.08646941276667,\n        \"min\": 0.0,\n        \"max\": 540.0,\n        \"num_unique_values\": 3930,\n        \"samples\": [\n          198.68,\n          170.63\n        ],\n        \"semantic_type\": \"\",\n        \"description\": \"\"\n      }\n    },\n    {\n      \"column\": \"special requests\",\n      \"properties\": {\n        \"dtype\": \"number\",\n        \"std\": 0,\n        \"min\": 0,\n        \"max\": 5,\n        \"num_unique_values\": 6,\n        \"samples\": [\n          0,\n          1\n        ],\n        \"semantic_type\": \"\",\n        \"description\": \"\"\n      }\n    },\n    {\n      \"column\": \"date of reservation\",\n      \"properties\": {\n        \"dtype\": \"category\",\n        \"num_unique_values\": 553,\n        \"samples\": [\n          \"7/3/2017\",\n          \"3/18/2018\"\n        ],\n        \"semantic_type\": \"\",\n        \"description\": \"\"\n      }\n    },\n    {\n      \"column\": \"booking status\",\n      \"properties\": {\n        \"dtype\": \"category\",\n        \"num_unique_values\": 2,\n        \"samples\": [\n          \"Canceled\",\n          \"Not_Canceled\"\n        ],\n        \"semantic_type\": \"\",\n        \"description\": \"\"\n      }\n    }\n  ]\n}"
            }
          },
          "metadata": {},
          "execution_count": 4
        }
      ],
      "source": [
        "df.head()"
      ]
    },
    {
      "cell_type": "markdown",
      "metadata": {
        "id": "OzaaZYycIA-O"
      },
      "source": [
        "### Checking for Null Values"
      ]
    },
    {
      "cell_type": "code",
      "execution_count": null,
      "metadata": {
        "colab": {
          "base_uri": "https://localhost:8080/",
          "height": 617
        },
        "id": "BTGsiwZvD97o",
        "outputId": "8fd2d5f8-723f-46e8-f8b3-1531dfac83a0"
      },
      "outputs": [
        {
          "output_type": "execute_result",
          "data": {
            "text/plain": [
              "Booking_ID                  0\n",
              "number of adults            0\n",
              "number of children          0\n",
              "number of weekend nights    0\n",
              "number of week nights       0\n",
              "type of meal                0\n",
              "car parking space           0\n",
              "room type                   0\n",
              "lead time                   0\n",
              "market segment type         0\n",
              "repeated                    0\n",
              "P-C                         0\n",
              "P-not-C                     0\n",
              "average price               0\n",
              "special requests            0\n",
              "date of reservation         0\n",
              "booking status              0\n",
              "dtype: int64"
            ],
            "text/html": [
              "<div>\n",
              "<style scoped>\n",
              "    .dataframe tbody tr th:only-of-type {\n",
              "        vertical-align: middle;\n",
              "    }\n",
              "\n",
              "    .dataframe tbody tr th {\n",
              "        vertical-align: top;\n",
              "    }\n",
              "\n",
              "    .dataframe thead th {\n",
              "        text-align: right;\n",
              "    }\n",
              "</style>\n",
              "<table border=\"1\" class=\"dataframe\">\n",
              "  <thead>\n",
              "    <tr style=\"text-align: right;\">\n",
              "      <th></th>\n",
              "      <th>0</th>\n",
              "    </tr>\n",
              "  </thead>\n",
              "  <tbody>\n",
              "    <tr>\n",
              "      <th>Booking_ID</th>\n",
              "      <td>0</td>\n",
              "    </tr>\n",
              "    <tr>\n",
              "      <th>number of adults</th>\n",
              "      <td>0</td>\n",
              "    </tr>\n",
              "    <tr>\n",
              "      <th>number of children</th>\n",
              "      <td>0</td>\n",
              "    </tr>\n",
              "    <tr>\n",
              "      <th>number of weekend nights</th>\n",
              "      <td>0</td>\n",
              "    </tr>\n",
              "    <tr>\n",
              "      <th>number of week nights</th>\n",
              "      <td>0</td>\n",
              "    </tr>\n",
              "    <tr>\n",
              "      <th>type of meal</th>\n",
              "      <td>0</td>\n",
              "    </tr>\n",
              "    <tr>\n",
              "      <th>car parking space</th>\n",
              "      <td>0</td>\n",
              "    </tr>\n",
              "    <tr>\n",
              "      <th>room type</th>\n",
              "      <td>0</td>\n",
              "    </tr>\n",
              "    <tr>\n",
              "      <th>lead time</th>\n",
              "      <td>0</td>\n",
              "    </tr>\n",
              "    <tr>\n",
              "      <th>market segment type</th>\n",
              "      <td>0</td>\n",
              "    </tr>\n",
              "    <tr>\n",
              "      <th>repeated</th>\n",
              "      <td>0</td>\n",
              "    </tr>\n",
              "    <tr>\n",
              "      <th>P-C</th>\n",
              "      <td>0</td>\n",
              "    </tr>\n",
              "    <tr>\n",
              "      <th>P-not-C</th>\n",
              "      <td>0</td>\n",
              "    </tr>\n",
              "    <tr>\n",
              "      <th>average price</th>\n",
              "      <td>0</td>\n",
              "    </tr>\n",
              "    <tr>\n",
              "      <th>special requests</th>\n",
              "      <td>0</td>\n",
              "    </tr>\n",
              "    <tr>\n",
              "      <th>date of reservation</th>\n",
              "      <td>0</td>\n",
              "    </tr>\n",
              "    <tr>\n",
              "      <th>booking status</th>\n",
              "      <td>0</td>\n",
              "    </tr>\n",
              "  </tbody>\n",
              "</table>\n",
              "</div><br><label><b>dtype:</b> int64</label>"
            ]
          },
          "metadata": {},
          "execution_count": 5
        }
      ],
      "source": [
        "df.isnull().sum()"
      ]
    },
    {
      "cell_type": "markdown",
      "metadata": {
        "id": "dgUqh78-IIYs"
      },
      "source": [
        "### Checking for white spaces in the dataframe entries"
      ]
    },
    {
      "cell_type": "code",
      "execution_count": null,
      "metadata": {
        "colab": {
          "base_uri": "https://localhost:8080/",
          "height": 652
        },
        "id": "Tpy84gmgEI8R",
        "outputId": "eaf472d2-0420-452c-8264-ccaf2567a70c"
      },
      "outputs": [
        {
          "output_type": "stream",
          "name": "stderr",
          "text": [
            "<ipython-input-6-0f5eb4365963>:1: FutureWarning: DataFrame.applymap has been deprecated. Use DataFrame.map instead.\n",
            "  df.applymap(lambda x: x == ' ' if isinstance(x, str) else False).sum()\n"
          ]
        },
        {
          "output_type": "execute_result",
          "data": {
            "text/plain": [
              "Booking_ID                  0\n",
              "number of adults            0\n",
              "number of children          0\n",
              "number of weekend nights    0\n",
              "number of week nights       0\n",
              "type of meal                0\n",
              "car parking space           0\n",
              "room type                   0\n",
              "lead time                   0\n",
              "market segment type         0\n",
              "repeated                    0\n",
              "P-C                         0\n",
              "P-not-C                     0\n",
              "average price               0\n",
              "special requests            0\n",
              "date of reservation         0\n",
              "booking status              0\n",
              "dtype: int64"
            ],
            "text/html": [
              "<div>\n",
              "<style scoped>\n",
              "    .dataframe tbody tr th:only-of-type {\n",
              "        vertical-align: middle;\n",
              "    }\n",
              "\n",
              "    .dataframe tbody tr th {\n",
              "        vertical-align: top;\n",
              "    }\n",
              "\n",
              "    .dataframe thead th {\n",
              "        text-align: right;\n",
              "    }\n",
              "</style>\n",
              "<table border=\"1\" class=\"dataframe\">\n",
              "  <thead>\n",
              "    <tr style=\"text-align: right;\">\n",
              "      <th></th>\n",
              "      <th>0</th>\n",
              "    </tr>\n",
              "  </thead>\n",
              "  <tbody>\n",
              "    <tr>\n",
              "      <th>Booking_ID</th>\n",
              "      <td>0</td>\n",
              "    </tr>\n",
              "    <tr>\n",
              "      <th>number of adults</th>\n",
              "      <td>0</td>\n",
              "    </tr>\n",
              "    <tr>\n",
              "      <th>number of children</th>\n",
              "      <td>0</td>\n",
              "    </tr>\n",
              "    <tr>\n",
              "      <th>number of weekend nights</th>\n",
              "      <td>0</td>\n",
              "    </tr>\n",
              "    <tr>\n",
              "      <th>number of week nights</th>\n",
              "      <td>0</td>\n",
              "    </tr>\n",
              "    <tr>\n",
              "      <th>type of meal</th>\n",
              "      <td>0</td>\n",
              "    </tr>\n",
              "    <tr>\n",
              "      <th>car parking space</th>\n",
              "      <td>0</td>\n",
              "    </tr>\n",
              "    <tr>\n",
              "      <th>room type</th>\n",
              "      <td>0</td>\n",
              "    </tr>\n",
              "    <tr>\n",
              "      <th>lead time</th>\n",
              "      <td>0</td>\n",
              "    </tr>\n",
              "    <tr>\n",
              "      <th>market segment type</th>\n",
              "      <td>0</td>\n",
              "    </tr>\n",
              "    <tr>\n",
              "      <th>repeated</th>\n",
              "      <td>0</td>\n",
              "    </tr>\n",
              "    <tr>\n",
              "      <th>P-C</th>\n",
              "      <td>0</td>\n",
              "    </tr>\n",
              "    <tr>\n",
              "      <th>P-not-C</th>\n",
              "      <td>0</td>\n",
              "    </tr>\n",
              "    <tr>\n",
              "      <th>average price</th>\n",
              "      <td>0</td>\n",
              "    </tr>\n",
              "    <tr>\n",
              "      <th>special requests</th>\n",
              "      <td>0</td>\n",
              "    </tr>\n",
              "    <tr>\n",
              "      <th>date of reservation</th>\n",
              "      <td>0</td>\n",
              "    </tr>\n",
              "    <tr>\n",
              "      <th>booking status</th>\n",
              "      <td>0</td>\n",
              "    </tr>\n",
              "  </tbody>\n",
              "</table>\n",
              "</div><br><label><b>dtype:</b> int64</label>"
            ]
          },
          "metadata": {},
          "execution_count": 6
        }
      ],
      "source": [
        "df.applymap(lambda x: x == ' ' if isinstance(x, str) else False).sum()"
      ]
    },
    {
      "cell_type": "markdown",
      "metadata": {
        "id": "_xVoPjGhJ9ID"
      },
      "source": [
        "### Check for duplicates"
      ]
    },
    {
      "cell_type": "code",
      "execution_count": null,
      "metadata": {
        "colab": {
          "base_uri": "https://localhost:8080/"
        },
        "id": "3Sp4ZEzMG8uB",
        "outputId": "67886776-d950-410b-ff5c-8688dc9401f1"
      },
      "outputs": [
        {
          "output_type": "execute_result",
          "data": {
            "text/plain": [
              "0"
            ]
          },
          "metadata": {},
          "execution_count": 7
        }
      ],
      "source": [
        "df.duplicated().sum()"
      ]
    },
    {
      "cell_type": "code",
      "execution_count": null,
      "metadata": {
        "colab": {
          "base_uri": "https://localhost:8080/"
        },
        "id": "9gZxjP9bKvyN",
        "outputId": "d8a89ba6-d96c-4e97-d958-7d5e8c0ec200"
      },
      "outputs": [
        {
          "output_type": "stream",
          "name": "stdout",
          "text": [
            "<class 'pandas.core.frame.DataFrame'>\n",
            "RangeIndex: 36285 entries, 0 to 36284\n",
            "Data columns (total 17 columns):\n",
            " #   Column                    Non-Null Count  Dtype  \n",
            "---  ------                    --------------  -----  \n",
            " 0   Booking_ID                36285 non-null  object \n",
            " 1   number of adults          36285 non-null  int64  \n",
            " 2   number of children        36285 non-null  int64  \n",
            " 3   number of weekend nights  36285 non-null  int64  \n",
            " 4   number of week nights     36285 non-null  int64  \n",
            " 5   type of meal              36285 non-null  object \n",
            " 6   car parking space         36285 non-null  int64  \n",
            " 7   room type                 36285 non-null  object \n",
            " 8   lead time                 36285 non-null  int64  \n",
            " 9   market segment type       36285 non-null  object \n",
            " 10  repeated                  36285 non-null  int64  \n",
            " 11  P-C                       36285 non-null  int64  \n",
            " 12  P-not-C                   36285 non-null  int64  \n",
            " 13  average price             36285 non-null  float64\n",
            " 14  special requests          36285 non-null  int64  \n",
            " 15  date of reservation       36285 non-null  object \n",
            " 16  booking status            36285 non-null  object \n",
            "dtypes: float64(1), int64(10), object(6)\n",
            "memory usage: 4.7+ MB\n"
          ]
        }
      ],
      "source": [
        "df.info()"
      ]
    },
    {
      "cell_type": "code",
      "execution_count": null,
      "metadata": {
        "colab": {
          "base_uri": "https://localhost:8080/"
        },
        "id": "Mlor85dsMII4",
        "outputId": "a9ec2836-81ea-49fa-d811-a93af94c90f5"
      },
      "outputs": [
        {
          "output_type": "execute_result",
          "data": {
            "text/plain": [
              "['Booking_ID',\n",
              " 'number of adults',\n",
              " 'number of children',\n",
              " 'number of weekend nights',\n",
              " 'number of week nights',\n",
              " 'type of meal',\n",
              " 'car parking space',\n",
              " 'room type',\n",
              " 'lead time',\n",
              " 'market segment type',\n",
              " 'repeated',\n",
              " 'P-C',\n",
              " 'P-not-C',\n",
              " 'average price ',\n",
              " 'special requests',\n",
              " 'date of reservation',\n",
              " 'booking status']"
            ]
          },
          "metadata": {},
          "execution_count": 9
        }
      ],
      "source": [
        "Data_Headings = list(df.columns)\n",
        "Data_Headings"
      ]
    },
    {
      "cell_type": "code",
      "execution_count": null,
      "metadata": {
        "colab": {
          "base_uri": "https://localhost:8080/"
        },
        "id": "8nj4d-fGMa6z",
        "outputId": "380a2e2b-254c-4ad2-fcca-a25603af9025"
      },
      "outputs": [
        {
          "output_type": "stream",
          "name": "stdout",
          "text": [
            "Booking_ID: ['INN00001' 'INN00002' 'INN00003' ... 'INN36284' 'INN36285' 'INN36286']\n",
            "number of adults: [1 2 3 0 4]\n",
            "number of children: [ 1  0  2  3 10  9]\n",
            "number of weekend nights: [2 1 0 4 3 6 5 7]\n",
            "number of week nights: [ 5  3  2  4  0  1 10  6 11  7 15  9 13  8 14 12 17 16]\n",
            "type of meal: ['Meal Plan 1' 'Not Selected' 'Meal Plan 2' 'Meal Plan 3']\n",
            "car parking space: [0 1]\n",
            "room type: ['Room_Type 1' 'Room_Type 4' 'Room_Type 2' 'Room_Type 6' 'Room_Type 5'\n",
            " 'Room_Type 7' 'Room_Type 3']\n",
            "lead time: [224   5   1 211  48 346  34  83 121  44   0  35  30  95  47 256  99  12\n",
            " 122   2  37 130  60  56   3 107  72  23 289 247 186  64  96  41  55 146\n",
            "  32  57   7 124 169   6  51  13 100 139 117  39  86  19 192 179  26  74\n",
            " 143 177  18 267 155  46 128  20  40 196 188  17 110  68  73  92 171 134\n",
            " 320 118 189  16  24   8  10 182 116 123 105 443 317 286 148  14  85  25\n",
            "  28  80  11 162  82  27 245 266 112  88  69 273   4  97  31  62 197 280\n",
            " 185 160 104  22 292 109 126 303  81  54  15 161 147  87 127 418 156  58\n",
            " 433 111 195 119  59  78 335 103  70  76 144  49  77  36  79  21  33 164\n",
            " 152  43 102  71 209  93  53 302 239  45 167 113  84   9 166 174  61 151\n",
            "  52  67 282  38 175  89 133  65  66  50 159 386 115 237 125  91  29 221\n",
            " 213 198  75 180 236 120 230  63 136 309 157 268 217  94 305  98  42 154\n",
            " 330 137 184 232 304 114 257 265 191 101 259 149 170 271 207 108 210 222\n",
            " 296 194 145 153 275 158 301 349 200 315 181 263 176 141 270 150 359 244\n",
            " 219 142 138 276 178 163 377 290 216 226 258 254 193 131 208 215 190 381\n",
            " 231 248 106 308 140 173 168 172  90 249 205 129 212 135 220 277 253 132\n",
            " 183 255 223 336 288 229 319 199 203 228 246 235 294 281 202 361 287 291\n",
            " 313 206 269 279 261 214 274 250 187 240 241 323 322 227 225 233 338 283\n",
            " 327 204 352 165 251 299 314 285 238 328 278 332 243 201 307 272 252 242\n",
            " 284 297 324 260 262 326 295 218 234 353 300 355 306 298 331 341 318 333\n",
            " 372 311 310 345 264 325 293 348 350 351]\n",
            "market segment type: ['Offline' 'Online' 'Corporate' 'Aviation' 'Complementary']\n",
            "repeated: [0 1]\n",
            "P-C: [ 0  3  1  2 11  4  5 13  6]\n",
            "P-not-C: [ 0  5  1  3  4 12 19  2 15 17  7 20 16 50 13  6 14 34 18  8 10 23 11 49\n",
            " 47 53  9 33 22 24 52 21 48 28 39 25 31 38 26 51 42 37 35 56 44 27 32 55\n",
            " 45 30 57 46 54 43 58 41 29 40 36]\n",
            "average price : [ 88.   106.68  50.   ... 118.43 137.25 167.8 ]\n",
            "special requests: [0 1 3 2 4 5]\n",
            "date of reservation: ['10/2/2015' '11/6/2018' '2/28/2018' '5/20/2017' '4/11/2018' '9/13/2016'\n",
            " '10/15/2017' '12/26/2018' '7/6/2018' '10/18/2018' '9/11/2018' '4/30/2018'\n",
            " '11/26/2018' '11/20/2018' '10/20/2017' '6/15/2018' '10/5/2017'\n",
            " '8/10/2017' '10/30/2017' '10/4/2017' '11/25/2018' '3/20/2018'\n",
            " '10/13/2018' '5/22/2018' '4/28/2018' '9/21/2017' '5/19/2018' '11/6/2017'\n",
            " '9/17/2017' '9/19/2017' '11/13/2018' '12/7/2018' '1/9/2018' '10/7/2018'\n",
            " '4/27/2018' '6/19/2018' '10/17/2017' '11/19/2018' '7/30/2018' '11/1/2018'\n",
            " '6/21/2018' '4/10/2018' '6/27/2018' '11/18/2017' '12/29/2017'\n",
            " '11/20/2017' '4/6/2018' '12/29/2018' '5/30/2018' '4/22/2018' '5/16/2018'\n",
            " '11/11/2017' '6/13/2018' '7/28/2018' '4/20/2018' '9/2/2018' '5/3/2018'\n",
            " '6/24/2018' '9/10/2017' '12/18/2018' '10/5/2018' '6/3/2018' '4/15/2018'\n",
            " '4/25/2018' '8/25/2018' '11/14/2018' '8/29/2018' '10/25/2017' '3/9/2018'\n",
            " '12/31/2018' '6/28/2018' '3/29/2018' '4/1/2018' '10/11/2018' '12/25/2018'\n",
            " '3/14/2018' '3/4/2018' '10/17/2018' '9/4/2018' '12/10/2018' '8/9/2018'\n",
            " '5/5/2018' '3/18/2018' '4/9/2018' '8/30/2018' '8/4/2018' '8/18/2018'\n",
            " '4/13/2018' '11/17/2018' '12/22/2018' '10/23/2018' '5/13/2018'\n",
            " '12/13/2018' '10/31/2017' '10/8/2017' '2/16/2018' '11/2/2017' '6/30/2018'\n",
            " '9/5/2017' '9/30/2018' '6/16/2018' '6/26/2018' '8/13/2018' '11/12/2018'\n",
            " '4/29/2018' '11/14/2017' '9/1/2018' '9/16/2018' '3/10/2018' '4/24/2018'\n",
            " '3/30/2018' '11/3/2018' '10/14/2018' '6/5/2018' '7/13/2018' '10/20/2018'\n",
            " '12/28/2018' '10/19/2017' '10/9/2017' '7/25/2018' '5/9/2018' '6/17/2018'\n",
            " '11/18/2018' '10/30/2018' '3/28/2018' '6/1/2018' '5/4/2018' '4/8/2018'\n",
            " '6/8/2018' '4/7/2018' '5/2/2018' '9/29/2018' '4/4/2018' '7/17/2017'\n",
            " '5/24/2018' '2/17/2018' '4/14/2018' '4/17/2018' '8/1/2018' '7/12/2018'\n",
            " '1/2/2018' '11/16/2018' '9/19/2018' '9/13/2017' '9/15/2018' '12/16/2018'\n",
            " '11/5/2018' '3/22/2018' '8/17/2018' '5/20/2018' '10/24/2017' '7/21/2018'\n",
            " '9/9/2017' '3/31/2018' '4/2/2018' '8/22/2018' '8/8/2018' '8/15/2018'\n",
            " '8/19/2018' '10/10/2018' '10/6/2018' '3/25/2018' '8/3/2018' '9/11/2017'\n",
            " '3/23/2018' '9/26/2018' '8/24/2018' '7/16/2017' '9/8/2018' '8/21/2018'\n",
            " '12/3/2018' '2/27/2018' '9/22/2017' '7/18/2018' '12/5/2018' '8/22/2017'\n",
            " '3/1/2018' '9/5/2018' '6/10/2018' '5/27/2018' '2/5/2018' '5/7/2018'\n",
            " '5/12/2018' '10/28/2018' '10/18/2017' '8/14/2017' '12/2/2018' '9/3/2017'\n",
            " '9/14/2018' '2/8/2018' '10/2/2017' '3/24/2018' '5/31/2018' '11/9/2017'\n",
            " '7/26/2018' '5/21/2018' '9/7/2018' '11/15/2017' '9/16/2017' '10/16/2017'\n",
            " '7/23/2018' '6/11/2018' '1/16/2018' '9/14/2017' '10/15/2018' '9/2/2017'\n",
            " '8/12/2017' '8/23/2017' '3/11/2018' '8/28/2018' '12/9/2018' '6/12/2018'\n",
            " '3/5/2018' '8/18/2017' '4/21/2018' '6/18/2018' '8/10/2018' '3/17/2018'\n",
            " '8/8/2017' '5/1/2018' '4/3/2018' '9/4/2017' '12/27/2017' '2/20/2018'\n",
            " '9/30/2017' '12/26/2017' '7/9/2018' '6/6/2018' '7/17/2018' '2/22/2018'\n",
            " '7/8/2018' '11/11/2018' '10/6/2017' '8/11/2017' '7/25/2017' '12/15/2017'\n",
            " '10/23/2017' '10/10/2017' '10/2/2018' '9/8/2017' '12/21/2018'\n",
            " '11/10/2018' '2/24/2018' '7/1/2018' '7/5/2018' '7/11/2018' '5/14/2018'\n",
            " '10/22/2018' '9/18/2018' '9/3/2018' '9/22/2018' '11/19/2017' '7/10/2018'\n",
            " '9/25/2017' '10/4/2018' '10/27/2018' '3/3/2018' '9/13/2018' '9/15/2017'\n",
            " '2/19/2018' '9/28/2018' '8/12/2018' '10/1/2018' '9/9/2018' '1/29/2018'\n",
            " '8/6/2018' '11/4/2018' '5/29/2018' '1/20/2018' '12/7/2017' '4/5/2018'\n",
            " '7/2/2018' '9/27/2018' '10/21/2017' '9/6/2018' '3/16/2018' '10/24/2018'\n",
            " '5/11/2018' '10/13/2017' '10/16/2018' '10/31/2018' '9/18/2017'\n",
            " '6/23/2018' '8/26/2017' '7/4/2018' '12/8/2018' '12/9/2017' '10/19/2018'\n",
            " '10/22/2017' '3/8/2018' '2/11/2018' '11/23/2018' '6/7/2018' '4/23/2018'\n",
            " '10/21/2018' '12/5/2017' '10/14/2017' '12/24/2017' '6/14/2018' '2/4/2018'\n",
            " '12/17/2017' '8/31/2018' '10/7/2017' '11/29/2018' '11/2/2018' '3/19/2018'\n",
            " '2/3/2018' '4/26/2018' '12/30/2017' '10/3/2018' '6/25/2018' '7/1/2017'\n",
            " '9/6/2017' '12/30/2018' '1/6/2018' '3/13/2018' '6/29/2018' '7/27/2017'\n",
            " '6/20/2018' '2/26/2018' '10/1/2017' '7/14/2018' '7/27/2018' '9/7/2017'\n",
            " '8/25/2017' '2/6/2018' '1/8/2018' '10/26/2018' '11/23/2017' '3/7/2018'\n",
            " '9/20/2018' '1/28/2018' '2/25/2018' '3/21/2018' '12/14/2018' '3/15/2018'\n",
            " '12/23/2018' '7/11/2017' '10/12/2018' '8/9/2017' '2/14/2018' '2/13/2018'\n",
            " '2/15/2018' '4/16/2018' '3/2/2018' '8/14/2018' '12/1/2017' '9/21/2018'\n",
            " '1/3/2018' '5/6/2018' '6/2/2018' '4/12/2018' '12/27/2018' '6/4/2018'\n",
            " '5/25/2018' '12/24/2018' '12/6/2017' '7/19/2018' '11/10/2017'\n",
            " '12/11/2017' '5/26/2018' '1/4/2018' '9/12/2018' '11/3/2017' '2/21/2018'\n",
            " '8/20/2017' '8/19/2017' '10/28/2017' '5/8/2018' '2/12/2018' '2/7/2018'\n",
            " '7/18/2017' '9/20/2017' '9/24/2017' '1/15/2018' '5/10/2018' '8/27/2017'\n",
            " '1/14/2018' '9/23/2018' '8/5/2017' '10/3/2017' '8/20/2018' '10/29/2017'\n",
            " '10/29/2018' '9/10/2018' '8/30/2017' '6/22/2018' '12/4/2017' '8/3/2017'\n",
            " '11/7/2018' '7/3/2018' '12/6/2018' '2/1/2018' '8/2/2018' '12/12/2018'\n",
            " '9/1/2017' '12/10/2017' '1/27/2018' '4/19/2018' '7/16/2018' '7/5/2017'\n",
            " '8/16/2018' '1/25/2018' '7/15/2018' '8/15/2017' '10/12/2017' '9/29/2017'\n",
            " '1/24/2018' '3/27/2018' '8/17/2017' '8/21/2017' '12/31/2017' '11/9/2018'\n",
            " '7/6/2017' '11/8/2018' '7/22/2018' '5/18/2018' '8/27/2018' '11/21/2018'\n",
            " '10/9/2018' '3/6/2018' '9/17/2018' '1/19/2018' '11/15/2018' '12/3/2017'\n",
            " '9/25/2018' '7/7/2018' '4/18/2018' '5/17/2018' '11/27/2018' '10/25/2018'\n",
            " '10/8/2018' '3/26/2018' '11/5/2017' '1/30/2018' '11/8/2017' '6/9/2018'\n",
            " '7/29/2018' '11/28/2017' '12/4/2018' '8/28/2017' '12/18/2017' '9/12/2017'\n",
            " '7/7/2017' '1/7/2018' '11/22/2018' '9/28/2017' '8/29/2017' '8/26/2018'\n",
            " '8/6/2017' '3/12/2018' '2/9/2018' '7/24/2018' '12/22/2017' '11/30/2017'\n",
            " '8/7/2018' '5/15/2018' '12/20/2018' '8/1/2017' '11/1/2017' '12/19/2017'\n",
            " '12/20/2017' '5/23/2018' '11/4/2017' '7/23/2017' '11/13/2017' '7/20/2018'\n",
            " '7/31/2018' '12/11/2018' '12/17/2018' '1/31/2018' '2/23/2018' '12/1/2018'\n",
            " '1/10/2018' '8/24/2017' '2/10/2018' '11/24/2018' '5/28/2018' '9/24/2018'\n",
            " '1/22/2018' '11/27/2017' '11/16/2017' '1/5/2018' '1/13/2018' '8/5/2018'\n",
            " '11/28/2018' '12/23/2017' '1/26/2018' '11/25/2017' '12/16/2017'\n",
            " '1/21/2018' '12/19/2018' '12/15/2018' '11/12/2017' '8/23/2018'\n",
            " '2018-2-29' '11/17/2017' '11/30/2018' '8/4/2017' '10/11/2017' '8/11/2018'\n",
            " '8/7/2017' '1/18/2018' '11/7/2017' '1/12/2018' '9/23/2017' '7/29/2017'\n",
            " '8/31/2017' '7/13/2017' '11/29/2017' '7/15/2017' '12/28/2017'\n",
            " '11/26/2017' '2/2/2018' '8/13/2017' '10/26/2017' '7/9/2017' '2/18/2018'\n",
            " '11/21/2017' '11/24/2017' '10/27/2017' '1/23/2018' '1/1/2018'\n",
            " '12/25/2017' '12/2/2017' '11/22/2017' '12/12/2017' '9/27/2017'\n",
            " '1/17/2018' '12/13/2017' '12/8/2017' '7/31/2017' '8/16/2017' '7/10/2017'\n",
            " '12/14/2017' '9/26/2017' '7/2/2017' '7/4/2017' '7/26/2017' '1/11/2018'\n",
            " '7/30/2017' '12/21/2017' '7/8/2017' '7/20/2017' '7/22/2017' '7/28/2017'\n",
            " '7/24/2017' '7/12/2017' '7/3/2017' '7/19/2017' '7/14/2017' '8/2/2017'\n",
            " '7/21/2017']\n",
            "booking status: ['Not_Canceled' 'Canceled']\n"
          ]
        }
      ],
      "source": [
        "for col in Data_Headings:\n",
        "    print(f'{col}: {df[col].unique()}')"
      ]
    },
    {
      "cell_type": "code",
      "execution_count": null,
      "metadata": {
        "colab": {
          "base_uri": "https://localhost:8080/"
        },
        "id": "kU3TYxBzPozt",
        "outputId": "13055758-bb2b-4f2c-b220-a65ff14430b5"
      },
      "outputs": [
        {
          "output_type": "execute_result",
          "data": {
            "text/plain": [
              "Index(['number of adults', 'number of children', 'number of weekend nights',\n",
              "       'number of week nights', 'car parking space', 'lead time', 'repeated',\n",
              "       'P-C', 'P-not-C', 'average price ', 'special requests'],\n",
              "      dtype='object')"
            ]
          },
          "metadata": {},
          "execution_count": 11
        }
      ],
      "source": [
        "Numerical_Headings = df.select_dtypes(include=np.number).columns\n",
        "Numerical_Headings"
      ]
    },
    {
      "cell_type": "markdown",
      "metadata": {
        "id": "-ut5dPnLdH0g"
      },
      "source": [
        "### Box Plot"
      ]
    },
    {
      "cell_type": "code",
      "execution_count": null,
      "metadata": {
        "colab": {
          "base_uri": "https://localhost:8080/",
          "height": 1000
        },
        "id": "uoU58rulQYet",
        "outputId": "f1f49b0c-adf7-4c30-e170-3d4df33c8f19"
      },
      "outputs": [
        {
          "output_type": "display_data",
          "data": {
            "text/plain": [
              "<Figure size 640x480 with 1 Axes>"
            ],
            "image/png": "[encoded data removed]"
          },
          "metadata": {}
        },
        {
          "output_type": "display_data",
          "data": {
            "text/plain": [
              "<Figure size 640x480 with 1 Axes>"
            ],
            "image/png": "[encoded data removed]"
          },
          "metadata": {}
        },
        {
          "output_type": "display_data",
          "data": {
            "text/plain": [
              "<Figure size 640x480 with 1 Axes>"
            ],
            "image/png": "[encoded data removed]"
          },
          "metadata": {}
        },
        {
          "output_type": "display_data",
          "data": {
            "text/plain": [
              "<Figure size 640x480 with 1 Axes>"
            ],
            "image/png": "[encoded data removed]"
          },
          "metadata": {}
        },
        {
          "output_type": "display_data",
          "data": {
            "text/plain": [
              "<Figure size 640x480 with 1 Axes>"
            ],
            "image/png": "[encoded data removed]"
          },
          "metadata": {}
        },
        {
          "output_type": "display_data",
          "data": {
            "text/plain": [
              "<Figure size 640x480 with 1 Axes>"
            ],
            "image/png": "[encoded data removed]"
          },
          "metadata": {}
        },
        {
          "output_type": "display_data",
          "data": {
            "text/plain": [
              "<Figure size 640x480 with 1 Axes>"
            ],
            "image/png": "[encoded data removed]"
          },
          "metadata": {}
        },
        {
          "output_type": "display_data",
          "data": {
            "text/plain": [
              "<Figure size 640x480 with 1 Axes>"
            ],
            "image/png": "[encoded data removed]"
          },
          "metadata": {}
        },
        {
          "output_type": "display_data",
          "data": {
            "text/plain": [
              "<Figure size 640x480 with 1 Axes>"
            ],
            "image/png": "[encoded data removed]"
          },
          "metadata": {}
        },
        {
          "output_type": "display_data",
          "data": {
            "text/plain": [
              "<Figure size 640x480 with 1 Axes>"
            ],
            "image/png": "[encoded data removed]"
          },
          "metadata": {}
        },
        {
          "output_type": "display_data",
          "data": {
            "text/plain": [
              "<Figure size 640x480 with 1 Axes>"
            ],
            "image/png": "[encoded data removed]"
          },
          "metadata": {}
        }
      ],
      "source": [
        "for col in Numerical_Headings:\n",
        "  plt.boxplot(df[col], vert=False)\n",
        "  plt.title(col)\n",
        "  plt.show()"
      ]
    },
    {
      "cell_type": "markdown",
      "metadata": {
        "id": "fA3aoLYac-5_"
      },
      "source": [
        "### Eliminating the outliers"
      ]
    },
    {
      "cell_type": "code",
      "execution_count": null,
      "metadata": {
        "id": "BFnvNtPQdCIT"
      },
      "outputs": [],
      "source": [
        "for col in Numerical_Headings:\n",
        "  Q1 = df[col].quantile(0.25)\n",
        "  Q3 = df[col].quantile(0.75)\n",
        "  IQR = Q3 - Q1\n",
        "\n",
        "  lower_bound = Q1 - 1.5 * IQR\n",
        "  upper_bound = Q3 + 1.5 * IQR\n",
        "\n",
        "  df = df[(df[col] >= lower_bound) & (df[col] <= upper_bound)]"
      ]
    },
    {
      "cell_type": "code",
      "execution_count": null,
      "metadata": {
        "colab": {
          "base_uri": "https://localhost:8080/",
          "height": 1000
        },
        "id": "fg85md6NJsMQ",
        "outputId": "f8441e96-cce1-4e87-b1c5-87dab10f639f"
      },
      "outputs": [
        {
          "output_type": "display_data",
          "data": {
            "text/plain": [
              "<Figure size 640x480 with 1 Axes>"
            ],
            "image/png": "[encoded data removed]"
          },
          "metadata": {}
        },
        {
          "output_type": "display_data",
          "data": {
            "text/plain": [
              "<Figure size 640x480 with 1 Axes>"
            ],
            "image/png": "[encoded data removed]"
          },
          "metadata": {}
        },
        {
          "output_type": "display_data",
          "data": {
            "text/plain": [
              "<Figure size 640x480 with 1 Axes>"
            ],
            "image/png": "[encoded data removed]"
          },
          "metadata": {}
        },
        {
          "output_type": "display_data",
          "data": {
            "text/plain": [
              "<Figure size 640x480 with 1 Axes>"
            ],
            "image/png": "[encoded data removed]"
          },
          "metadata": {}
        },
        {
          "output_type": "display_data",
          "data": {
            "text/plain": [
              "<Figure size 640x480 with 1 Axes>"
            ],
            "image/png": "[encoded data removed]"
          },
          "metadata": {}
        },
        {
          "output_type": "display_data",
          "data": {
            "text/plain": [
              "<Figure size 640x480 with 1 Axes>"
            ],
            "image/png": "[encoded data removed]"
          },
          "metadata": {}
        },
        {
          "output_type": "display_data",
          "data": {
            "text/plain": [
              "<Figure size 640x480 with 1 Axes>"
            ],
            "image/png": "[encoded data removed]"
          },
          "metadata": {}
        },
        {
          "output_type": "display_data",
          "data": {
            "text/plain": [
              "<Figure size 640x480 with 1 Axes>"
            ],
            "image/png": "[encoded data removed]"
          },
          "metadata": {}
        },
        {
          "output_type": "display_data",
          "data": {
            "text/plain": [
              "<Figure size 640x480 with 1 Axes>"
            ],
            "image/png": "[encoded data removed]"
          },
          "metadata": {}
        },
        {
          "output_type": "display_data",
          "data": {
            "text/plain": [
              "<Figure size 640x480 with 1 Axes>"
            ],
            "image/png": "[encoded data removed]"
          },
          "metadata": {}
        },
        {
          "output_type": "display_data",
          "data": {
            "text/plain": [
              "<Figure size 640x480 with 1 Axes>"
            ],
            "image/png": "[encoded data removed]"
          },
          "metadata": {}
        }
      ],
      "source": [
        "for col in Numerical_Headings:\n",
        "  plt.boxplot(df[col], vert=False)\n",
        "  plt.title(col)\n",
        "  plt.show()"
      ]
    },
    {
      "cell_type": "markdown",
      "metadata": {
        "id": "g2jwpCTWeyW2"
      },
      "source": [
        "### Converting Values Stings into Binary Values\n",
        "Not_Canceled -> 1\n",
        "\n",
        "Canceled -> 0"
      ]
    },
    {
      "cell_type": "code",
      "execution_count": null,
      "metadata": {
        "id": "viHvUKx3dy4f",
        "colab": {
          "base_uri": "https://localhost:8080/"
        },
        "outputId": "93c04041-8e59-491e-d7f8-9cef02aac609"
      },
      "outputs": [
        {
          "output_type": "stream",
          "name": "stderr",
          "text": [
            "<ipython-input-15-90ed3512c5d9>:2: FutureWarning: Downcasting behavior in `replace` is deprecated and will be removed in a future version. To retain the old behavior, explicitly call `result.infer_objects(copy=False)`. To opt-in to the future behavior, set `pd.set_option('future.no_silent_downcasting', True)`\n",
            "  df['booking status'] = df['booking status'].replace(\"Canceled\",0)\n",
            "<ipython-input-15-90ed3512c5d9>:8: FutureWarning: Downcasting behavior in `replace` is deprecated and will be removed in a future version. To retain the old behavior, explicitly call `result.infer_objects(copy=False)`. To opt-in to the future behavior, set `pd.set_option('future.no_silent_downcasting', True)`\n",
            "  df['market segment type'] = df['market segment type'].replace(\"Offline\",0)\n",
            "<ipython-input-15-90ed3512c5d9>:13: FutureWarning: Downcasting behavior in `replace` is deprecated and will be removed in a future version. To retain the old behavior, explicitly call `result.infer_objects(copy=False)`. To opt-in to the future behavior, set `pd.set_option('future.no_silent_downcasting', True)`\n",
            "  df['type of meal'] = df['type of meal'].replace('Not Selected', 0)\n",
            "<ipython-input-15-90ed3512c5d9>:21: FutureWarning: Downcasting behavior in `replace` is deprecated and will be removed in a future version. To retain the old behavior, explicitly call `result.infer_objects(copy=False)`. To opt-in to the future behavior, set `pd.set_option('future.no_silent_downcasting', True)`\n",
            "  df['room type'] = df['room type'].replace('Room_Type 1', 0)\n"
          ]
        }
      ],
      "source": [
        "df['booking status'] = df['booking status'].replace(\"Not_Canceled\",1)\n",
        "df['booking status'] = df['booking status'].replace(\"Canceled\",0)\n",
        "\n",
        "df['market segment type'] = df['market segment type'].replace(\"Complementary\",4)\n",
        "df['market segment type'] = df['market segment type'].replace(\"Aviation\",3)\n",
        "df['market segment type'] = df['market segment type'].replace(\"Corporate\",2)\n",
        "df['market segment type'] = df['market segment type'].replace(\"Online\",1)\n",
        "df['market segment type'] = df['market segment type'].replace(\"Offline\",0)\n",
        "\n",
        "df['type of meal'] = df['type of meal'].replace('Meal Plan 3', 3)\n",
        "df['type of meal'] = df['type of meal'].replace('Meal Plan 2', 2)\n",
        "df['type of meal'] = df['type of meal'].replace('Meal Plan 1', 1)\n",
        "df['type of meal'] = df['type of meal'].replace('Not Selected', 0)\n",
        "\n",
        "df['room type'] = df['room type'].replace('Room_Type 7', 6)\n",
        "df['room type'] = df['room type'].replace('Room_Type 6', 5)\n",
        "df['room type'] = df['room type'].replace('Room_Type 5', 4)\n",
        "df['room type'] = df['room type'].replace('Room_Type 4', 3)\n",
        "df['room type'] = df['room type'].replace('Room_Type 3', 2)\n",
        "df['room type'] = df['room type'].replace('Room_Type 2', 1)\n",
        "df['room type'] = df['room type'].replace('Room_Type 1', 0)"
      ]
    },
    {
      "cell_type": "code",
      "execution_count": null,
      "metadata": {
        "id": "Hpi7cDlNeniY"
      },
      "outputs": [],
      "source": [
        "df['Total Guests'] = df['number of adults'] + df['number of children']\n",
        "df['Total Number of Nights'] = df['number of week nights'] + df['number of weekend nights']"
      ]
    },
    {
      "cell_type": "code",
      "execution_count": null,
      "metadata": {
        "id": "w0o8XY12iN_A"
      },
      "outputs": [],
      "source": [
        "df = df.drop(['number of adults','number of children'], axis=1)\n",
        "df = df.drop(['Booking_ID'], axis=1)\n",
        "df = df.drop(['date of reservation'], axis=1)\n",
        "df = df.drop(['number of week nights'], axis=1)\n",
        "df = df.drop(['number of weekend nights'], axis=1)\n",
        "df = df.drop(['special requests'], axis=1)"
      ]
    },
    {
      "cell_type": "code",
      "source": [
        "df = df.drop(['P-C', 'P-not-C'], axis=1)"
      ],
      "metadata": {
        "id": "JgZa8aHO8KdV"
      },
      "execution_count": null,
      "outputs": []
    },
    {
      "cell_type": "code",
      "execution_count": null,
      "metadata": {
        "colab": {
          "base_uri": "https://localhost:8080/",
          "height": 206
        },
        "id": "7mfkMmKIi4h8",
        "outputId": "6efe323d-b130-402a-a87b-88b62e117a0c"
      },
      "outputs": [
        {
          "output_type": "execute_result",
          "data": {
            "text/plain": [
              "    type of meal  car parking space  room type  lead time  \\\n",
              "12             0                  0          0         30   \n",
              "14             1                  0          0         47   \n",
              "15             2                  0          0        256   \n",
              "17             0                  0          0          1   \n",
              "18             1                  0          0         99   \n",
              "\n",
              "    market segment type  repeated  average price   booking status  \\\n",
              "12                    1         0            88.0               0   \n",
              "14                    1         0            94.5               1   \n",
              "15                    1         0           115.0               0   \n",
              "17                    1         0            96.0               1   \n",
              "18                    1         0            65.0               0   \n",
              "\n",
              "    Total Guests  Total Number of Nights  \n",
              "12             2                       3  \n",
              "14             2                       2  \n",
              "15             2                       2  \n",
              "17             2                       4  \n",
              "18             2                       4  "
            ],
            "text/html": [
              "\n",
              "  <div id=\"df-d7546eea-0f41-4883-ae83-94348c672cb7\" class=\"colab-df-container\">\n",
              "    <div>\n",
              "<style scoped>\n",
              "    .dataframe tbody tr th:only-of-type {\n",
              "        vertical-align: middle;\n",
              "    }\n",
              "\n",
              "    .dataframe tbody tr th {\n",
              "        vertical-align: top;\n",
              "    }\n",
              "\n",
              "    .dataframe thead th {\n",
              "        text-align: right;\n",
              "    }\n",
              "</style>\n",
              "<table border=\"1\" class=\"dataframe\">\n",
              "  <thead>\n",
              "    <tr style=\"text-align: right;\">\n",
              "      <th></th>\n",
              "      <th>type of meal</th>\n",
              "      <th>car parking space</th>\n",
              "      <th>room type</th>\n",
              "      <th>lead time</th>\n",
              "      <th>market segment type</th>\n",
              "      <th>repeated</th>\n",
              "      <th>average price</th>\n",
              "      <th>booking status</th>\n",
              "      <th>Total Guests</th>\n",
              "      <th>Total Number of Nights</th>\n",
              "    </tr>\n",
              "  </thead>\n",
              "  <tbody>\n",
              "    <tr>\n",
              "      <th>12</th>\n",
              "      <td>0</td>\n",
              "      <td>0</td>\n",
              "      <td>0</td>\n",
              "      <td>30</td>\n",
              "      <td>1</td>\n",
              "      <td>0</td>\n",
              "      <td>88.0</td>\n",
              "      <td>0</td>\n",
              "      <td>2</td>\n",
              "      <td>3</td>\n",
              "    </tr>\n",
              "    <tr>\n",
              "      <th>14</th>\n",
              "      <td>1</td>\n",
              "      <td>0</td>\n",
              "      <td>0</td>\n",
              "      <td>47</td>\n",
              "      <td>1</td>\n",
              "      <td>0</td>\n",
              "      <td>94.5</td>\n",
              "      <td>1</td>\n",
              "      <td>2</td>\n",
              "      <td>2</td>\n",
              "    </tr>\n",
              "    <tr>\n",
              "      <th>15</th>\n",
              "      <td>2</td>\n",
              "      <td>0</td>\n",
              "      <td>0</td>\n",
              "      <td>256</td>\n",
              "      <td>1</td>\n",
              "      <td>0</td>\n",
              "      <td>115.0</td>\n",
              "      <td>0</td>\n",
              "      <td>2</td>\n",
              "      <td>2</td>\n",
              "    </tr>\n",
              "    <tr>\n",
              "      <th>17</th>\n",
              "      <td>0</td>\n",
              "      <td>0</td>\n",
              "      <td>0</td>\n",
              "      <td>1</td>\n",
              "      <td>1</td>\n",
              "      <td>0</td>\n",
              "      <td>96.0</td>\n",
              "      <td>1</td>\n",
              "      <td>2</td>\n",
              "      <td>4</td>\n",
              "    </tr>\n",
              "    <tr>\n",
              "      <th>18</th>\n",
              "      <td>1</td>\n",
              "      <td>0</td>\n",
              "      <td>0</td>\n",
              "      <td>99</td>\n",
              "      <td>1</td>\n",
              "      <td>0</td>\n",
              "      <td>65.0</td>\n",
              "      <td>0</td>\n",
              "      <td>2</td>\n",
              "      <td>4</td>\n",
              "    </tr>\n",
              "  </tbody>\n",
              "</table>\n",
              "</div>\n",
              "    <div class=\"colab-df-buttons\">\n",
              "\n",
              "  <div class=\"colab-df-container\">\n",
              "    <button class=\"colab-df-convert\" onclick=\"convertToInteractive('df-d7546eea-0f41-4883-ae83-94348c672cb7')\"\n",
              "            title=\"Convert this dataframe to an interactive table.\"\n",
              "            style=\"display:none;\">\n",
              "\n",
              "  <svg xmlns=\"http://www.w3.org/2000/svg\" height=\"24px\" viewBox=\"0 -960 960 960\">\n",
              "    <path d=\"M120-120v-720h720v720H120Zm60-500h600v-160H180v160Zm220 220h160v-160H400v160Zm0 220h160v-160H400v160ZM180-400h160v-160H180v160Zm440 0h160v-160H620v160ZM180-180h160v-160H180v160Zm440 0h160v-160H620v160Z\"/>\n",
              "  </svg>\n",
              "    </button>\n",
              "\n",
              "  <style>\n",
              "    .colab-df-container {\n",
              "      display:flex;\n",
              "      gap: 12px;\n",
              "    }\n",
              "\n",
              "    .colab-df-convert {\n",
              "      background-color: #E8F0FE;\n",
              "      border: none;\n",
              "      border-radius: 50%;\n",
              "      cursor: pointer;\n",
              "      display: none;\n",
              "      fill: #1967D2;\n",
              "      height: 32px;\n",
              "      padding: 0 0 0 0;\n",
              "      width: 32px;\n",
              "    }\n",
              "\n",
              "    .colab-df-convert:hover {\n",
              "      background-color: #E2EBFA;\n",
              "      box-shadow: 0px 1px 2px rgba(60, 64, 67, 0.3), 0px 1px 3px 1px rgba(60, 64, 67, 0.15);\n",
              "      fill: #174EA6;\n",
              "    }\n",
              "\n",
              "    .colab-df-buttons div {\n",
              "      margin-bottom: 4px;\n",
              "    }\n",
              "\n",
              "    [theme=dark] .colab-df-convert {\n",
              "      background-color: #3B4455;\n",
              "      fill: #D2E3FC;\n",
              "    }\n",
              "\n",
              "    [theme=dark] .colab-df-convert:hover {\n",
              "      background-color: #434B5C;\n",
              "      box-shadow: 0px 1px 3px 1px rgba(0, 0, 0, 0.15);\n",
              "      filter: drop-shadow(0px 1px 2px rgba(0, 0, 0, 0.3));\n",
              "      fill: #FFFFFF;\n",
              "    }\n",
              "  </style>\n",
              "\n",
              "    <script>\n",
              "      const buttonEl =\n",
              "        document.querySelector('#df-d7546eea-0f41-4883-ae83-94348c672cb7 button.colab-df-convert');\n",
              "      buttonEl.style.display =\n",
              "        google.colab.kernel.accessAllowed ? 'block' : 'none';\n",
              "\n",
              "      async function convertToInteractive(key) {\n",
              "        const element = document.querySelector('#df-d7546eea-0f41-4883-ae83-94348c672cb7');\n",
              "        const dataTable =\n",
              "          await google.colab.kernel.invokeFunction('convertToInteractive',\n",
              "                                                    [key], {});\n",
              "        if (!dataTable) return;\n",
              "\n",
              "        const docLinkHtml = 'Like what you see? Visit the ' +\n",
              "          '<a target=\"_blank\" href=https://colab.research.google.com/notebooks/data_table.ipynb>data table notebook</a>'\n",
              "          + ' to learn more about interactive tables.';\n",
              "        element.innerHTML = '';\n",
              "        dataTable['output_type'] = 'display_data';\n",
              "        await google.colab.output.renderOutput(dataTable, element);\n",
              "        const docLink = document.createElement('div');\n",
              "        docLink.innerHTML = docLinkHtml;\n",
              "        element.appendChild(docLink);\n",
              "      }\n",
              "    </script>\n",
              "  </div>\n",
              "\n",
              "\n",
              "<div id=\"df-0545f829-beff-463e-8ce4-d010698865b1\">\n",
              "  <button class=\"colab-df-quickchart\" onclick=\"quickchart('df-0545f829-beff-463e-8ce4-d010698865b1')\"\n",
              "            title=\"Suggest charts\"\n",
              "            style=\"display:none;\">\n",
              "\n",
              "<svg xmlns=\"http://www.w3.org/2000/svg\" height=\"24px\"viewBox=\"0 0 24 24\"\n",
              "     width=\"24px\">\n",
              "    <g>\n",
              "        <path d=\"M19 3H5c-1.1 0-2 .9-2 2v14c0 1.1.9 2 2 2h14c1.1 0 2-.9 2-2V5c0-1.1-.9-2-2-2zM9 17H7v-7h2v7zm4 0h-2V7h2v10zm4 0h-2v-4h2v4z\"/>\n",
              "    </g>\n",
              "</svg>\n",
              "  </button>\n",
              "\n",
              "<style>\n",
              "  .colab-df-quickchart {\n",
              "      --bg-color: #E8F0FE;\n",
              "      --fill-color: #1967D2;\n",
              "      --hover-bg-color: #E2EBFA;\n",
              "      --hover-fill-color: #174EA6;\n",
              "      --disabled-fill-color: #AAA;\n",
              "      --disabled-bg-color: #DDD;\n",
              "  }\n",
              "\n",
              "  [theme=dark] .colab-df-quickchart {\n",
              "      --bg-color: #3B4455;\n",
              "      --fill-color: #D2E3FC;\n",
              "      --hover-bg-color: #434B5C;\n",
              "      --hover-fill-color: #FFFFFF;\n",
              "      --disabled-bg-color: #3B4455;\n",
              "      --disabled-fill-color: #666;\n",
              "  }\n",
              "\n",
              "  .colab-df-quickchart {\n",
              "    background-color: var(--bg-color);\n",
              "    border: none;\n",
              "    border-radius: 50%;\n",
              "    cursor: pointer;\n",
              "    display: none;\n",
              "    fill: var(--fill-color);\n",
              "    height: 32px;\n",
              "    padding: 0;\n",
              "    width: 32px;\n",
              "  }\n",
              "\n",
              "  .colab-df-quickchart:hover {\n",
              "    background-color: var(--hover-bg-color);\n",
              "    box-shadow: 0 1px 2px rgba(60, 64, 67, 0.3), 0 1px 3px 1px rgba(60, 64, 67, 0.15);\n",
              "    fill: var(--button-hover-fill-color);\n",
              "  }\n",
              "\n",
              "  .colab-df-quickchart-complete:disabled,\n",
              "  .colab-df-quickchart-complete:disabled:hover {\n",
              "    background-color: var(--disabled-bg-color);\n",
              "    fill: var(--disabled-fill-color);\n",
              "    box-shadow: none;\n",
              "  }\n",
              "\n",
              "  .colab-df-spinner {\n",
              "    border: 2px solid var(--fill-color);\n",
              "    border-color: transparent;\n",
              "    border-bottom-color: var(--fill-color);\n",
              "    animation:\n",
              "      spin 1s steps(1) infinite;\n",
              "  }\n",
              "\n",
              "  @keyframes spin {\n",
              "    0% {\n",
              "      border-color: transparent;\n",
              "      border-bottom-color: var(--fill-color);\n",
              "      border-left-color: var(--fill-color);\n",
              "    }\n",
              "    20% {\n",
              "      border-color: transparent;\n",
              "      border-left-color: var(--fill-color);\n",
              "      border-top-color: var(--fill-color);\n",
              "    }\n",
              "    30% {\n",
              "      border-color: transparent;\n",
              "      border-left-color: var(--fill-color);\n",
              "      border-top-color: var(--fill-color);\n",
              "      border-right-color: var(--fill-color);\n",
              "    }\n",
              "    40% {\n",
              "      border-color: transparent;\n",
              "      border-right-color: var(--fill-color);\n",
              "      border-top-color: var(--fill-color);\n",
              "    }\n",
              "    60% {\n",
              "      border-color: transparent;\n",
              "      border-right-color: var(--fill-color);\n",
              "    }\n",
              "    80% {\n",
              "      border-color: transparent;\n",
              "      border-right-color: var(--fill-color);\n",
              "      border-bottom-color: var(--fill-color);\n",
              "    }\n",
              "    90% {\n",
              "      border-color: transparent;\n",
              "      border-bottom-color: var(--fill-color);\n",
              "    }\n",
              "  }\n",
              "</style>\n",
              "\n",
              "  <script>\n",
              "    async function quickchart(key) {\n",
              "      const quickchartButtonEl =\n",
              "        document.querySelector('#' + key + ' button');\n",
              "      quickchartButtonEl.disabled = true;  // To prevent multiple clicks.\n",
              "      quickchartButtonEl.classList.add('colab-df-spinner');\n",
              "      try {\n",
              "        const charts = await google.colab.kernel.invokeFunction(\n",
              "            'suggestCharts', [key], {});\n",
              "      } catch (error) {\n",
              "        console.error('Error during call to suggestCharts:', error);\n",
              "      }\n",
              "      quickchartButtonEl.classList.remove('colab-df-spinner');\n",
              "      quickchartButtonEl.classList.add('colab-df-quickchart-complete');\n",
              "    }\n",
              "    (() => {\n",
              "      let quickchartButtonEl =\n",
              "        document.querySelector('#df-0545f829-beff-463e-8ce4-d010698865b1 button');\n",
              "      quickchartButtonEl.style.display =\n",
              "        google.colab.kernel.accessAllowed ? 'block' : 'none';\n",
              "    })();\n",
              "  </script>\n",
              "</div>\n",
              "\n",
              "    </div>\n",
              "  </div>\n"
            ],
            "application/vnd.google.colaboratory.intrinsic+json": {
              "type": "dataframe",
              "variable_name": "df",
              "summary": "{\n  \"name\": \"df\",\n  \"rows\": 21189,\n  \"fields\": [\n    {\n      \"column\": \"type of meal\",\n      \"properties\": {\n        \"dtype\": \"number\",\n        \"std\": 0,\n        \"min\": 0,\n        \"max\": 2,\n        \"num_unique_values\": 3,\n        \"samples\": [\n          0,\n          1,\n          2\n        ],\n        \"semantic_type\": \"\",\n        \"description\": \"\"\n      }\n    },\n    {\n      \"column\": \"car parking space\",\n      \"properties\": {\n        \"dtype\": \"number\",\n        \"std\": 0,\n        \"min\": 0,\n        \"max\": 0,\n        \"num_unique_values\": 1,\n        \"samples\": [\n          0\n        ],\n        \"semantic_type\": \"\",\n        \"description\": \"\"\n      }\n    },\n    {\n      \"column\": \"room type\",\n      \"properties\": {\n        \"dtype\": \"number\",\n        \"std\": 1,\n        \"min\": 0,\n        \"max\": 6,\n        \"num_unique_values\": 7,\n        \"samples\": [\n          0\n        ],\n        \"semantic_type\": \"\",\n        \"description\": \"\"\n      }\n    },\n    {\n      \"column\": \"lead time\",\n      \"properties\": {\n        \"dtype\": \"number\",\n        \"std\": 80,\n        \"min\": 0,\n        \"max\": 310,\n        \"num_unique_values\": 309,\n        \"samples\": [\n          274\n        ],\n        \"semantic_type\": \"\",\n        \"description\": \"\"\n      }\n    },\n    {\n      \"column\": \"market segment type\",\n      \"properties\": {\n        \"dtype\": \"number\",\n        \"std\": 0,\n        \"min\": 0,\n        \"max\": 4,\n        \"num_unique_values\": 5,\n        \"samples\": [\n          0\n        ],\n        \"semantic_type\": \"\",\n        \"description\": \"\"\n      }\n    },\n    {\n      \"column\": \"repeated\",\n      \"properties\": {\n        \"dtype\": \"number\",\n        \"std\": 0,\n        \"min\": 0,\n        \"max\": 0,\n        \"num_unique_values\": 1,\n        \"samples\": [\n          0\n        ],\n        \"semantic_type\": \"\",\n        \"description\": \"\"\n      }\n    },\n    {\n      \"column\": \"average price \",\n      \"properties\": {\n        \"dtype\": \"number\",\n        \"std\": 23.870968725205394,\n        \"min\": 29.0,\n        \"max\": 167.0,\n        \"num_unique_values\": 2360,\n        \"samples\": [\n          113.26\n        ],\n        \"semantic_type\": \"\",\n        \"description\": \"\"\n      }\n    },\n    {\n      \"column\": \"booking status\",\n      \"properties\": {\n        \"dtype\": \"number\",\n        \"std\": 0,\n        \"min\": 0,\n        \"max\": 1,\n        \"num_unique_values\": 2,\n        \"samples\": [\n          1\n        ],\n        \"semantic_type\": \"\",\n        \"description\": \"\"\n      }\n    },\n    {\n      \"column\": \"Total Guests\",\n      \"properties\": {\n        \"dtype\": \"number\",\n        \"std\": 0,\n        \"min\": 2,\n        \"max\": 2,\n        \"num_unique_values\": 1,\n        \"samples\": [\n          2\n        ],\n        \"semantic_type\": \"\",\n        \"description\": \"\"\n      }\n    },\n    {\n      \"column\": \"Total Number of Nights\",\n      \"properties\": {\n        \"dtype\": \"number\",\n        \"std\": 1,\n        \"min\": 1,\n        \"max\": 10,\n        \"num_unique_values\": 10,\n        \"samples\": [\n          10\n        ],\n        \"semantic_type\": \"\",\n        \"description\": \"\"\n      }\n    }\n  ]\n}"
            }
          },
          "metadata": {},
          "execution_count": 19
        }
      ],
      "source": [
        "df.head()"
      ]
    },
    {
      "cell_type": "code",
      "source": [
        "df.iloc[:, [8, 9, 0, 1, 2, 3, 4, 5, 6, 7]]"
      ],
      "metadata": {
        "colab": {
          "base_uri": "https://localhost:8080/",
          "height": 424
        },
        "id": "szJQEbI26dD-",
        "outputId": "79caa855-23b2-4e40-8374-9088fd1328cc"
      },
      "execution_count": null,
      "outputs": [
        {
          "output_type": "execute_result",
          "data": {
            "text/plain": [
              "       Total Guests  Total Number of Nights  type of meal  car parking space  \\\n",
              "12                2                       3             0                  0   \n",
              "14                2                       2             1                  0   \n",
              "15                2                       2             2                  0   \n",
              "17                2                       4             0                  0   \n",
              "18                2                       4             1                  0   \n",
              "...             ...                     ...           ...                ...   \n",
              "36276             2                       5             0                  0   \n",
              "36278             2                       2             1                  0   \n",
              "36279             2                       2             0                  0   \n",
              "36281             2                       4             1                  0   \n",
              "36282             2                       4             1                  0   \n",
              "\n",
              "       room type  lead time  market segment type  repeated  average price   \\\n",
              "12             0         30                    1         0           88.00   \n",
              "14             0         47                    1         0           94.50   \n",
              "15             0        256                    1         0          115.00   \n",
              "17             0          1                    1         0           96.00   \n",
              "18             0         99                    1         0           65.00   \n",
              "...          ...        ...                  ...       ...             ...   \n",
              "36276          0          5                    1         0          106.68   \n",
              "36278          0        211                    1         0          100.00   \n",
              "36279          0         48                    1         0           94.50   \n",
              "36281          0         34                    1         0          107.55   \n",
              "36282          3         83                    1         0          105.61   \n",
              "\n",
              "       booking status  \n",
              "12                  0  \n",
              "14                  1  \n",
              "15                  0  \n",
              "17                  1  \n",
              "18                  0  \n",
              "...               ...  \n",
              "36276               1  \n",
              "36278               0  \n",
              "36279               0  \n",
              "36281               1  \n",
              "36282               1  \n",
              "\n",
              "[21189 rows x 10 columns]"
            ],
            "text/html": [
              "\n",
              "  <div id=\"df-ee0ce2bb-6a7d-4375-8f06-74ef7c430316\" class=\"colab-df-container\">\n",
              "    <div>\n",
              "<style scoped>\n",
              "    .dataframe tbody tr th:only-of-type {\n",
              "        vertical-align: middle;\n",
              "    }\n",
              "\n",
              "    .dataframe tbody tr th {\n",
              "        vertical-align: top;\n",
              "    }\n",
              "\n",
              "    .dataframe thead th {\n",
              "        text-align: right;\n",
              "    }\n",
              "</style>\n",
              "<table border=\"1\" class=\"dataframe\">\n",
              "  <thead>\n",
              "    <tr style=\"text-align: right;\">\n",
              "      <th></th>\n",
              "      <th>Total Guests</th>\n",
              "      <th>Total Number of Nights</th>\n",
              "      <th>type of meal</th>\n",
              "      <th>car parking space</th>\n",
              "      <th>room type</th>\n",
              "      <th>lead time</th>\n",
              "      <th>market segment type</th>\n",
              "      <th>repeated</th>\n",
              "      <th>average price</th>\n",
              "      <th>booking status</th>\n",
              "    </tr>\n",
              "  </thead>\n",
              "  <tbody>\n",
              "    <tr>\n",
              "      <th>12</th>\n",
              "      <td>2</td>\n",
              "      <td>3</td>\n",
              "      <td>0</td>\n",
              "      <td>0</td>\n",
              "      <td>0</td>\n",
              "      <td>30</td>\n",
              "      <td>1</td>\n",
              "      <td>0</td>\n",
              "      <td>88.00</td>\n",
              "      <td>0</td>\n",
              "    </tr>\n",
              "    <tr>\n",
              "      <th>14</th>\n",
              "      <td>2</td>\n",
              "      <td>2</td>\n",
              "      <td>1</td>\n",
              "      <td>0</td>\n",
              "      <td>0</td>\n",
              "      <td>47</td>\n",
              "      <td>1</td>\n",
              "      <td>0</td>\n",
              "      <td>94.50</td>\n",
              "      <td>1</td>\n",
              "    </tr>\n",
              "    <tr>\n",
              "      <th>15</th>\n",
              "      <td>2</td>\n",
              "      <td>2</td>\n",
              "      <td>2</td>\n",
              "      <td>0</td>\n",
              "      <td>0</td>\n",
              "      <td>256</td>\n",
              "      <td>1</td>\n",
              "      <td>0</td>\n",
              "      <td>115.00</td>\n",
              "      <td>0</td>\n",
              "    </tr>\n",
              "    <tr>\n",
              "      <th>17</th>\n",
              "      <td>2</td>\n",
              "      <td>4</td>\n",
              "      <td>0</td>\n",
              "      <td>0</td>\n",
              "      <td>0</td>\n",
              "      <td>1</td>\n",
              "      <td>1</td>\n",
              "      <td>0</td>\n",
              "      <td>96.00</td>\n",
              "      <td>1</td>\n",
              "    </tr>\n",
              "    <tr>\n",
              "      <th>18</th>\n",
              "      <td>2</td>\n",
              "      <td>4</td>\n",
              "      <td>1</td>\n",
              "      <td>0</td>\n",
              "      <td>0</td>\n",
              "      <td>99</td>\n",
              "      <td>1</td>\n",
              "      <td>0</td>\n",
              "      <td>65.00</td>\n",
              "      <td>0</td>\n",
              "    </tr>\n",
              "    <tr>\n",
              "      <th>...</th>\n",
              "      <td>...</td>\n",
              "      <td>...</td>\n",
              "      <td>...</td>\n",
              "      <td>...</td>\n",
              "      <td>...</td>\n",
              "      <td>...</td>\n",
              "      <td>...</td>\n",
              "      <td>...</td>\n",
              "      <td>...</td>\n",
              "      <td>...</td>\n",
              "    </tr>\n",
              "    <tr>\n",
              "      <th>36276</th>\n",
              "      <td>2</td>\n",
              "      <td>5</td>\n",
              "      <td>0</td>\n",
              "      <td>0</td>\n",
              "      <td>0</td>\n",
              "      <td>5</td>\n",
              "      <td>1</td>\n",
              "      <td>0</td>\n",
              "      <td>106.68</td>\n",
              "      <td>1</td>\n",
              "    </tr>\n",
              "    <tr>\n",
              "      <th>36278</th>\n",
              "      <td>2</td>\n",
              "      <td>2</td>\n",
              "      <td>1</td>\n",
              "      <td>0</td>\n",
              "      <td>0</td>\n",
              "      <td>211</td>\n",
              "      <td>1</td>\n",
              "      <td>0</td>\n",
              "      <td>100.00</td>\n",
              "      <td>0</td>\n",
              "    </tr>\n",
              "    <tr>\n",
              "      <th>36279</th>\n",
              "      <td>2</td>\n",
              "      <td>2</td>\n",
              "      <td>0</td>\n",
              "      <td>0</td>\n",
              "      <td>0</td>\n",
              "      <td>48</td>\n",
              "      <td>1</td>\n",
              "      <td>0</td>\n",
              "      <td>94.50</td>\n",
              "      <td>0</td>\n",
              "    </tr>\n",
              "    <tr>\n",
              "      <th>36281</th>\n",
              "      <td>2</td>\n",
              "      <td>4</td>\n",
              "      <td>1</td>\n",
              "      <td>0</td>\n",
              "      <td>0</td>\n",
              "      <td>34</td>\n",
              "      <td>1</td>\n",
              "      <td>0</td>\n",
              "      <td>107.55</td>\n",
              "      <td>1</td>\n",
              "    </tr>\n",
              "    <tr>\n",
              "      <th>36282</th>\n",
              "      <td>2</td>\n",
              "      <td>4</td>\n",
              "      <td>1</td>\n",
              "      <td>0</td>\n",
              "      <td>3</td>\n",
              "      <td>83</td>\n",
              "      <td>1</td>\n",
              "      <td>0</td>\n",
              "      <td>105.61</td>\n",
              "      <td>1</td>\n",
              "    </tr>\n",
              "  </tbody>\n",
              "</table>\n",
              "<p>21189 rows × 10 columns</p>\n",
              "</div>\n",
              "    <div class=\"colab-df-buttons\">\n",
              "\n",
              "  <div class=\"colab-df-container\">\n",
              "    <button class=\"colab-df-convert\" onclick=\"convertToInteractive('df-ee0ce2bb-6a7d-4375-8f06-74ef7c430316')\"\n",
              "            title=\"Convert this dataframe to an interactive table.\"\n",
              "            style=\"display:none;\">\n",
              "\n",
              "  <svg xmlns=\"http://www.w3.org/2000/svg\" height=\"24px\" viewBox=\"0 -960 960 960\">\n",
              "    <path d=\"M120-120v-720h720v720H120Zm60-500h600v-160H180v160Zm220 220h160v-160H400v160Zm0 220h160v-160H400v160ZM180-400h160v-160H180v160Zm440 0h160v-160H620v160ZM180-180h160v-160H180v160Zm440 0h160v-160H620v160Z\"/>\n",
              "  </svg>\n",
              "    </button>\n",
              "\n",
              "  <style>\n",
              "    .colab-df-container {\n",
              "      display:flex;\n",
              "      gap: 12px;\n",
              "    }\n",
              "\n",
              "    .colab-df-convert {\n",
              "      background-color: #E8F0FE;\n",
              "      border: none;\n",
              "      border-radius: 50%;\n",
              "      cursor: pointer;\n",
              "      display: none;\n",
              "      fill: #1967D2;\n",
              "      height: 32px;\n",
              "      padding: 0 0 0 0;\n",
              "      width: 32px;\n",
              "    }\n",
              "\n",
              "    .colab-df-convert:hover {\n",
              "      background-color: #E2EBFA;\n",
              "      box-shadow: 0px 1px 2px rgba(60, 64, 67, 0.3), 0px 1px 3px 1px rgba(60, 64, 67, 0.15);\n",
              "      fill: #174EA6;\n",
              "    }\n",
              "\n",
              "    .colab-df-buttons div {\n",
              "      margin-bottom: 4px;\n",
              "    }\n",
              "\n",
              "    [theme=dark] .colab-df-convert {\n",
              "      background-color: #3B4455;\n",
              "      fill: #D2E3FC;\n",
              "    }\n",
              "\n",
              "    [theme=dark] .colab-df-convert:hover {\n",
              "      background-color: #434B5C;\n",
              "      box-shadow: 0px 1px 3px 1px rgba(0, 0, 0, 0.15);\n",
              "      filter: drop-shadow(0px 1px 2px rgba(0, 0, 0, 0.3));\n",
              "      fill: #FFFFFF;\n",
              "    }\n",
              "  </style>\n",
              "\n",
              "    <script>\n",
              "      const buttonEl =\n",
              "        document.querySelector('#df-ee0ce2bb-6a7d-4375-8f06-74ef7c430316 button.colab-df-convert');\n",
              "      buttonEl.style.display =\n",
              "        google.colab.kernel.accessAllowed ? 'block' : 'none';\n",
              "\n",
              "      async function convertToInteractive(key) {\n",
              "        const element = document.querySelector('#df-ee0ce2bb-6a7d-4375-8f06-74ef7c430316');\n",
              "        const dataTable =\n",
              "          await google.colab.kernel.invokeFunction('convertToInteractive',\n",
              "                                                    [key], {});\n",
              "        if (!dataTable) return;\n",
              "\n",
              "        const docLinkHtml = 'Like what you see? Visit the ' +\n",
              "          '<a target=\"_blank\" href=https://colab.research.google.com/notebooks/data_table.ipynb>data table notebook</a>'\n",
              "          + ' to learn more about interactive tables.';\n",
              "        element.innerHTML = '';\n",
              "        dataTable['output_type'] = 'display_data';\n",
              "        await google.colab.output.renderOutput(dataTable, element);\n",
              "        const docLink = document.createElement('div');\n",
              "        docLink.innerHTML = docLinkHtml;\n",
              "        element.appendChild(docLink);\n",
              "      }\n",
              "    </script>\n",
              "  </div>\n",
              "\n",
              "\n",
              "<div id=\"df-e490691d-aea0-4fac-b913-afad4ca3ba51\">\n",
              "  <button class=\"colab-df-quickchart\" onclick=\"quickchart('df-e490691d-aea0-4fac-b913-afad4ca3ba51')\"\n",
              "            title=\"Suggest charts\"\n",
              "            style=\"display:none;\">\n",
              "\n",
              "<svg xmlns=\"http://www.w3.org/2000/svg\" height=\"24px\"viewBox=\"0 0 24 24\"\n",
              "     width=\"24px\">\n",
              "    <g>\n",
              "        <path d=\"M19 3H5c-1.1 0-2 .9-2 2v14c0 1.1.9 2 2 2h14c1.1 0 2-.9 2-2V5c0-1.1-.9-2-2-2zM9 17H7v-7h2v7zm4 0h-2V7h2v10zm4 0h-2v-4h2v4z\"/>\n",
              "    </g>\n",
              "</svg>\n",
              "  </button>\n",
              "\n",
              "<style>\n",
              "  .colab-df-quickchart {\n",
              "      --bg-color: #E8F0FE;\n",
              "      --fill-color: #1967D2;\n",
              "      --hover-bg-color: #E2EBFA;\n",
              "      --hover-fill-color: #174EA6;\n",
              "      --disabled-fill-color: #AAA;\n",
              "      --disabled-bg-color: #DDD;\n",
              "  }\n",
              "\n",
              "  [theme=dark] .colab-df-quickchart {\n",
              "      --bg-color: #3B4455;\n",
              "      --fill-color: #D2E3FC;\n",
              "      --hover-bg-color: #434B5C;\n",
              "      --hover-fill-color: #FFFFFF;\n",
              "      --disabled-bg-color: #3B4455;\n",
              "      --disabled-fill-color: #666;\n",
              "  }\n",
              "\n",
              "  .colab-df-quickchart {\n",
              "    background-color: var(--bg-color);\n",
              "    border: none;\n",
              "    border-radius: 50%;\n",
              "    cursor: pointer;\n",
              "    display: none;\n",
              "    fill: var(--fill-color);\n",
              "    height: 32px;\n",
              "    padding: 0;\n",
              "    width: 32px;\n",
              "  }\n",
              "\n",
              "  .colab-df-quickchart:hover {\n",
              "    background-color: var(--hover-bg-color);\n",
              "    box-shadow: 0 1px 2px rgba(60, 64, 67, 0.3), 0 1px 3px 1px rgba(60, 64, 67, 0.15);\n",
              "    fill: var(--button-hover-fill-color);\n",
              "  }\n",
              "\n",
              "  .colab-df-quickchart-complete:disabled,\n",
              "  .colab-df-quickchart-complete:disabled:hover {\n",
              "    background-color: var(--disabled-bg-color);\n",
              "    fill: var(--disabled-fill-color);\n",
              "    box-shadow: none;\n",
              "  }\n",
              "\n",
              "  .colab-df-spinner {\n",
              "    border: 2px solid var(--fill-color);\n",
              "    border-color: transparent;\n",
              "    border-bottom-color: var(--fill-color);\n",
              "    animation:\n",
              "      spin 1s steps(1) infinite;\n",
              "  }\n",
              "\n",
              "  @keyframes spin {\n",
              "    0% {\n",
              "      border-color: transparent;\n",
              "      border-bottom-color: var(--fill-color);\n",
              "      border-left-color: var(--fill-color);\n",
              "    }\n",
              "    20% {\n",
              "      border-color: transparent;\n",
              "      border-left-color: var(--fill-color);\n",
              "      border-top-color: var(--fill-color);\n",
              "    }\n",
              "    30% {\n",
              "      border-color: transparent;\n",
              "      border-left-color: var(--fill-color);\n",
              "      border-top-color: var(--fill-color);\n",
              "      border-right-color: var(--fill-color);\n",
              "    }\n",
              "    40% {\n",
              "      border-color: transparent;\n",
              "      border-right-color: var(--fill-color);\n",
              "      border-top-color: var(--fill-color);\n",
              "    }\n",
              "    60% {\n",
              "      border-color: transparent;\n",
              "      border-right-color: var(--fill-color);\n",
              "    }\n",
              "    80% {\n",
              "      border-color: transparent;\n",
              "      border-right-color: var(--fill-color);\n",
              "      border-bottom-color: var(--fill-color);\n",
              "    }\n",
              "    90% {\n",
              "      border-color: transparent;\n",
              "      border-bottom-color: var(--fill-color);\n",
              "    }\n",
              "  }\n",
              "</style>\n",
              "\n",
              "  <script>\n",
              "    async function quickchart(key) {\n",
              "      const quickchartButtonEl =\n",
              "        document.querySelector('#' + key + ' button');\n",
              "      quickchartButtonEl.disabled = true;  // To prevent multiple clicks.\n",
              "      quickchartButtonEl.classList.add('colab-df-spinner');\n",
              "      try {\n",
              "        const charts = await google.colab.kernel.invokeFunction(\n",
              "            'suggestCharts', [key], {});\n",
              "      } catch (error) {\n",
              "        console.error('Error during call to suggestCharts:', error);\n",
              "      }\n",
              "      quickchartButtonEl.classList.remove('colab-df-spinner');\n",
              "      quickchartButtonEl.classList.add('colab-df-quickchart-complete');\n",
              "    }\n",
              "    (() => {\n",
              "      let quickchartButtonEl =\n",
              "        document.querySelector('#df-e490691d-aea0-4fac-b913-afad4ca3ba51 button');\n",
              "      quickchartButtonEl.style.display =\n",
              "        google.colab.kernel.accessAllowed ? 'block' : 'none';\n",
              "    })();\n",
              "  </script>\n",
              "</div>\n",
              "\n",
              "    </div>\n",
              "  </div>\n"
            ],
            "application/vnd.google.colaboratory.intrinsic+json": {
              "type": "dataframe",
              "summary": "{\n  \"name\": \"df\",\n  \"rows\": 21189,\n  \"fields\": [\n    {\n      \"column\": \"Total Guests\",\n      \"properties\": {\n        \"dtype\": \"number\",\n        \"std\": 0,\n        \"min\": 2,\n        \"max\": 2,\n        \"num_unique_values\": 1,\n        \"samples\": [\n          2\n        ],\n        \"semantic_type\": \"\",\n        \"description\": \"\"\n      }\n    },\n    {\n      \"column\": \"Total Number of Nights\",\n      \"properties\": {\n        \"dtype\": \"number\",\n        \"std\": 1,\n        \"min\": 1,\n        \"max\": 10,\n        \"num_unique_values\": 10,\n        \"samples\": [\n          10\n        ],\n        \"semantic_type\": \"\",\n        \"description\": \"\"\n      }\n    },\n    {\n      \"column\": \"type of meal\",\n      \"properties\": {\n        \"dtype\": \"number\",\n        \"std\": 0,\n        \"min\": 0,\n        \"max\": 2,\n        \"num_unique_values\": 3,\n        \"samples\": [\n          0\n        ],\n        \"semantic_type\": \"\",\n        \"description\": \"\"\n      }\n    },\n    {\n      \"column\": \"car parking space\",\n      \"properties\": {\n        \"dtype\": \"number\",\n        \"std\": 0,\n        \"min\": 0,\n        \"max\": 0,\n        \"num_unique_values\": 1,\n        \"samples\": [\n          0\n        ],\n        \"semantic_type\": \"\",\n        \"description\": \"\"\n      }\n    },\n    {\n      \"column\": \"room type\",\n      \"properties\": {\n        \"dtype\": \"number\",\n        \"std\": 1,\n        \"min\": 0,\n        \"max\": 6,\n        \"num_unique_values\": 7,\n        \"samples\": [\n          0\n        ],\n        \"semantic_type\": \"\",\n        \"description\": \"\"\n      }\n    },\n    {\n      \"column\": \"lead time\",\n      \"properties\": {\n        \"dtype\": \"number\",\n        \"std\": 80,\n        \"min\": 0,\n        \"max\": 310,\n        \"num_unique_values\": 309,\n        \"samples\": [\n          274\n        ],\n        \"semantic_type\": \"\",\n        \"description\": \"\"\n      }\n    },\n    {\n      \"column\": \"market segment type\",\n      \"properties\": {\n        \"dtype\": \"number\",\n        \"std\": 0,\n        \"min\": 0,\n        \"max\": 4,\n        \"num_unique_values\": 5,\n        \"samples\": [\n          0\n        ],\n        \"semantic_type\": \"\",\n        \"description\": \"\"\n      }\n    },\n    {\n      \"column\": \"repeated\",\n      \"properties\": {\n        \"dtype\": \"number\",\n        \"std\": 0,\n        \"min\": 0,\n        \"max\": 0,\n        \"num_unique_values\": 1,\n        \"samples\": [\n          0\n        ],\n        \"semantic_type\": \"\",\n        \"description\": \"\"\n      }\n    },\n    {\n      \"column\": \"average price \",\n      \"properties\": {\n        \"dtype\": \"number\",\n        \"std\": 23.870968725205394,\n        \"min\": 29.0,\n        \"max\": 167.0,\n        \"num_unique_values\": 2360,\n        \"samples\": [\n          113.26\n        ],\n        \"semantic_type\": \"\",\n        \"description\": \"\"\n      }\n    },\n    {\n      \"column\": \"booking status\",\n      \"properties\": {\n        \"dtype\": \"number\",\n        \"std\": 0,\n        \"min\": 0,\n        \"max\": 1,\n        \"num_unique_values\": 2,\n        \"samples\": [\n          1\n        ],\n        \"semantic_type\": \"\",\n        \"description\": \"\"\n      }\n    }\n  ]\n}"
            }
          },
          "metadata": {},
          "execution_count": 20
        }
      ]
    },
    {
      "cell_type": "code",
      "execution_count": null,
      "metadata": {
        "colab": {
          "base_uri": "https://localhost:8080/"
        },
        "id": "zQ84275OjLGn",
        "outputId": "34c09d55-62f5-49ec-c04f-449c75195e8e"
      },
      "outputs": [
        {
          "output_type": "stream",
          "name": "stdout",
          "text": [
            "<class 'pandas.core.frame.DataFrame'>\n",
            "Index: 21189 entries, 12 to 36282\n",
            "Data columns (total 10 columns):\n",
            " #   Column                  Non-Null Count  Dtype  \n",
            "---  ------                  --------------  -----  \n",
            " 0   type of meal            21189 non-null  int64  \n",
            " 1   car parking space       21189 non-null  int64  \n",
            " 2   room type               21189 non-null  int64  \n",
            " 3   lead time               21189 non-null  int64  \n",
            " 4   market segment type     21189 non-null  int64  \n",
            " 5   repeated                21189 non-null  int64  \n",
            " 6   average price           21189 non-null  float64\n",
            " 7   booking status          21189 non-null  int64  \n",
            " 8   Total Guests            21189 non-null  int64  \n",
            " 9   Total Number of Nights  21189 non-null  int64  \n",
            "dtypes: float64(1), int64(9)\n",
            "memory usage: 1.8 MB\n"
          ]
        }
      ],
      "source": [
        "df.info()"
      ]
    },
    {
      "cell_type": "code",
      "execution_count": null,
      "metadata": {
        "id": "thkymz8HkKS8"
      },
      "outputs": [],
      "source": [
        "x_train, x_test, y_train, y_test = train_test_split(df.drop('booking status', axis=1), df['booking status'], test_size=0.2, random_state=42)"
      ]
    },
    {
      "cell_type": "code",
      "execution_count": null,
      "metadata": {
        "colab": {
          "base_uri": "https://localhost:8080/"
        },
        "id": "KH3LqEZTmU2H",
        "outputId": "c6f4a236-5ba4-4bf4-87c6-a4d30270996e"
      },
      "outputs": [
        {
          "output_type": "stream",
          "name": "stdout",
          "text": [
            "Number of neighbors at greatest accuracy: 7\n"
          ]
        }
      ],
      "source": [
        "Greatest_Accuracy = 0\n",
        "Number_of_Neighbors_at_Greatest_Accuracy = 1\n",
        "for i in range(1, 20):\n",
        "    KNN = KNeighborsClassifier(n_neighbors=i)\n",
        "    KNN.fit(x_train, y_train)\n",
        "    y_pred = KNN.predict(x_test)\n",
        "    if accuracy_score(y_test, y_pred) > Greatest_Accuracy:\n",
        "        Greatest_Accuracy = accuracy_score(y_test, y_pred)\n",
        "        Number_of_Neighbors_at_Greatest_Accuracy = i\n",
        "\n",
        "print(f\"Number of neighbors at greatest accuracy: {Number_of_Neighbors_at_Greatest_Accuracy}\")"
      ]
    },
    {
      "cell_type": "code",
      "execution_count": null,
      "metadata": {
        "colab": {
          "base_uri": "https://localhost:8080/"
        },
        "id": "UTb0WS6sNYo4",
        "outputId": "e4f51b5d-f7c9-4e12-fbed-779da8c303dd"
      },
      "outputs": [
        {
          "output_type": "stream",
          "name": "stdout",
          "text": [
            "accuracy_score = 83.0%\n"
          ]
        }
      ],
      "source": [
        "Model = KNeighborsClassifier(n_neighbors=7)\n",
        "Model.fit(x_train, y_train)\n",
        "y_pred_train = Model.predict(x_train)\n",
        "print(f\"accuracy_score = {round(accuracy_score(y_train, y_pred_train)*100, 0)}%\")"
      ]
    },
    {
      "cell_type": "code",
      "execution_count": null,
      "metadata": {
        "id": "Wf-cC-KmnE1b"
      },
      "outputs": [],
      "source": [
        "y_pred = Model.predict(x_test)"
      ]
    },
    {
      "cell_type": "code",
      "execution_count": null,
      "metadata": {
        "colab": {
          "base_uri": "https://localhost:8080/"
        },
        "id": "oCrC-3xNpEyg",
        "outputId": "f7fdd6aa-8a36-43f6-8864-8053cacb07a6"
      },
      "outputs": [
        {
          "output_type": "stream",
          "name": "stdout",
          "text": [
            "              precision    recall  f1-score   support\n",
            "\n",
            "           0       0.76      0.60      0.67      1490\n",
            "           1       0.81      0.89      0.85      2748\n",
            "\n",
            "    accuracy                           0.79      4238\n",
            "   macro avg       0.78      0.75      0.76      4238\n",
            "weighted avg       0.79      0.79      0.79      4238\n",
            "\n",
            "[[ 900  590]\n",
            " [ 289 2459]]\n",
            "accuracy_score = 79.0%\n"
          ]
        }
      ],
      "source": [
        "print(classification_report(y_test, y_pred))\n",
        "print(confusion_matrix(y_test, y_pred))\n",
        "print(f\"accuracy_score = {round(accuracy_score(y_test, y_pred)*100, 0)}%\")"
      ]
    },
    {
      "cell_type": "code",
      "execution_count": null,
      "metadata": {
        "id": "XLU0Ptt5xzhF"
      },
      "outputs": [],
      "source": [
        "'''from sklearn.svm import SVC\n",
        "SVM_Classifier = SVC(kernel='linear')\n",
        "SVM_Classifier.fit(x_train, y_train)'''"
      ]
    },
    {
      "cell_type": "code",
      "execution_count": null,
      "metadata": {
        "id": "WojXODPCF_C2"
      },
      "outputs": [],
      "source": [
        "'''y_pred_svm = SVM_Classifier.predict(x_test)\n",
        "print(classification_report(y_test, y_pred_svm))\n",
        "print(confusion_matrix(y_test, y_pred_svm))\n",
        "print(f\"accuracy_score = {round(accuracy_score(y_test, y_pred_svm)*100, 0)}%\")'''\n"
      ]
    },
    {
      "cell_type": "code",
      "execution_count": null,
      "metadata": {
        "colab": {
          "base_uri": "https://localhost:8080/"
        },
        "id": "2JEjpuF1GUDX",
        "outputId": "250721e2-738e-417c-954b-445a5bbeb0bd"
      },
      "outputs": [
        {
          "output_type": "execute_result",
          "data": {
            "text/plain": [
              "['model.pkl']"
            ]
          },
          "metadata": {},
          "execution_count": 42
        }
      ],
      "source": [
        "joblib_file = \"model.pkl\"  # Filename for the model\n",
        "joblib.dump(Model, joblib_file)"
      ]
    }
  ],
  "metadata": {
    "colab": {
      "provenance": []
    },
    "kernelspec": {
      "display_name": "Python 3",
      "name": "python3"
    },
    "language_info": {
      "name": "python"
    }
  },
  "nbformat": 4,
  "nbformat_minor": 0
}