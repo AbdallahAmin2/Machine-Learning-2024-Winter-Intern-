{
 "cells": [
  {
   "cell_type": "code",
   "execution_count": 11,
   "id": "0263cb07-3f9e-48d9-ab3c-0871ab321c71",
   "metadata": {},
   "outputs": [
    {
     "name": "stdout",
     "output_type": "stream",
     "text": [
      "Null values in the dataset:\n",
      "Booking_ID                  0\n",
      "number of adults            0\n",
      "number of children          0\n",
      "number of weekend nights    0\n",
      "number of week nights       0\n",
      "type of meal                0\n",
      "car parking space           0\n",
      "room type                   0\n",
      "lead time                   0\n",
      "market segment type         0\n",
      "repeated                    0\n",
      "P-C                         0\n",
      "P-not-C                     0\n",
      "average price               0\n",
      "special requests            0\n",
      "date of reservation         0\n",
      "booking status              0\n",
      "dtype: int64\n",
      "\n",
      "Data types in the dataset:\n",
      "Booking_ID                   object\n",
      "number of adults              int64\n",
      "number of children            int64\n",
      "number of weekend nights      int64\n",
      "number of week nights         int64\n",
      "type of meal                 object\n",
      "car parking space             int64\n",
      "room type                    object\n",
      "lead time                     int64\n",
      "market segment type          object\n",
      "repeated                      int64\n",
      "P-C                           int64\n",
      "P-not-C                       int64\n",
      "average price               float64\n",
      "special requests              int64\n",
      "date of reservation          object\n",
      "booking status               object\n",
      "dtype: object\n",
      "Index(['Booking_ID', 'numberofadults', 'numberofchildren',\n",
      "       'numberofweekendnights', 'numberofweeknights', 'typeofmeal',\n",
      "       'carparkingspace', 'roomtype', 'leadtime', 'marketsegmenttype',\n",
      "       'repeated', 'P-C', 'P-not-C', 'averageprice', 'specialrequests',\n",
      "       'dateofreservation', 'bookingstatus'],\n",
      "      dtype='object')\n"
     ]
    }
   ],
   "source": [
    "import pandas as pd\n",
    "import numpy as np\n",
    "from sklearn.preprocessing import StandardScaler\n",
    "from sklearn.feature_selection import SelectKBest, chi2\n",
    "from sklearn.model_selection import train_test_split\n",
    "from sklearn.linear_model import LogisticRegression\n",
    "from sklearn.metrics import accuracy_score, classification_report, confusion_matrix\n",
    "\n",
    "\n",
    "# Load the dataset\n",
    "df = pd.read_csv('first inten project.csv')\n",
    "\n",
    "# Check for null values\n",
    "print(\"Null values in the dataset:\")\n",
    "print(df.isnull().sum())\n",
    "\n",
    "# Check data types\n",
    "print(\"\\nData types in the dataset:\")\n",
    "print(df.dtypes)\n",
    "\n",
    "# Remove any whitespace in column names\n",
    "df.columns = df.columns.str.replace(' ', '')\n",
    "print(df.columns)"
   ]
  },
  {
   "cell_type": "code",
   "execution_count": null,
   "id": "639419ba-e1dd-440e-9cb4-f04dcac60328",
   "metadata": {},
   "outputs": [],
   "source": []
  },
  {
   "cell_type": "code",
   "execution_count": 23,
   "id": "d1a7f576-611b-42f8-83d6-201e33d5c073",
   "metadata": {},
   "outputs": [
    {
     "name": "stdout",
     "output_type": "stream",
     "text": [
      "\n",
      "Outliers in the dataset:\n",
      "numberofadults           10175\n",
      "numberofchildren          2702\n",
      "numberofweekendnights       21\n",
      "numberofweeknights         324\n",
      "carparkingspace           1124\n",
      "leadtime                  1332\n",
      "repeated                   930\n",
      "P-C                        338\n",
      "P-not-C                    812\n",
      "averageprice              1696\n",
      "specialrequests            762\n",
      "dtype: int64\n"
     ]
    }
   ],
   "source": [
    "\n",
    "# Check for outliers using IQR\n",
    "numeric_df = df.select_dtypes(include=['int64', 'float64'])\n",
    "Q1 = numeric_df.quantile(0.25)\n",
    "Q3 = numeric_df.quantile(0.75)\n",
    "IQR = Q3 - Q1\n",
    "\n",
    "outliers = numeric_df.apply(lambda x: ((x < (Q1[x.name] - 1.5 * IQR[x.name])) | (x > (Q3[x.name] + 1.5 * IQR[x.name]))))\n",
    "\n",
    "print(\"\\nOutliers in the dataset:\")\n",
    "print(outliers.sum())"
   ]
  },
  {
   "cell_type": "code",
   "execution_count": null,
   "id": "47a44ba4-87a7-4e45-a5ff-1df4c93779ce",
   "metadata": {},
   "outputs": [],
   "source": []
  },
  {
   "cell_type": "code",
   "execution_count": 33,
   "id": "8a5f4ae9-b763-431c-b718-ac4ab24c4cb5",
   "metadata": {},
   "outputs": [
    {
     "name": "stdout",
     "output_type": "stream",
     "text": [
      "Column 'booking status' does not exist in the DataFrame.\n"
     ]
    }
   ],
   "source": [
    "if 'booking status' in df.columns:\n",
    "    X = df.drop('booking status', axis=1)\n",
    "    y = df['booking status']\n",
    "    X_selected = SelectKBest(chi2, k=10).fit_transform(X, y)\n",
    "else:\n",
    "    print(\"Column 'booking status' does not exist in the DataFrame.\")"
   ]
  },
  {
   "cell_type": "code",
   "execution_count": 53,
   "id": "0d0a87ac-1cb5-4bef-844d-3691f576c320",
   "metadata": {},
   "outputs": [
    {
     "name": "stdout",
     "output_type": "stream",
     "text": [
      "Column 'booking status' does not exist in the DataFrame.\n"
     ]
    }
   ],
   "source": [
    "from sklearn.preprocessing import StandardScaler\n",
    "\n",
    "scaler = StandardScaler()\n",
    "\n",
    "if 'booking status' in df.columns:\n",
    "    X = df.drop('booking status', axis=1)\n",
    "    y = df['booking status']\n",
    "    X_selected = SelectKBest(chi2, k=10).fit_transform(X, y)\n",
    "\n",
    "    # Reshape X_selected to a 2D array\n",
    "    X_selected = X_selected.reshape(-1, 1)\n",
    "\n",
    "    X_selecetd_scaled = scaler.fit_transform(X_selected)\n",
    "else:\n",
    "    print(\"Column 'booking status' does not exist in the DataFrame.\")"
   ]
  },
  {
   "cell_type": "code",
   "execution_count": 71,
   "id": "589bec3a-4aee-4418-aeef-cd54f0d7670b",
   "metadata": {},
   "outputs": [
    {
     "name": "stdout",
     "output_type": "stream",
     "text": [
      "\n",
      "Accuracy: 0.7807634008543475\n",
      "Classification Report:\n",
      "              precision    recall  f1-score   support\n",
      "\n",
      "    Canceled       0.73      0.53      0.61      2402\n",
      "Not_Canceled       0.80      0.91      0.85      4855\n",
      "\n",
      "    accuracy                           0.78      7257\n",
      "   macro avg       0.76      0.72      0.73      7257\n",
      "weighted avg       0.78      0.78      0.77      7257\n",
      "\n",
      "Confusion Matrix:\n",
      "[[1270 1132]\n",
      " [ 459 4396]]\n"
     ]
    }
   ],
   "source": [
    "from sklearn.preprocessing import LabelEncoder\n",
    "from sklearn.feature_selection import SelectKBest, chi2\n",
    "\n",
    "# Assuming df is your DataFrame\n",
    "if 'booking status' in df.columns:\n",
    "    X = df.drop('booking status', axis=1)\n",
    "    y = df['booking status']\n",
    "\n",
    "    # Encode categorical features using LabelEncoder\n",
    "    le = LabelEncoder()\n",
    "    for col in X.columns:\n",
    "        if X[col].dtype == 'object':\n",
    "            X[col] = le.fit_transform(X[col])\n",
    "\n",
    "    # Use SelectKBest with chi2\n",
    "    X_selected = SelectKBest(chi2, k=10).fit_transform(X, y)\n",
    "\n",
    "    # Split dataset into training set and test set\n",
    "    X_train, X_test, y_train, y_test = train_test_split(X_selected, y, test_size=0.2, random_state=42)\n",
    "\n",
    "    # Feature scaling\n",
    "    scaler = StandardScaler()\n",
    "    X_train_scaled = scaler.fit_transform(X_train)\n",
    "    X_test_scaled = scaler.transform(X_test)\n",
    "\n",
    "    # Training the Logistic Regression model on the Training set\n",
    "    model = LogisticRegression()\n",
    "    model.fit(X_train_scaled, y_train)\n",
    "\n",
    "    # Predicting the Test set results\n",
    "    y_pred = model.predict(X_test_scaled)\n",
    "\n",
    "    # Making the Confusion Matrix\n",
    "    print(\"\\nAccuracy:\", accuracy_score(y_test, y_pred))\n",
    "    print(\"Classification Report:\")\n",
    "    print(classification_report(y_test, y_pred))\n",
    "    print(\"Confusion Matrix:\")\n",
    "    print(confusion_matrix(y_test, y_pred))"
   ]
  },
  {
   "cell_type": "code",
   "execution_count": null,
   "id": "b33ece92-f840-4525-8883-22c4f8f4934d",
   "metadata": {},
   "outputs": [],
   "source": []
  }
 ],
 "metadata": {
  "kernelspec": {
   "display_name": "Python 3 (ipykernel)",
   "language": "python",
   "name": "python3"
  },
  "language_info": {
   "codemirror_mode": {
    "name": "ipython",
    "version": 3
   },
   "file_extension": ".py",
   "mimetype": "text/x-python",
   "name": "python",
   "nbconvert_exporter": "python",
   "pygments_lexer": "ipython3",
   "version": "3.12.4"
  }
 },
 "nbformat": 4,
 "nbformat_minor": 5
}
