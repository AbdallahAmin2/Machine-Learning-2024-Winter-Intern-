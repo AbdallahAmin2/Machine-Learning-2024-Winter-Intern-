{
  "nbformat": 4,
  "nbformat_minor": 0,
  "metadata": {
    "colab": {
      "provenance": []
    },
    "kernelspec": {
      "name": "python3",
      "display_name": "Python 3"
    },
    "language_info": {
      "name": "python"
    }
  },
  "cells": [
    {
      "cell_type": "code",
      "execution_count": null,
      "metadata": {
        "id": "f19CB2In3Dvo"
      },
      "outputs": [],
      "source": [
        "import pandas as pd\n",
        "import numpy as np\n",
        "import matplotlib.pyplot as plt\n",
        "import seaborn as sns\n",
        "import warnings\n",
        "warnings.filterwarnings('ignore')"
      ]
    },
    {
      "cell_type": "code",
      "source": [
        "from google.colab import drive\n",
        "drive.mount('/content/drive')"
      ],
      "metadata": {
        "id": "DqIjmwSl3QAn"
      },
      "execution_count": null,
      "outputs": []
    },
    {
      "cell_type": "code",
      "source": [
        "data = pd.read_csv('/content/drive/MyDrive/Colab Notebooks/Hotel_canncelation/first inten project.csv')"
      ],
      "metadata": {
        "id": "pS2dyiLW3tu2"
      },
      "execution_count": null,
      "outputs": []
    },
    {
      "cell_type": "code",
      "source": [
        "data.head()"
      ],
      "metadata": {
        "id": "9GjTWJin4kmQ"
      },
      "execution_count": null,
      "outputs": []
    },
    {
      "cell_type": "markdown",
      "source": [
        "# **Check for Null values**"
      ],
      "metadata": {
        "id": "h6288uJqpObU"
      }
    },
    {
      "cell_type": "code",
      "source": [
        "data.isnull().sum()"
      ],
      "metadata": {
        "id": "fOPR4Eoi4pGO"
      },
      "execution_count": null,
      "outputs": []
    },
    {
      "cell_type": "code",
      "source": [
        "data.info()"
      ],
      "metadata": {
        "id": "Svup39uf4w3y"
      },
      "execution_count": null,
      "outputs": []
    },
    {
      "cell_type": "code",
      "source": [
        "# Changing datatype to Datetime\n",
        "data['date of reservation'] =  pd.to_datetime(data['date of reservation'], errors='coerce')\n",
        "\n",
        "# Extract day, month, and year from the date\n",
        "data['year'] = data['date of reservation'].dt.year\n",
        "data['month'] = data['date of reservation'].dt.month\n",
        "data['day'] = data['date of reservation'].dt.day\n",
        "\n",
        "\n",
        "# Dropping Booking_ID Column and date of reservation Column\n",
        "data.drop(columns=['Booking_ID','date of reservation'] , inplace=True)"
      ],
      "metadata": {
        "id": "5NoOXfrssC2a"
      },
      "execution_count": null,
      "outputs": []
    },
    {
      "cell_type": "code",
      "source": [
        "data.isnull().sum()"
      ],
      "metadata": {
        "id": "uenk6JrX5CcW"
      },
      "execution_count": null,
      "outputs": []
    },
    {
      "cell_type": "code",
      "source": [
        "data.dropna(inplace=True)"
      ],
      "metadata": {
        "id": "iE_A8Kzasj4s"
      },
      "execution_count": null,
      "outputs": []
    },
    {
      "cell_type": "code",
      "source": [
        "data['year'] = data['year'].astype(int)\n",
        "data['month'] = data['month'].astype(int)\n",
        "data['day'] = data['day'].astype(int)"
      ],
      "metadata": {
        "id": "NbakjGmwtYNG"
      },
      "execution_count": null,
      "outputs": []
    },
    {
      "cell_type": "code",
      "source": [
        "data.info()"
      ],
      "metadata": {
        "id": "Rv9FiKITtXx8"
      },
      "execution_count": null,
      "outputs": []
    },
    {
      "cell_type": "code",
      "source": [
        "# shape befor outlairs\n",
        "data.shape"
      ],
      "metadata": {
        "id": "bVvwiVu2peAk"
      },
      "execution_count": null,
      "outputs": []
    },
    {
      "cell_type": "code",
      "source": [
        "# befor removing outliers\n",
        "plt.figure(figsize=(12, 6))\n",
        "sns.boxplot(data, orient='h')\n",
        "plt.xticks(rotation=90)\n",
        "plt.show()"
      ],
      "metadata": {
        "id": "vgzhRLcW5YSm"
      },
      "execution_count": null,
      "outputs": []
    },
    {
      "cell_type": "code",
      "source": [
        "data.groupby(['year','booking status'])['year'].count()\n",
        "# Drop 2015,2016"
      ],
      "metadata": {
        "id": "OlN5_mO4t5af"
      },
      "execution_count": null,
      "outputs": []
    },
    {
      "cell_type": "code",
      "source": [
        "data = data[data['year'] != 2015]\n",
        "data = data[data['year'] != 2016]"
      ],
      "metadata": {
        "id": "dsDQB8H0uPGx"
      },
      "execution_count": null,
      "outputs": []
    },
    {
      "cell_type": "code",
      "source": [
        "data['average price ']"
      ],
      "metadata": {
        "id": "9AVHQahs-Lg_"
      },
      "execution_count": null,
      "outputs": []
    },
    {
      "cell_type": "code",
      "source": [
        "data[\"average price \"] = data[\"average price \"].round().astype(int)"
      ],
      "metadata": {
        "id": "jduYv3Gk9q1Q"
      },
      "execution_count": null,
      "outputs": []
    },
    {
      "cell_type": "code",
      "source": [
        "outliers_cols = [\"lead time\", \"average price \"]\n",
        "for column in outliers_cols:\n",
        "    if data[column].dtype in [\"int64\", \"float64\"]:\n",
        "        q1 = data[column].quantile(0.25)\n",
        "        q3 = data[column].quantile(0.75)\n",
        "        iqr = q3 - q1\n",
        "        lower_bound = q1 - 1.5 * iqr\n",
        "        upper_bound = q3 + 1.5 * iqr\n",
        "        data = data[\n",
        "            (data[column] >= lower_bound) & (data[column] <= upper_bound)\n",
        "        ]"
      ],
      "metadata": {
        "id": "JFbs716A6y-r"
      },
      "execution_count": null,
      "outputs": []
    },
    {
      "cell_type": "code",
      "source": [
        "# after removing outliers\n",
        "plt.figure(figsize=(12, 6))\n",
        "sns.boxplot(data, orient='h')\n",
        "plt.xticks(rotation=90)\n",
        "plt.show()"
      ],
      "metadata": {
        "id": "KFYcT9kZ7nxF"
      },
      "execution_count": null,
      "outputs": []
    },
    {
      "cell_type": "code",
      "source": [
        "data.shape"
      ],
      "metadata": {
        "id": "EHGQH27yp6NU"
      },
      "execution_count": null,
      "outputs": []
    },
    {
      "cell_type": "code",
      "source": [
        "status_map = {'Canceled': 1, 'Not_Canceled': 0}\n",
        "data['booking status'] = data['booking status'].map(status_map)"
      ],
      "metadata": {
        "id": "fHMWRFvuwIWa"
      },
      "execution_count": null,
      "outputs": []
    },
    {
      "cell_type": "code",
      "source": [
        "# Identify categorical columns\n",
        "encoding_columns = data.select_dtypes(include=[\"object\"]).columns\n",
        "\n",
        "# Perform one-hot encoding using pandas.get_dummies\n",
        "df_encoded = pd.get_dummies(data, columns=encoding_columns)\n",
        "\n",
        "# Print information about the encoded DataFrame\n",
        "df_encoded.info()"
      ],
      "metadata": {
        "id": "qkPQTc5jp7_o"
      },
      "execution_count": null,
      "outputs": []
    },
    {
      "cell_type": "code",
      "source": [
        "# Select boolean columns\n",
        "boolean_columns = df_encoded.select_dtypes(include=[\"bool\"]).columns\n",
        "\n",
        "# Convert boolean columns to integer type (True -> 1, False -> 0)\n",
        "df_encoded[boolean_columns] = df_encoded[boolean_columns].astype(int)"
      ],
      "metadata": {
        "id": "pa_8Ds80xnNX"
      },
      "execution_count": null,
      "outputs": []
    },
    {
      "cell_type": "code",
      "source": [
        "from sklearn.model_selection import train_test_split\n",
        "from sklearn.preprocessing import StandardScaler\n",
        "\n",
        "# Identify features and target\n",
        "X = df_encoded.drop(columns=['booking status'])  # Features\n",
        "y = df_encoded['booking status']  # Target\n",
        "\n",
        "# Standardize features\n",
        "scaler = StandardScaler()\n",
        "X_scaled = scaler.fit_transform(X)\n",
        "\n",
        "# Split the data into training and testing sets\n",
        "X_train, X_test, y_train, y_test = train_test_split(X_scaled, y, test_size=0.25, random_state=42)"
      ],
      "metadata": {
        "id": "5sc_fJrdxwYh"
      },
      "execution_count": null,
      "outputs": []
    },
    {
      "cell_type": "code",
      "source": [
        "from sklearn.neighbors import KNeighborsClassifier\n",
        "from sklearn.metrics import accuracy_score, classification_report, confusion_matrix\n",
        "from sklearn.model_selection import GridSearchCV\n",
        "\n",
        "param_grid = {\n",
        "    'n_neighbors': [1, 3, 5, 7, 9, 11, 15, 19, 25],\n",
        "    'weights': ['uniform', 'distance'],\n",
        "    'metric': ['euclidean', 'manhattan'],\n",
        "}\n",
        "\n",
        "knn = KNeighborsClassifier()\n",
        "grid_search = GridSearchCV(estimator=knn, param_grid=param_grid, cv=5)\n",
        "grid_search.fit(X_train, y_train)"
      ],
      "metadata": {
        "id": "C6Czu69nx8Z0"
      },
      "execution_count": null,
      "outputs": []
    },
    {
      "cell_type": "code",
      "source": [],
      "metadata": {
        "id": "XB0yyWKg0qK8"
      },
      "execution_count": null,
      "outputs": []
    }
  ]
}