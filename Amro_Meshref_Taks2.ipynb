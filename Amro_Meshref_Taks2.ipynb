{
 "cells": [
  {
   "cell_type": "markdown",
   "id": "6b39bdcf",
   "metadata": {},
   "source": [
    "## Importing Packages"
   ]
  },
  {
   "cell_type": "code",
   "execution_count": 806,
   "id": "d7d4cfdd",
   "metadata": {},
   "outputs": [],
   "source": [
    "import pandas as pd\n",
    "import seaborn as sns\n",
    "import matplotlib.pyplot as plt\n",
    "import numpy as np\n",
    "from sklearn.model_selection import train_test_split\n",
    "from sklearn.metrics import accuracy_score\n",
    "from tensorflow.keras.models import Sequential\n",
    "from tensorflow.keras.layers import Dense\n",
    "from tensorflow.keras.losses import binary_crossentropy\n",
    "from tensorflow.keras.optimizers import SGD\n",
    "from tensorflow.nn import sigmoid"
   ]
  },
  {
   "cell_type": "markdown",
   "id": "ae6982e1",
   "metadata": {},
   "source": [
    "#### Helper Functions"
   ]
  },
  {
   "cell_type": "code",
   "execution_count": 679,
   "id": "247b63eb",
   "metadata": {},
   "outputs": [],
   "source": [
    "def detect_outliers(column):\n",
    "    Q1 = data[column].quantile(0.25)\n",
    "    Q3 = data[column].quantile(0.75)\n",
    "    IQR = Q3 - Q1\n",
    "    lower_limit = Q1 - 1.5*IQR\n",
    "    upper_limit = Q3 + 1.5*IQR\n",
    "    outliers = (data[column] < lower_limit) | (data[column] > upper_limit)\n",
    "    return outliers"
   ]
  },
  {
   "cell_type": "code",
   "execution_count": null,
   "id": "050b39b6",
   "metadata": {},
   "outputs": [],
   "source": []
  },
  {
   "cell_type": "markdown",
   "id": "2ab93060",
   "metadata": {},
   "source": [
    "## -------------------------------------------------------------------------------------------------------"
   ]
  },
  {
   "cell_type": "markdown",
   "id": "a9234b4c",
   "metadata": {},
   "source": [
    "## Reading the CSV File"
   ]
  },
  {
   "cell_type": "code",
   "execution_count": 680,
   "id": "21f213e0",
   "metadata": {
    "scrolled": true
   },
   "outputs": [
    {
     "data": {
      "text/html": [
       "<div>\n",
       "<style scoped>\n",
       "    .dataframe tbody tr th:only-of-type {\n",
       "        vertical-align: middle;\n",
       "    }\n",
       "\n",
       "    .dataframe tbody tr th {\n",
       "        vertical-align: top;\n",
       "    }\n",
       "\n",
       "    .dataframe thead th {\n",
       "        text-align: right;\n",
       "    }\n",
       "</style>\n",
       "<table border=\"1\" class=\"dataframe\">\n",
       "  <thead>\n",
       "    <tr style=\"text-align: right;\">\n",
       "      <th></th>\n",
       "      <th>Booking_ID</th>\n",
       "      <th>number of adults</th>\n",
       "      <th>number of children</th>\n",
       "      <th>number of weekend nights</th>\n",
       "      <th>number of week nights</th>\n",
       "      <th>type of meal</th>\n",
       "      <th>car parking space</th>\n",
       "      <th>room type</th>\n",
       "      <th>lead time</th>\n",
       "      <th>market segment type</th>\n",
       "      <th>repeated</th>\n",
       "      <th>P-C</th>\n",
       "      <th>P-not-C</th>\n",
       "      <th>average price</th>\n",
       "      <th>special requests</th>\n",
       "      <th>date of reservation</th>\n",
       "      <th>booking status</th>\n",
       "    </tr>\n",
       "  </thead>\n",
       "  <tbody>\n",
       "    <tr>\n",
       "      <th>0</th>\n",
       "      <td>INN00001</td>\n",
       "      <td>1</td>\n",
       "      <td>1</td>\n",
       "      <td>2</td>\n",
       "      <td>5</td>\n",
       "      <td>Meal Plan 1</td>\n",
       "      <td>0</td>\n",
       "      <td>Room_Type 1</td>\n",
       "      <td>224</td>\n",
       "      <td>Offline</td>\n",
       "      <td>0</td>\n",
       "      <td>0</td>\n",
       "      <td>0</td>\n",
       "      <td>88.00</td>\n",
       "      <td>0</td>\n",
       "      <td>10/2/2015</td>\n",
       "      <td>Not_Canceled</td>\n",
       "    </tr>\n",
       "    <tr>\n",
       "      <th>1</th>\n",
       "      <td>INN00002</td>\n",
       "      <td>1</td>\n",
       "      <td>0</td>\n",
       "      <td>1</td>\n",
       "      <td>3</td>\n",
       "      <td>Not Selected</td>\n",
       "      <td>0</td>\n",
       "      <td>Room_Type 1</td>\n",
       "      <td>5</td>\n",
       "      <td>Online</td>\n",
       "      <td>0</td>\n",
       "      <td>0</td>\n",
       "      <td>0</td>\n",
       "      <td>106.68</td>\n",
       "      <td>1</td>\n",
       "      <td>11/6/2018</td>\n",
       "      <td>Not_Canceled</td>\n",
       "    </tr>\n",
       "    <tr>\n",
       "      <th>2</th>\n",
       "      <td>INN00003</td>\n",
       "      <td>2</td>\n",
       "      <td>1</td>\n",
       "      <td>1</td>\n",
       "      <td>3</td>\n",
       "      <td>Meal Plan 1</td>\n",
       "      <td>0</td>\n",
       "      <td>Room_Type 1</td>\n",
       "      <td>1</td>\n",
       "      <td>Online</td>\n",
       "      <td>0</td>\n",
       "      <td>0</td>\n",
       "      <td>0</td>\n",
       "      <td>50.00</td>\n",
       "      <td>0</td>\n",
       "      <td>2/28/2018</td>\n",
       "      <td>Canceled</td>\n",
       "    </tr>\n",
       "    <tr>\n",
       "      <th>3</th>\n",
       "      <td>INN00004</td>\n",
       "      <td>1</td>\n",
       "      <td>0</td>\n",
       "      <td>0</td>\n",
       "      <td>2</td>\n",
       "      <td>Meal Plan 1</td>\n",
       "      <td>0</td>\n",
       "      <td>Room_Type 1</td>\n",
       "      <td>211</td>\n",
       "      <td>Online</td>\n",
       "      <td>0</td>\n",
       "      <td>0</td>\n",
       "      <td>0</td>\n",
       "      <td>100.00</td>\n",
       "      <td>1</td>\n",
       "      <td>5/20/2017</td>\n",
       "      <td>Canceled</td>\n",
       "    </tr>\n",
       "    <tr>\n",
       "      <th>4</th>\n",
       "      <td>INN00005</td>\n",
       "      <td>1</td>\n",
       "      <td>0</td>\n",
       "      <td>1</td>\n",
       "      <td>2</td>\n",
       "      <td>Not Selected</td>\n",
       "      <td>0</td>\n",
       "      <td>Room_Type 1</td>\n",
       "      <td>48</td>\n",
       "      <td>Online</td>\n",
       "      <td>0</td>\n",
       "      <td>0</td>\n",
       "      <td>0</td>\n",
       "      <td>77.00</td>\n",
       "      <td>0</td>\n",
       "      <td>4/11/2018</td>\n",
       "      <td>Canceled</td>\n",
       "    </tr>\n",
       "  </tbody>\n",
       "</table>\n",
       "</div>"
      ],
      "text/plain": [
       "  Booking_ID  number of adults  number of children  number of weekend nights  \\\n",
       "0   INN00001                 1                   1                         2   \n",
       "1   INN00002                 1                   0                         1   \n",
       "2   INN00003                 2                   1                         1   \n",
       "3   INN00004                 1                   0                         0   \n",
       "4   INN00005                 1                   0                         1   \n",
       "\n",
       "   number of week nights  type of meal  car parking space    room type  \\\n",
       "0                      5   Meal Plan 1                  0  Room_Type 1   \n",
       "1                      3  Not Selected                  0  Room_Type 1   \n",
       "2                      3   Meal Plan 1                  0  Room_Type 1   \n",
       "3                      2   Meal Plan 1                  0  Room_Type 1   \n",
       "4                      2  Not Selected                  0  Room_Type 1   \n",
       "\n",
       "   lead time market segment type  repeated  P-C  P-not-C  average price   \\\n",
       "0        224             Offline         0    0        0           88.00   \n",
       "1          5              Online         0    0        0          106.68   \n",
       "2          1              Online         0    0        0           50.00   \n",
       "3        211              Online         0    0        0          100.00   \n",
       "4         48              Online         0    0        0           77.00   \n",
       "\n",
       "   special requests date of reservation booking status  \n",
       "0                 0           10/2/2015   Not_Canceled  \n",
       "1                 1           11/6/2018   Not_Canceled  \n",
       "2                 0           2/28/2018       Canceled  \n",
       "3                 1           5/20/2017       Canceled  \n",
       "4                 0           4/11/2018       Canceled  "
      ]
     },
     "execution_count": 680,
     "metadata": {},
     "output_type": "execute_result"
    }
   ],
   "source": [
    "data = pd.read_csv(\"../data/first inten project.csv\")\n",
    "data.head()"
   ]
  },
  {
   "cell_type": "code",
   "execution_count": 681,
   "id": "dd25d251",
   "metadata": {},
   "outputs": [
    {
     "data": {
      "text/plain": [
       "36285"
      ]
     },
     "execution_count": 681,
     "metadata": {},
     "output_type": "execute_result"
    }
   ],
   "source": [
    "len(data)"
   ]
  },
  {
   "cell_type": "markdown",
   "id": "9d8c9ea6",
   "metadata": {},
   "source": [
    "## -------------------------------------------------------------------------------------------------------"
   ]
  },
  {
   "cell_type": "markdown",
   "id": "31a6f5de",
   "metadata": {},
   "source": [
    "### Checking \"number of adults\" Feature"
   ]
  },
  {
   "cell_type": "code",
   "execution_count": 682,
   "id": "4e875bf4",
   "metadata": {},
   "outputs": [],
   "source": [
    "column = \"number of adults\""
   ]
  },
  {
   "cell_type": "code",
   "execution_count": 683,
   "id": "a6972845",
   "metadata": {
    "scrolled": true
   },
   "outputs": [
    {
     "data": {
      "text/plain": [
       "count    36285.000000\n",
       "mean         1.844839\n",
       "std          0.518813\n",
       "min          0.000000\n",
       "25%          2.000000\n",
       "50%          2.000000\n",
       "75%          2.000000\n",
       "max          4.000000\n",
       "Name: number of adults, dtype: float64"
      ]
     },
     "execution_count": 683,
     "metadata": {},
     "output_type": "execute_result"
    }
   ],
   "source": [
    "data[column].describe()"
   ]
  },
  {
   "cell_type": "code",
   "execution_count": 684,
   "id": "6f0d46a7",
   "metadata": {
    "scrolled": true
   },
   "outputs": [
    {
     "data": {
      "text/plain": [
       "number of adults\n",
       "2    26110\n",
       "1     7702\n",
       "3     2318\n",
       "0      139\n",
       "4       16\n",
       "Name: count, dtype: int64"
      ]
     },
     "execution_count": 684,
     "metadata": {},
     "output_type": "execute_result"
    }
   ],
   "source": [
    "data[column].value_counts()"
   ]
  },
  {
   "cell_type": "code",
   "execution_count": 685,
   "id": "437a8aa9",
   "metadata": {},
   "outputs": [
    {
     "name": "stdout",
     "output_type": "stream",
     "text": [
      "There are 0 null values.\n"
     ]
    }
   ],
   "source": [
    "null = np.sum(data[column].isnull())\n",
    "print(f\"There are {null} null values.\")"
   ]
  },
  {
   "cell_type": "code",
   "execution_count": 686,
   "id": "13d0e771",
   "metadata": {
    "scrolled": false
   },
   "outputs": [
    {
     "data": {
      "text/plain": [
       "<Axes: xlabel='number of adults'>"
      ]
     },
     "execution_count": 686,
     "metadata": {},
     "output_type": "execute_result"
    },
    {
     "data": {
      "image/png": "[encoded data removed]",
      "text/plain": [
       "<Figure size 640x480 with 1 Axes>"
      ]
     },
     "metadata": {},
     "output_type": "display_data"
    }
   ],
   "source": [
    "data[column].value_counts().plot(kind=\"bar\")"
   ]
  },
  {
   "cell_type": "markdown",
   "id": "7506788d",
   "metadata": {},
   "source": [
    "## -------------------------------------------------------------------------------------------------------"
   ]
  },
  {
   "cell_type": "markdown",
   "id": "e4bac1d7",
   "metadata": {},
   "source": [
    "### Checking \"number of children\" Feature"
   ]
  },
  {
   "cell_type": "code",
   "execution_count": 687,
   "id": "34af040f",
   "metadata": {},
   "outputs": [],
   "source": [
    "column = \"number of children\""
   ]
  },
  {
   "cell_type": "code",
   "execution_count": 688,
   "id": "2d323f2e",
   "metadata": {
    "scrolled": false
   },
   "outputs": [
    {
     "data": {
      "text/plain": [
       "count    36285.000000\n",
       "mean         0.105360\n",
       "std          0.402704\n",
       "min          0.000000\n",
       "25%          0.000000\n",
       "50%          0.000000\n",
       "75%          0.000000\n",
       "max         10.000000\n",
       "Name: number of children, dtype: float64"
      ]
     },
     "execution_count": 688,
     "metadata": {},
     "output_type": "execute_result"
    }
   ],
   "source": [
    "data[column].describe()"
   ]
  },
  {
   "cell_type": "code",
   "execution_count": 689,
   "id": "61cc85f0",
   "metadata": {
    "scrolled": true
   },
   "outputs": [
    {
     "data": {
      "text/plain": [
       "number of children\n",
       "0     33583\n",
       "1      1622\n",
       "2      1058\n",
       "3        19\n",
       "9         2\n",
       "10        1\n",
       "Name: count, dtype: int64"
      ]
     },
     "execution_count": 689,
     "metadata": {},
     "output_type": "execute_result"
    }
   ],
   "source": [
    "data[column].value_counts()"
   ]
  },
  {
   "cell_type": "code",
   "execution_count": 690,
   "id": "43f7078f",
   "metadata": {},
   "outputs": [
    {
     "name": "stdout",
     "output_type": "stream",
     "text": [
      "There are 0 null values.\n"
     ]
    }
   ],
   "source": [
    "null = np.sum(data[column].isnull())\n",
    "print(f\"There are {null} null values.\")"
   ]
  },
  {
   "cell_type": "code",
   "execution_count": 691,
   "id": "051ab78c",
   "metadata": {
    "scrolled": false
   },
   "outputs": [
    {
     "data": {
      "text/plain": [
       "<Axes: xlabel='number of children'>"
      ]
     },
     "execution_count": 691,
     "metadata": {},
     "output_type": "execute_result"
    },
    {
     "data": {
      "image/png": "[encoded data removed]",
      "text/plain": [
       "<Figure size 640x480 with 1 Axes>"
      ]
     },
     "metadata": {},
     "output_type": "display_data"
    }
   ],
   "source": [
    "data[column].value_counts().plot(kind=\"bar\")"
   ]
  },
  {
   "cell_type": "markdown",
   "id": "e6d8d22a",
   "metadata": {},
   "source": [
    "## -------------------------------------------------------------------------------------------------------"
   ]
  },
  {
   "cell_type": "markdown",
   "id": "7aca1b64",
   "metadata": {},
   "source": [
    "### Checking \"number of weekend nights\" Feature"
   ]
  },
  {
   "cell_type": "code",
   "execution_count": 692,
   "id": "4ba0d685",
   "metadata": {},
   "outputs": [],
   "source": [
    "column = \"number of weekend nights\""
   ]
  },
  {
   "cell_type": "code",
   "execution_count": 693,
   "id": "7592fb1e",
   "metadata": {
    "scrolled": false
   },
   "outputs": [
    {
     "data": {
      "text/plain": [
       "count    36285.000000\n",
       "mean         0.810693\n",
       "std          0.870590\n",
       "min          0.000000\n",
       "25%          0.000000\n",
       "50%          1.000000\n",
       "75%          2.000000\n",
       "max          7.000000\n",
       "Name: number of weekend nights, dtype: float64"
      ]
     },
     "execution_count": 693,
     "metadata": {},
     "output_type": "execute_result"
    }
   ],
   "source": [
    "data[column].describe()"
   ]
  },
  {
   "cell_type": "code",
   "execution_count": 694,
   "id": "0c29a424",
   "metadata": {
    "scrolled": true
   },
   "outputs": [
    {
     "data": {
      "text/plain": [
       "number of weekend nights\n",
       "0    16876\n",
       "1    10000\n",
       "2     9072\n",
       "3      153\n",
       "4      129\n",
       "5       34\n",
       "6       20\n",
       "7        1\n",
       "Name: count, dtype: int64"
      ]
     },
     "execution_count": 694,
     "metadata": {},
     "output_type": "execute_result"
    }
   ],
   "source": [
    "data[column].value_counts()"
   ]
  },
  {
   "cell_type": "code",
   "execution_count": 695,
   "id": "d610f6de",
   "metadata": {},
   "outputs": [
    {
     "name": "stdout",
     "output_type": "stream",
     "text": [
      "There are 0 null values.\n"
     ]
    }
   ],
   "source": [
    "null = np.sum(data[column].isnull())\n",
    "print(f\"There are {null} null values.\")"
   ]
  },
  {
   "cell_type": "code",
   "execution_count": 696,
   "id": "b6adc675",
   "metadata": {
    "scrolled": false
   },
   "outputs": [
    {
     "data": {
      "text/plain": [
       "<Axes: xlabel='number of weekend nights'>"
      ]
     },
     "execution_count": 696,
     "metadata": {},
     "output_type": "execute_result"
    },
    {
     "data": {
      "image/png": "[encoded data removed]",
      "text/plain": [
       "<Figure size 640x480 with 1 Axes>"
      ]
     },
     "metadata": {},
     "output_type": "display_data"
    }
   ],
   "source": [
    "data[column].value_counts().plot(kind=\"bar\")"
   ]
  },
  {
   "cell_type": "markdown",
   "id": "9f78aaf0",
   "metadata": {},
   "source": [
    "## -------------------------------------------------------------------------------------------------------"
   ]
  },
  {
   "cell_type": "markdown",
   "id": "59fb180b",
   "metadata": {},
   "source": [
    "### Checking \"number of week nights\" Feature"
   ]
  },
  {
   "cell_type": "code",
   "execution_count": 697,
   "id": "92be6e4d",
   "metadata": {},
   "outputs": [],
   "source": [
    "column = \"number of week nights\""
   ]
  },
  {
   "cell_type": "code",
   "execution_count": 698,
   "id": "abd0e450",
   "metadata": {
    "scrolled": false
   },
   "outputs": [
    {
     "data": {
      "text/plain": [
       "count    36285.000000\n",
       "mean         2.204602\n",
       "std          1.410946\n",
       "min          0.000000\n",
       "25%          1.000000\n",
       "50%          2.000000\n",
       "75%          3.000000\n",
       "max         17.000000\n",
       "Name: number of week nights, dtype: float64"
      ]
     },
     "execution_count": 698,
     "metadata": {},
     "output_type": "execute_result"
    }
   ],
   "source": [
    "data[column].describe()"
   ]
  },
  {
   "cell_type": "code",
   "execution_count": 699,
   "id": "c5343f10",
   "metadata": {
    "scrolled": false
   },
   "outputs": [
    {
     "data": {
      "text/plain": [
       "number of week nights\n",
       "2     11447\n",
       "1      9488\n",
       "3      7842\n",
       "4      2992\n",
       "0      2387\n",
       "5      1616\n",
       "6       189\n",
       "7       113\n",
       "10       62\n",
       "8        62\n",
       "9        34\n",
       "11       17\n",
       "15       10\n",
       "12        9\n",
       "14        7\n",
       "13        5\n",
       "17        3\n",
       "16        2\n",
       "Name: count, dtype: int64"
      ]
     },
     "execution_count": 699,
     "metadata": {},
     "output_type": "execute_result"
    }
   ],
   "source": [
    "data[column].value_counts()"
   ]
  },
  {
   "cell_type": "code",
   "execution_count": 700,
   "id": "740787fc",
   "metadata": {},
   "outputs": [
    {
     "name": "stdout",
     "output_type": "stream",
     "text": [
      "There are 0 null values.\n"
     ]
    }
   ],
   "source": [
    "null = np.sum(data[column].isnull())\n",
    "print(f\"There are {null} null values.\")"
   ]
  },
  {
   "cell_type": "code",
   "execution_count": 701,
   "id": "3744a581",
   "metadata": {
    "scrolled": false
   },
   "outputs": [
    {
     "data": {
      "text/plain": [
       "<Axes: xlabel='number of week nights'>"
      ]
     },
     "execution_count": 701,
     "metadata": {},
     "output_type": "execute_result"
    },
    {
     "data": {
      "image/png": "[encoded data removed]",
      "text/plain": [
       "<Figure size 640x480 with 1 Axes>"
      ]
     },
     "metadata": {},
     "output_type": "display_data"
    }
   ],
   "source": [
    "data[column].value_counts().plot(kind=\"bar\")"
   ]
  },
  {
   "cell_type": "markdown",
   "id": "551a8ad3",
   "metadata": {},
   "source": [
    "## -------------------------------------------------------------------------------------------------------"
   ]
  },
  {
   "cell_type": "markdown",
   "id": "e2698af1",
   "metadata": {},
   "source": [
    "### Checking \"type of meal\" Feature"
   ]
  },
  {
   "cell_type": "code",
   "execution_count": 702,
   "id": "52a757f2",
   "metadata": {},
   "outputs": [],
   "source": [
    "column = \"type of meal\""
   ]
  },
  {
   "cell_type": "code",
   "execution_count": 703,
   "id": "8547ad6b",
   "metadata": {
    "scrolled": false
   },
   "outputs": [
    {
     "data": {
      "text/plain": [
       "count           36285\n",
       "unique              4\n",
       "top       Meal Plan 1\n",
       "freq            27842\n",
       "Name: type of meal, dtype: object"
      ]
     },
     "execution_count": 703,
     "metadata": {},
     "output_type": "execute_result"
    }
   ],
   "source": [
    "data[column].describe()"
   ]
  },
  {
   "cell_type": "code",
   "execution_count": 704,
   "id": "7294ff48",
   "metadata": {},
   "outputs": [
    {
     "data": {
      "text/plain": [
       "type of meal\n",
       "Meal Plan 1     27842\n",
       "Not Selected     5132\n",
       "Meal Plan 2      3306\n",
       "Meal Plan 3         5\n",
       "Name: count, dtype: int64"
      ]
     },
     "execution_count": 704,
     "metadata": {},
     "output_type": "execute_result"
    }
   ],
   "source": [
    "data[column].value_counts()"
   ]
  },
  {
   "cell_type": "code",
   "execution_count": 705,
   "id": "cb7ed15e",
   "metadata": {},
   "outputs": [
    {
     "name": "stdout",
     "output_type": "stream",
     "text": [
      "There are 0 null values.\n"
     ]
    }
   ],
   "source": [
    "null = np.sum(data[column].isnull())\n",
    "print(f\"There are {null} null values.\")"
   ]
  },
  {
   "cell_type": "code",
   "execution_count": 706,
   "id": "404f5093",
   "metadata": {
    "scrolled": false
   },
   "outputs": [
    {
     "data": {
      "text/plain": [
       "<Axes: xlabel='type of meal'>"
      ]
     },
     "execution_count": 706,
     "metadata": {},
     "output_type": "execute_result"
    },
    {
     "data": {
      "image/png": "[encoded data removed]",
      "text/plain": [
       "<Figure size 640x480 with 1 Axes>"
      ]
     },
     "metadata": {},
     "output_type": "display_data"
    }
   ],
   "source": [
    "data[column].value_counts().plot(kind='bar')"
   ]
  },
  {
   "cell_type": "markdown",
   "id": "4564e0d0",
   "metadata": {},
   "source": [
    "##### Do one hot encoding for this categorical feature"
   ]
  },
  {
   "cell_type": "code",
   "execution_count": 707,
   "id": "36ed05ce",
   "metadata": {},
   "outputs": [],
   "source": [
    "# Not Selected ...> 0\n",
    "# Meal Plan 1  ...> 1\n",
    "# Meal Plan 2  ...> 2\n",
    "# Meal Plan 3  ...> 3"
   ]
  },
  {
   "cell_type": "code",
   "execution_count": 708,
   "id": "c1b20340",
   "metadata": {},
   "outputs": [
    {
     "name": "stderr",
     "output_type": "stream",
     "text": [
      "/tmp/ipykernel_34441/1547429505.py:4: FutureWarning: Downcasting behavior in `replace` is deprecated and will be removed in a future version. To retain the old behavior, explicitly call `result.infer_objects(copy=False)`. To opt-in to the future behavior, set `pd.set_option('future.no_silent_downcasting', True)`\n",
      "  data[column] = data[column].replace(\"Meal Plan 3\", 3)\n"
     ]
    }
   ],
   "source": [
    "data[column] = data[column].replace(\"Not Selected\", 0)\n",
    "data[column] = data[column].replace(\"Meal Plan 1\", 1)\n",
    "data[column] = data[column].replace(\"Meal Plan 2\", 2)\n",
    "data[column] = data[column].replace(\"Meal Plan 3\", 3)"
   ]
  },
  {
   "cell_type": "code",
   "execution_count": 709,
   "id": "034f1c89",
   "metadata": {
    "scrolled": false
   },
   "outputs": [
    {
     "data": {
      "text/plain": [
       "type of meal\n",
       "1    27842\n",
       "0     5132\n",
       "2     3306\n",
       "3        5\n",
       "Name: count, dtype: int64"
      ]
     },
     "execution_count": 709,
     "metadata": {},
     "output_type": "execute_result"
    }
   ],
   "source": [
    "data[column].value_counts()"
   ]
  },
  {
   "cell_type": "markdown",
   "id": "388bff79",
   "metadata": {},
   "source": [
    "## -------------------------------------------------------------------------------------------------------"
   ]
  },
  {
   "cell_type": "markdown",
   "id": "a027ff28",
   "metadata": {},
   "source": [
    "### Checking \"car parking space\" Feature"
   ]
  },
  {
   "cell_type": "code",
   "execution_count": 710,
   "id": "9b49f820",
   "metadata": {},
   "outputs": [],
   "source": [
    "column = \"car parking space\""
   ]
  },
  {
   "cell_type": "code",
   "execution_count": 711,
   "id": "5047aad6",
   "metadata": {
    "scrolled": false
   },
   "outputs": [
    {
     "data": {
      "text/plain": [
       "count    36285.000000\n",
       "mean         0.030977\n",
       "std          0.173258\n",
       "min          0.000000\n",
       "25%          0.000000\n",
       "50%          0.000000\n",
       "75%          0.000000\n",
       "max          1.000000\n",
       "Name: car parking space, dtype: float64"
      ]
     },
     "execution_count": 711,
     "metadata": {},
     "output_type": "execute_result"
    }
   ],
   "source": [
    "data[column].describe()"
   ]
  },
  {
   "cell_type": "code",
   "execution_count": 712,
   "id": "f01f70cc",
   "metadata": {
    "scrolled": true
   },
   "outputs": [
    {
     "data": {
      "text/plain": [
       "car parking space\n",
       "0    35161\n",
       "1     1124\n",
       "Name: count, dtype: int64"
      ]
     },
     "execution_count": 712,
     "metadata": {},
     "output_type": "execute_result"
    }
   ],
   "source": [
    "data[column].value_counts()"
   ]
  },
  {
   "cell_type": "code",
   "execution_count": 713,
   "id": "cf99a374",
   "metadata": {},
   "outputs": [
    {
     "name": "stdout",
     "output_type": "stream",
     "text": [
      "There are 0 null values.\n"
     ]
    }
   ],
   "source": [
    "null = np.sum(data[column].isnull())\n",
    "print(f\"There are {null} null values.\")"
   ]
  },
  {
   "cell_type": "code",
   "execution_count": 714,
   "id": "33211842",
   "metadata": {
    "scrolled": false
   },
   "outputs": [
    {
     "data": {
      "text/plain": [
       "<Axes: xlabel='car parking space'>"
      ]
     },
     "execution_count": 714,
     "metadata": {},
     "output_type": "execute_result"
    },
    {
     "data": {
      "image/png": "[encoded data removed]",
      "text/plain": [
       "<Figure size 640x480 with 1 Axes>"
      ]
     },
     "metadata": {},
     "output_type": "display_data"
    }
   ],
   "source": [
    "data[column].value_counts().plot(kind=\"bar\")"
   ]
  },
  {
   "cell_type": "markdown",
   "id": "b397a1de",
   "metadata": {},
   "source": [
    "## -------------------------------------------------------------------------------------------------------"
   ]
  },
  {
   "cell_type": "markdown",
   "id": "2ef53537",
   "metadata": {},
   "source": [
    "### Checking \"room type\" Feature"
   ]
  },
  {
   "cell_type": "code",
   "execution_count": 715,
   "id": "5b2feca7",
   "metadata": {},
   "outputs": [],
   "source": [
    "column = \"room type\""
   ]
  },
  {
   "cell_type": "code",
   "execution_count": 716,
   "id": "4d1f1e64",
   "metadata": {
    "scrolled": false
   },
   "outputs": [
    {
     "data": {
      "text/plain": [
       "count           36285\n",
       "unique              7\n",
       "top       Room_Type 1\n",
       "freq            28138\n",
       "Name: room type, dtype: object"
      ]
     },
     "execution_count": 716,
     "metadata": {},
     "output_type": "execute_result"
    }
   ],
   "source": [
    "data[column].describe()"
   ]
  },
  {
   "cell_type": "code",
   "execution_count": 717,
   "id": "169d6113",
   "metadata": {},
   "outputs": [
    {
     "data": {
      "text/plain": [
       "room type\n",
       "Room_Type 1    28138\n",
       "Room_Type 4     6059\n",
       "Room_Type 6      966\n",
       "Room_Type 2      692\n",
       "Room_Type 5      265\n",
       "Room_Type 7      158\n",
       "Room_Type 3        7\n",
       "Name: count, dtype: int64"
      ]
     },
     "execution_count": 717,
     "metadata": {},
     "output_type": "execute_result"
    }
   ],
   "source": [
    "data[column].value_counts()"
   ]
  },
  {
   "cell_type": "code",
   "execution_count": 718,
   "id": "7c297ed1",
   "metadata": {},
   "outputs": [
    {
     "name": "stdout",
     "output_type": "stream",
     "text": [
      "There are 0 null values.\n"
     ]
    }
   ],
   "source": [
    "null = np.sum(data[column].isnull())\n",
    "print(f\"There are {null} null values.\")"
   ]
  },
  {
   "cell_type": "code",
   "execution_count": 719,
   "id": "2c999976",
   "metadata": {
    "scrolled": false
   },
   "outputs": [
    {
     "data": {
      "text/plain": [
       "<Axes: xlabel='room type'>"
      ]
     },
     "execution_count": 719,
     "metadata": {},
     "output_type": "execute_result"
    },
    {
     "data": {
      "image/png": "[encoded data removed]",
      "text/plain": [
       "<Figure size 640x480 with 1 Axes>"
      ]
     },
     "metadata": {},
     "output_type": "display_data"
    }
   ],
   "source": [
    "data[column].value_counts().plot(kind='bar')"
   ]
  },
  {
   "cell_type": "markdown",
   "id": "37fb0af0",
   "metadata": {},
   "source": [
    "##### Do one hot encoding for this categorical feature"
   ]
  },
  {
   "cell_type": "code",
   "execution_count": 720,
   "id": "8cceca8c",
   "metadata": {},
   "outputs": [],
   "source": [
    "# Room_Type 1  ...> 0\n",
    "# Room_Type 2  ...> 1\n",
    "# Room_Type 3  ...> 2\n",
    "# Room_Type 4  ...> 3\n",
    "# Room_Type 5  ...> 4\n",
    "# Room_Type 6  ...> 5\n",
    "# Room_Type 7  ...> 6"
   ]
  },
  {
   "cell_type": "code",
   "execution_count": 721,
   "id": "bb73fbbc",
   "metadata": {},
   "outputs": [
    {
     "name": "stderr",
     "output_type": "stream",
     "text": [
      "/tmp/ipykernel_34441/4244024858.py:7: FutureWarning: Downcasting behavior in `replace` is deprecated and will be removed in a future version. To retain the old behavior, explicitly call `result.infer_objects(copy=False)`. To opt-in to the future behavior, set `pd.set_option('future.no_silent_downcasting', True)`\n",
      "  data[column] = data[column].replace(\"Room_Type 7\", 6)\n"
     ]
    }
   ],
   "source": [
    "data[column] = data[column].replace(\"Room_Type 1\", 0)\n",
    "data[column] = data[column].replace(\"Room_Type 2\", 1)\n",
    "data[column] = data[column].replace(\"Room_Type 3\", 2)\n",
    "data[column] = data[column].replace(\"Room_Type 4\", 3)\n",
    "data[column] = data[column].replace(\"Room_Type 5\", 4)\n",
    "data[column] = data[column].replace(\"Room_Type 6\", 5)\n",
    "data[column] = data[column].replace(\"Room_Type 7\", 6)"
   ]
  },
  {
   "cell_type": "code",
   "execution_count": 722,
   "id": "6f9d7bac",
   "metadata": {
    "scrolled": false
   },
   "outputs": [
    {
     "data": {
      "text/plain": [
       "room type\n",
       "0    28138\n",
       "3     6059\n",
       "5      966\n",
       "1      692\n",
       "4      265\n",
       "6      158\n",
       "2        7\n",
       "Name: count, dtype: int64"
      ]
     },
     "execution_count": 722,
     "metadata": {},
     "output_type": "execute_result"
    }
   ],
   "source": [
    "data[column].value_counts()"
   ]
  },
  {
   "cell_type": "markdown",
   "id": "beab7176",
   "metadata": {},
   "source": [
    "## -------------------------------------------------------------------------------------------------------"
   ]
  },
  {
   "cell_type": "markdown",
   "id": "a22ce2ba",
   "metadata": {},
   "source": [
    "### Checking \"lead time\" Feature"
   ]
  },
  {
   "cell_type": "code",
   "execution_count": 723,
   "id": "cf0b1d31",
   "metadata": {},
   "outputs": [],
   "source": [
    "column = \"lead time\""
   ]
  },
  {
   "cell_type": "code",
   "execution_count": 724,
   "id": "c0dddb1f",
   "metadata": {
    "scrolled": true
   },
   "outputs": [
    {
     "data": {
      "text/plain": [
       "count    36285.000000\n",
       "mean        85.239851\n",
       "std         85.938796\n",
       "min          0.000000\n",
       "25%         17.000000\n",
       "50%         57.000000\n",
       "75%        126.000000\n",
       "max        443.000000\n",
       "Name: lead time, dtype: float64"
      ]
     },
     "execution_count": 724,
     "metadata": {},
     "output_type": "execute_result"
    }
   ],
   "source": [
    "data[column].describe()"
   ]
  },
  {
   "cell_type": "code",
   "execution_count": 725,
   "id": "1046124b",
   "metadata": {},
   "outputs": [
    {
     "name": "stdout",
     "output_type": "stream",
     "text": [
      "There are 0 null values.\n"
     ]
    }
   ],
   "source": [
    "null = np.sum(data[column].isnull())\n",
    "print(f\"There are {null} null values.\")"
   ]
  },
  {
   "cell_type": "code",
   "execution_count": 726,
   "id": "81855595",
   "metadata": {},
   "outputs": [
    {
     "data": {
      "text/plain": [
       "<Axes: xlabel='lead time', ylabel='Count'>"
      ]
     },
     "execution_count": 726,
     "metadata": {},
     "output_type": "execute_result"
    },
    {
     "data": {
      "image/png": "[encoded data removed]",
      "text/plain": [
       "<Figure size 640x480 with 1 Axes>"
      ]
     },
     "metadata": {},
     "output_type": "display_data"
    }
   ],
   "source": [
    "sns.histplot(data[column], kde=False)"
   ]
  },
  {
   "cell_type": "code",
   "execution_count": 727,
   "id": "5394e002",
   "metadata": {
    "scrolled": false
   },
   "outputs": [
    {
     "data": {
      "text/plain": [
       "<Axes: xlabel='lead time'>"
      ]
     },
     "execution_count": 727,
     "metadata": {},
     "output_type": "execute_result"
    },
    {
     "data": {
      "image/png": "[encoded data removed]",
      "text/plain": [
       "<Figure size 640x480 with 1 Axes>"
      ]
     },
     "metadata": {},
     "output_type": "display_data"
    }
   ],
   "source": [
    "sns.boxplot(data[column], orient=\"h\")"
   ]
  },
  {
   "cell_type": "code",
   "execution_count": 728,
   "id": "2b712596",
   "metadata": {
    "scrolled": true
   },
   "outputs": [
    {
     "name": "stdout",
     "output_type": "stream",
     "text": [
      "Number of outliers: 1332\n"
     ]
    }
   ],
   "source": [
    "outliers = detect_outliers(column)\n",
    "print(f\"Number of outliers:\", np.sum(outliers))"
   ]
  },
  {
   "cell_type": "markdown",
   "id": "98e0f806",
   "metadata": {},
   "source": [
    "- I will not remove/replace the outliers because higher values for lead time may have an impact on the booking status"
   ]
  },
  {
   "cell_type": "markdown",
   "id": "ec5776bb",
   "metadata": {},
   "source": [
    "## -------------------------------------------------------------------------------------------------------"
   ]
  },
  {
   "cell_type": "markdown",
   "id": "d54dc077",
   "metadata": {},
   "source": [
    "### Checking \"market segment type\" Feature"
   ]
  },
  {
   "cell_type": "code",
   "execution_count": 729,
   "id": "6eae3003",
   "metadata": {},
   "outputs": [],
   "source": [
    "column = \"market segment type\""
   ]
  },
  {
   "cell_type": "code",
   "execution_count": 730,
   "id": "2b3c6295",
   "metadata": {
    "scrolled": false
   },
   "outputs": [
    {
     "data": {
      "text/plain": [
       "count      36285\n",
       "unique         5\n",
       "top       Online\n",
       "freq       23221\n",
       "Name: market segment type, dtype: object"
      ]
     },
     "execution_count": 730,
     "metadata": {},
     "output_type": "execute_result"
    }
   ],
   "source": [
    "data[column].describe()"
   ]
  },
  {
   "cell_type": "code",
   "execution_count": 731,
   "id": "9f69d3b4",
   "metadata": {},
   "outputs": [
    {
     "data": {
      "text/plain": [
       "market segment type\n",
       "Online           23221\n",
       "Offline          10531\n",
       "Corporate         2017\n",
       "Complementary      391\n",
       "Aviation           125\n",
       "Name: count, dtype: int64"
      ]
     },
     "execution_count": 731,
     "metadata": {},
     "output_type": "execute_result"
    }
   ],
   "source": [
    "data[column].value_counts()"
   ]
  },
  {
   "cell_type": "code",
   "execution_count": 732,
   "id": "5f3e84dd",
   "metadata": {},
   "outputs": [
    {
     "name": "stdout",
     "output_type": "stream",
     "text": [
      "There are 0 null values.\n"
     ]
    }
   ],
   "source": [
    "null = np.sum(data[column].isnull())\n",
    "print(f\"There are {null} null values.\")"
   ]
  },
  {
   "cell_type": "code",
   "execution_count": 733,
   "id": "470d36c9",
   "metadata": {
    "scrolled": false
   },
   "outputs": [
    {
     "data": {
      "text/plain": [
       "<Axes: xlabel='market segment type'>"
      ]
     },
     "execution_count": 733,
     "metadata": {},
     "output_type": "execute_result"
    },
    {
     "data": {
      "image/png": "[encoded data removed]",
      "text/plain": [
       "<Figure size 640x480 with 1 Axes>"
      ]
     },
     "metadata": {},
     "output_type": "display_data"
    }
   ],
   "source": [
    "data[column].value_counts().plot(kind='bar')"
   ]
  },
  {
   "cell_type": "markdown",
   "id": "e9c5a342",
   "metadata": {},
   "source": [
    "##### Do one hot encoding for this categorical feature"
   ]
  },
  {
   "cell_type": "code",
   "execution_count": 734,
   "id": "bb62cd44",
   "metadata": {},
   "outputs": [],
   "source": [
    "# Online         ...> 0\n",
    "# Offline        ...> 1\n",
    "# Corporate      ...> 2\n",
    "# Complementary  ...> 3\n",
    "# Aviation       ...> 4"
   ]
  },
  {
   "cell_type": "code",
   "execution_count": 735,
   "id": "49147d6a",
   "metadata": {},
   "outputs": [
    {
     "name": "stderr",
     "output_type": "stream",
     "text": [
      "/tmp/ipykernel_34441/1028570482.py:5: FutureWarning: Downcasting behavior in `replace` is deprecated and will be removed in a future version. To retain the old behavior, explicitly call `result.infer_objects(copy=False)`. To opt-in to the future behavior, set `pd.set_option('future.no_silent_downcasting', True)`\n",
      "  data[column] = data[column].replace(\"Aviation\", 4)\n"
     ]
    }
   ],
   "source": [
    "data[column] = data[column].replace(\"Online\", 0)\n",
    "data[column] = data[column].replace(\"Offline\", 1)\n",
    "data[column] = data[column].replace(\"Corporate\", 2)\n",
    "data[column] = data[column].replace(\"Complementary\", 3)\n",
    "data[column] = data[column].replace(\"Aviation\", 4)"
   ]
  },
  {
   "cell_type": "code",
   "execution_count": 736,
   "id": "2b4dacfc",
   "metadata": {
    "scrolled": true
   },
   "outputs": [
    {
     "data": {
      "text/plain": [
       "market segment type\n",
       "0    23221\n",
       "1    10531\n",
       "2     2017\n",
       "3      391\n",
       "4      125\n",
       "Name: count, dtype: int64"
      ]
     },
     "execution_count": 736,
     "metadata": {},
     "output_type": "execute_result"
    }
   ],
   "source": [
    "data[column].value_counts()"
   ]
  },
  {
   "cell_type": "markdown",
   "id": "3b8177e5",
   "metadata": {},
   "source": [
    "## -------------------------------------------------------------------------------------------------------"
   ]
  },
  {
   "cell_type": "markdown",
   "id": "ef6ff55a",
   "metadata": {},
   "source": [
    "### Checking \"repeated\" Feature"
   ]
  },
  {
   "cell_type": "code",
   "execution_count": 737,
   "id": "5ae9a950",
   "metadata": {},
   "outputs": [],
   "source": [
    "column = \"repeated\""
   ]
  },
  {
   "cell_type": "code",
   "execution_count": 738,
   "id": "b53248b6",
   "metadata": {
    "scrolled": false
   },
   "outputs": [
    {
     "data": {
      "text/plain": [
       "count    36285.000000\n",
       "mean         0.025630\n",
       "std          0.158032\n",
       "min          0.000000\n",
       "25%          0.000000\n",
       "50%          0.000000\n",
       "75%          0.000000\n",
       "max          1.000000\n",
       "Name: repeated, dtype: float64"
      ]
     },
     "execution_count": 738,
     "metadata": {},
     "output_type": "execute_result"
    }
   ],
   "source": [
    "data[column].describe()"
   ]
  },
  {
   "cell_type": "code",
   "execution_count": 739,
   "id": "c5205b7d",
   "metadata": {
    "scrolled": true
   },
   "outputs": [
    {
     "data": {
      "text/plain": [
       "repeated\n",
       "0    35355\n",
       "1      930\n",
       "Name: count, dtype: int64"
      ]
     },
     "execution_count": 739,
     "metadata": {},
     "output_type": "execute_result"
    }
   ],
   "source": [
    "data[column].value_counts()"
   ]
  },
  {
   "cell_type": "code",
   "execution_count": 740,
   "id": "ab6d947c",
   "metadata": {},
   "outputs": [
    {
     "name": "stdout",
     "output_type": "stream",
     "text": [
      "There are 0 null values.\n"
     ]
    }
   ],
   "source": [
    "null = np.sum(data[column].isnull())\n",
    "print(f\"There are {null} null values.\")"
   ]
  },
  {
   "cell_type": "code",
   "execution_count": 741,
   "id": "4ab2d42f",
   "metadata": {
    "scrolled": true
   },
   "outputs": [
    {
     "data": {
      "text/plain": [
       "<Axes: xlabel='repeated'>"
      ]
     },
     "execution_count": 741,
     "metadata": {},
     "output_type": "execute_result"
    },
    {
     "data": {
      "image/png": "[encoded data removed]",
      "text/plain": [
       "<Figure size 640x480 with 1 Axes>"
      ]
     },
     "metadata": {},
     "output_type": "display_data"
    }
   ],
   "source": [
    "data[column].value_counts().plot(kind=\"bar\")"
   ]
  },
  {
   "cell_type": "code",
   "execution_count": null,
   "id": "14249980",
   "metadata": {},
   "outputs": [],
   "source": []
  },
  {
   "cell_type": "markdown",
   "id": "3eb267bb",
   "metadata": {},
   "source": [
    "## -------------------------------------------------------------------------------------------------------"
   ]
  },
  {
   "cell_type": "markdown",
   "id": "e9d0c392",
   "metadata": {},
   "source": [
    "### Checking \"P-C\" Feature"
   ]
  },
  {
   "cell_type": "code",
   "execution_count": 742,
   "id": "11794e40",
   "metadata": {},
   "outputs": [],
   "source": [
    "column = \"P-C\""
   ]
  },
  {
   "cell_type": "code",
   "execution_count": 743,
   "id": "b972f7bf",
   "metadata": {
    "scrolled": false
   },
   "outputs": [
    {
     "data": {
      "text/plain": [
       "count    36285.000000\n",
       "mean         0.023343\n",
       "std          0.368281\n",
       "min          0.000000\n",
       "25%          0.000000\n",
       "50%          0.000000\n",
       "75%          0.000000\n",
       "max         13.000000\n",
       "Name: P-C, dtype: float64"
      ]
     },
     "execution_count": 743,
     "metadata": {},
     "output_type": "execute_result"
    }
   ],
   "source": [
    "data[column].describe()"
   ]
  },
  {
   "cell_type": "code",
   "execution_count": 744,
   "id": "210d8014",
   "metadata": {
    "scrolled": true
   },
   "outputs": [
    {
     "data": {
      "text/plain": [
       "P-C\n",
       "0     35947\n",
       "1       198\n",
       "2        46\n",
       "3        43\n",
       "11       25\n",
       "5        11\n",
       "4        10\n",
       "13        4\n",
       "6         1\n",
       "Name: count, dtype: int64"
      ]
     },
     "execution_count": 744,
     "metadata": {},
     "output_type": "execute_result"
    }
   ],
   "source": [
    "data[column].value_counts()"
   ]
  },
  {
   "cell_type": "code",
   "execution_count": 745,
   "id": "021de3c3",
   "metadata": {},
   "outputs": [
    {
     "name": "stdout",
     "output_type": "stream",
     "text": [
      "There are 0 null values.\n"
     ]
    }
   ],
   "source": [
    "null = np.sum(data[column].isnull())\n",
    "print(f\"There are {null} null values.\")"
   ]
  },
  {
   "cell_type": "code",
   "execution_count": 746,
   "id": "ce28d9b3",
   "metadata": {
    "scrolled": true
   },
   "outputs": [
    {
     "data": {
      "text/plain": [
       "<Axes: xlabel='P-C'>"
      ]
     },
     "execution_count": 746,
     "metadata": {},
     "output_type": "execute_result"
    },
    {
     "data": {
      "image/png": "[encoded data removed]",
      "text/plain": [
       "<Figure size 640x480 with 1 Axes>"
      ]
     },
     "metadata": {},
     "output_type": "display_data"
    }
   ],
   "source": [
    "data[column].value_counts().plot(kind=\"bar\")"
   ]
  },
  {
   "cell_type": "markdown",
   "id": "7b818867",
   "metadata": {},
   "source": [
    "## -------------------------------------------------------------------------------------------------------"
   ]
  },
  {
   "cell_type": "markdown",
   "id": "b5f85f22",
   "metadata": {},
   "source": [
    "### Checking \"P-not-C\" Feature"
   ]
  },
  {
   "cell_type": "code",
   "execution_count": 747,
   "id": "a2c850bb",
   "metadata": {},
   "outputs": [],
   "source": [
    "column = \"P-not-C\""
   ]
  },
  {
   "cell_type": "code",
   "execution_count": 748,
   "id": "4888f040",
   "metadata": {
    "scrolled": false
   },
   "outputs": [
    {
     "data": {
      "text/plain": [
       "count    36285.000000\n",
       "mean         0.153369\n",
       "std          1.753931\n",
       "min          0.000000\n",
       "25%          0.000000\n",
       "50%          0.000000\n",
       "75%          0.000000\n",
       "max         58.000000\n",
       "Name: P-not-C, dtype: float64"
      ]
     },
     "execution_count": 748,
     "metadata": {},
     "output_type": "execute_result"
    }
   ],
   "source": [
    "data[column].describe()"
   ]
  },
  {
   "cell_type": "code",
   "execution_count": 749,
   "id": "b99359fd",
   "metadata": {
    "scrolled": true
   },
   "outputs": [
    {
     "data": {
      "text/plain": [
       "P-not-C\n",
       "0     35473\n",
       "1       228\n",
       "2       112\n",
       "3        80\n",
       "4        65\n",
       "5        60\n",
       "6        36\n",
       "7        24\n",
       "8        23\n",
       "10       19\n",
       "9        19\n",
       "11       15\n",
       "12       12\n",
       "14        9\n",
       "15        8\n",
       "16        7\n",
       "13        7\n",
       "18        6\n",
       "20        6\n",
       "21        6\n",
       "17        6\n",
       "19        6\n",
       "22        6\n",
       "25        3\n",
       "27        3\n",
       "24        3\n",
       "23        3\n",
       "44        2\n",
       "29        2\n",
       "48        2\n",
       "28        2\n",
       "30        2\n",
       "32        2\n",
       "31        2\n",
       "26        2\n",
       "46        1\n",
       "55        1\n",
       "45        1\n",
       "57        1\n",
       "53        1\n",
       "54        1\n",
       "58        1\n",
       "41        1\n",
       "40        1\n",
       "43        1\n",
       "35        1\n",
       "50        1\n",
       "56        1\n",
       "33        1\n",
       "37        1\n",
       "42        1\n",
       "51        1\n",
       "38        1\n",
       "34        1\n",
       "39        1\n",
       "52        1\n",
       "49        1\n",
       "47        1\n",
       "36        1\n",
       "Name: count, dtype: int64"
      ]
     },
     "execution_count": 749,
     "metadata": {},
     "output_type": "execute_result"
    }
   ],
   "source": [
    "data[column].value_counts()"
   ]
  },
  {
   "cell_type": "code",
   "execution_count": 750,
   "id": "948b2c08",
   "metadata": {},
   "outputs": [
    {
     "name": "stdout",
     "output_type": "stream",
     "text": [
      "There are 0 null values.\n"
     ]
    }
   ],
   "source": [
    "null = np.sum(data[column].isnull())\n",
    "print(f\"There are {null} null values.\")"
   ]
  },
  {
   "cell_type": "code",
   "execution_count": 751,
   "id": "e6555d6b",
   "metadata": {
    "scrolled": true
   },
   "outputs": [],
   "source": [
    "#data[column].value_counts().plot(kind=\"bar\")"
   ]
  },
  {
   "cell_type": "markdown",
   "id": "aacbecd1",
   "metadata": {},
   "source": [
    "## -------------------------------------------------------------------------------------------------------"
   ]
  },
  {
   "cell_type": "markdown",
   "id": "e18fbd34",
   "metadata": {},
   "source": [
    "### Checking \"average price\" Feature"
   ]
  },
  {
   "cell_type": "code",
   "execution_count": 752,
   "id": "69cff3d1",
   "metadata": {},
   "outputs": [],
   "source": [
    "column = \"average price \""
   ]
  },
  {
   "cell_type": "code",
   "execution_count": 753,
   "id": "ac5a562b",
   "metadata": {
    "scrolled": true
   },
   "outputs": [
    {
     "data": {
      "text/plain": [
       "count    36285.000000\n",
       "mean       103.421636\n",
       "std         35.086469\n",
       "min          0.000000\n",
       "25%         80.300000\n",
       "50%         99.450000\n",
       "75%        120.000000\n",
       "max        540.000000\n",
       "Name: average price , dtype: float64"
      ]
     },
     "execution_count": 753,
     "metadata": {},
     "output_type": "execute_result"
    }
   ],
   "source": [
    "data[column].describe()"
   ]
  },
  {
   "cell_type": "code",
   "execution_count": 754,
   "id": "86b7735c",
   "metadata": {},
   "outputs": [
    {
     "name": "stdout",
     "output_type": "stream",
     "text": [
      "There are 0 null values.\n"
     ]
    }
   ],
   "source": [
    "null = np.sum(data[column].isnull())\n",
    "print(f\"There are {null} null values.\")"
   ]
  },
  {
   "cell_type": "code",
   "execution_count": 755,
   "id": "d49c3dc1",
   "metadata": {},
   "outputs": [
    {
     "data": {
      "text/plain": [
       "<Axes: xlabel='average price ', ylabel='Count'>"
      ]
     },
     "execution_count": 755,
     "metadata": {},
     "output_type": "execute_result"
    },
    {
     "data": {
      "image/png": "[encoded data removed]",
      "text/plain": [
       "<Figure size 640x480 with 1 Axes>"
      ]
     },
     "metadata": {},
     "output_type": "display_data"
    }
   ],
   "source": [
    "sns.histplot(data[column], kde=False)"
   ]
  },
  {
   "cell_type": "code",
   "execution_count": 756,
   "id": "3500de21",
   "metadata": {
    "scrolled": false
   },
   "outputs": [
    {
     "data": {
      "text/plain": [
       "<Axes: xlabel='average price '>"
      ]
     },
     "execution_count": 756,
     "metadata": {},
     "output_type": "execute_result"
    },
    {
     "data": {
      "image/png": "[encoded data removed]",
      "text/plain": [
       "<Figure size 640x480 with 1 Axes>"
      ]
     },
     "metadata": {},
     "output_type": "display_data"
    }
   ],
   "source": [
    "sns.boxplot(data[column], orient=\"h\")"
   ]
  },
  {
   "cell_type": "code",
   "execution_count": 757,
   "id": "56ef5d8c",
   "metadata": {
    "scrolled": true
   },
   "outputs": [
    {
     "name": "stdout",
     "output_type": "stream",
     "text": [
      "Number of outliers: 1696\n"
     ]
    }
   ],
   "source": [
    "outliers = detect_outliers(column)\n",
    "print(f\"Number of outliers:\", np.sum(outliers))"
   ]
  },
  {
   "cell_type": "markdown",
   "id": "968f35c3",
   "metadata": {},
   "source": [
    "- I will not remove/replace the outliers because higher values for the average price may have an impact on the booking status"
   ]
  },
  {
   "cell_type": "markdown",
   "id": "71004e1c",
   "metadata": {},
   "source": [
    "## -------------------------------------------------------------------------------------------------------"
   ]
  },
  {
   "cell_type": "markdown",
   "id": "cdd130fd",
   "metadata": {},
   "source": [
    "### Checking \"special requests\" Feature"
   ]
  },
  {
   "cell_type": "code",
   "execution_count": 758,
   "id": "cdded6ce",
   "metadata": {},
   "outputs": [],
   "source": [
    "column = \"special requests\""
   ]
  },
  {
   "cell_type": "code",
   "execution_count": 759,
   "id": "29558567",
   "metadata": {
    "scrolled": false
   },
   "outputs": [
    {
     "data": {
      "text/plain": [
       "count    36285.000000\n",
       "mean         0.619733\n",
       "std          0.786262\n",
       "min          0.000000\n",
       "25%          0.000000\n",
       "50%          0.000000\n",
       "75%          1.000000\n",
       "max          5.000000\n",
       "Name: special requests, dtype: float64"
      ]
     },
     "execution_count": 759,
     "metadata": {},
     "output_type": "execute_result"
    }
   ],
   "source": [
    "data[column].describe()"
   ]
  },
  {
   "cell_type": "code",
   "execution_count": 760,
   "id": "051bfbaf",
   "metadata": {
    "scrolled": true
   },
   "outputs": [
    {
     "data": {
      "text/plain": [
       "special requests\n",
       "0    19780\n",
       "1    11379\n",
       "2     4364\n",
       "3      676\n",
       "4       78\n",
       "5        8\n",
       "Name: count, dtype: int64"
      ]
     },
     "execution_count": 760,
     "metadata": {},
     "output_type": "execute_result"
    }
   ],
   "source": [
    "data[column].value_counts()"
   ]
  },
  {
   "cell_type": "code",
   "execution_count": 761,
   "id": "c077e6d0",
   "metadata": {},
   "outputs": [
    {
     "name": "stdout",
     "output_type": "stream",
     "text": [
      "There are 0 null values.\n"
     ]
    }
   ],
   "source": [
    "null = np.sum(data[column].isnull())\n",
    "print(f\"There are {null} null values.\")"
   ]
  },
  {
   "cell_type": "code",
   "execution_count": 762,
   "id": "db46f6e2",
   "metadata": {
    "scrolled": false
   },
   "outputs": [
    {
     "data": {
      "text/plain": [
       "<Axes: xlabel='special requests'>"
      ]
     },
     "execution_count": 762,
     "metadata": {},
     "output_type": "execute_result"
    },
    {
     "data": {
      "image/png": "[encoded data removed]",
      "text/plain": [
       "<Figure size 640x480 with 1 Axes>"
      ]
     },
     "metadata": {},
     "output_type": "display_data"
    }
   ],
   "source": [
    "data[column].value_counts().plot(kind=\"bar\")"
   ]
  },
  {
   "cell_type": "markdown",
   "id": "d493d795",
   "metadata": {},
   "source": [
    "## -------------------------------------------------------------------------------------------------------"
   ]
  },
  {
   "cell_type": "markdown",
   "id": "e19e0ed3",
   "metadata": {},
   "source": [
    "### Checking \"booking status\" "
   ]
  },
  {
   "cell_type": "code",
   "execution_count": 763,
   "id": "83bc64b5",
   "metadata": {},
   "outputs": [],
   "source": [
    "column = \"booking status\""
   ]
  },
  {
   "cell_type": "code",
   "execution_count": 764,
   "id": "8c4d9edd",
   "metadata": {
    "scrolled": false
   },
   "outputs": [
    {
     "data": {
      "text/plain": [
       "count            36285\n",
       "unique               2\n",
       "top       Not_Canceled\n",
       "freq             24396\n",
       "Name: booking status, dtype: object"
      ]
     },
     "execution_count": 764,
     "metadata": {},
     "output_type": "execute_result"
    }
   ],
   "source": [
    "data[column].describe()"
   ]
  },
  {
   "cell_type": "code",
   "execution_count": 765,
   "id": "16272b18",
   "metadata": {},
   "outputs": [
    {
     "data": {
      "text/plain": [
       "booking status\n",
       "Not_Canceled    24396\n",
       "Canceled        11889\n",
       "Name: count, dtype: int64"
      ]
     },
     "execution_count": 765,
     "metadata": {},
     "output_type": "execute_result"
    }
   ],
   "source": [
    "data[column].value_counts()"
   ]
  },
  {
   "cell_type": "code",
   "execution_count": 766,
   "id": "1ff98e27",
   "metadata": {},
   "outputs": [
    {
     "name": "stdout",
     "output_type": "stream",
     "text": [
      "There are 0 null values.\n"
     ]
    }
   ],
   "source": [
    "null = np.sum(data[column].isnull())\n",
    "print(f\"There are {null} null values.\")"
   ]
  },
  {
   "cell_type": "code",
   "execution_count": 767,
   "id": "11d2fae9",
   "metadata": {
    "scrolled": false
   },
   "outputs": [
    {
     "data": {
      "text/plain": [
       "<Axes: xlabel='booking status'>"
      ]
     },
     "execution_count": 767,
     "metadata": {},
     "output_type": "execute_result"
    },
    {
     "data": {
      "image/png": "[encoded data removed]",
      "text/plain": [
       "<Figure size 640x480 with 1 Axes>"
      ]
     },
     "metadata": {},
     "output_type": "display_data"
    }
   ],
   "source": [
    "data[column].value_counts().plot(kind='bar')"
   ]
  },
  {
   "cell_type": "markdown",
   "id": "270f8332",
   "metadata": {},
   "source": [
    "##### Do one hot encoding for this categorical feature"
   ]
  },
  {
   "cell_type": "code",
   "execution_count": 768,
   "id": "274061cb",
   "metadata": {},
   "outputs": [],
   "source": [
    "# Not_Canceled  ...> 0\n",
    "# Canceled      ...> 1"
   ]
  },
  {
   "cell_type": "code",
   "execution_count": 769,
   "id": "0f89a0f9",
   "metadata": {},
   "outputs": [
    {
     "name": "stderr",
     "output_type": "stream",
     "text": [
      "/tmp/ipykernel_34441/4098707111.py:2: FutureWarning: Downcasting behavior in `replace` is deprecated and will be removed in a future version. To retain the old behavior, explicitly call `result.infer_objects(copy=False)`. To opt-in to the future behavior, set `pd.set_option('future.no_silent_downcasting', True)`\n",
      "  data[column] = data[column].replace(\"Canceled\", 1)\n"
     ]
    }
   ],
   "source": [
    "data[column] = data[column].replace(\"Not_Canceled\", 0)\n",
    "data[column] = data[column].replace(\"Canceled\", 1)"
   ]
  },
  {
   "cell_type": "code",
   "execution_count": 770,
   "id": "7c7d261b",
   "metadata": {
    "scrolled": true
   },
   "outputs": [
    {
     "data": {
      "text/plain": [
       "booking status\n",
       "0    24396\n",
       "1    11889\n",
       "Name: count, dtype: int64"
      ]
     },
     "execution_count": 770,
     "metadata": {},
     "output_type": "execute_result"
    }
   ],
   "source": [
    "data[column].value_counts()"
   ]
  },
  {
   "cell_type": "markdown",
   "id": "7b50cfcf",
   "metadata": {},
   "source": [
    "## -------------------------------------------------------------------------------------------------------"
   ]
  },
  {
   "cell_type": "markdown",
   "id": "5ba09b4a",
   "metadata": {},
   "source": [
    "## Checking the relationship between Categorical Features and Average Price"
   ]
  },
  {
   "cell_type": "markdown",
   "id": "50075df1",
   "metadata": {},
   "source": [
    "- You may ignore this section"
   ]
  },
  {
   "cell_type": "code",
   "execution_count": 771,
   "id": "262c354d",
   "metadata": {},
   "outputs": [],
   "source": [
    "def plot(x, y):\n",
    "    sns.stripplot(x=x, y=y, data=data, jitter=True)\n",
    "    plt.xticks(rotation=45)  # Rotate x labels for better readability\n",
    "    plt.show()"
   ]
  },
  {
   "cell_type": "code",
   "execution_count": 772,
   "id": "6854cd43",
   "metadata": {
    "scrolled": false
   },
   "outputs": [
    {
     "data": {
      "image/png": "[encoded data removed]",
      "text/plain": [
       "<Figure size 640x480 with 1 Axes>"
      ]
     },
     "metadata": {},
     "output_type": "display_data"
    }
   ],
   "source": [
    "x = \"number of adults\"\n",
    "y = \"average price \"\n",
    "plot(x, y)"
   ]
  },
  {
   "cell_type": "code",
   "execution_count": 773,
   "id": "1481f2da",
   "metadata": {},
   "outputs": [
    {
     "data": {
      "image/png": "[encoded data removed]",
      "text/plain": [
       "<Figure size 640x480 with 1 Axes>"
      ]
     },
     "metadata": {},
     "output_type": "display_data"
    }
   ],
   "source": [
    "x = \"number of children\"\n",
    "y = \"average price \"\n",
    "plot(x, y)"
   ]
  },
  {
   "cell_type": "code",
   "execution_count": 774,
   "id": "c55a0866",
   "metadata": {},
   "outputs": [
    {
     "data": {
      "image/png": "[encoded data removed]",
      "text/plain": [
       "<Figure size 640x480 with 1 Axes>"
      ]
     },
     "metadata": {},
     "output_type": "display_data"
    }
   ],
   "source": [
    "x = \"number of weekend nights\"\n",
    "y = \"average price \"\n",
    "plot(x, y)"
   ]
  },
  {
   "cell_type": "code",
   "execution_count": 775,
   "id": "d1c2463d",
   "metadata": {},
   "outputs": [
    {
     "data": {
      "image/png": "[encoded data removed]",
      "text/plain": [
       "<Figure size 640x480 with 1 Axes>"
      ]
     },
     "metadata": {},
     "output_type": "display_data"
    }
   ],
   "source": [
    "x = \"number of week nights\"\n",
    "y = \"average price \"\n",
    "plot(x, y)"
   ]
  },
  {
   "cell_type": "code",
   "execution_count": 776,
   "id": "78f5d0ca",
   "metadata": {},
   "outputs": [
    {
     "data": {
      "image/png": "[encoded data removed]",
      "text/plain": [
       "<Figure size 640x480 with 1 Axes>"
      ]
     },
     "metadata": {},
     "output_type": "display_data"
    }
   ],
   "source": [
    "x = \"type of meal\"\n",
    "y = \"average price \"\n",
    "plot(x, y)"
   ]
  },
  {
   "cell_type": "code",
   "execution_count": 777,
   "id": "d59e306a",
   "metadata": {},
   "outputs": [
    {
     "data": {
      "image/png": "[encoded data removed]",
      "text/plain": [
       "<Figure size 640x480 with 1 Axes>"
      ]
     },
     "metadata": {},
     "output_type": "display_data"
    }
   ],
   "source": [
    "x = \"car parking space\"\n",
    "y = \"average price \"\n",
    "plot(x, y)"
   ]
  },
  {
   "cell_type": "code",
   "execution_count": 778,
   "id": "73a57e74",
   "metadata": {},
   "outputs": [
    {
     "data": {
      "image/png": "[encoded data removed]",
      "text/plain": [
       "<Figure size 640x480 with 1 Axes>"
      ]
     },
     "metadata": {},
     "output_type": "display_data"
    }
   ],
   "source": [
    "x = \"room type\"\n",
    "y = \"average price \"\n",
    "plot(x, y)"
   ]
  },
  {
   "cell_type": "code",
   "execution_count": 779,
   "id": "8d38a41d",
   "metadata": {},
   "outputs": [
    {
     "data": {
      "image/png": "[encoded data removed]",
      "text/plain": [
       "<Figure size 640x480 with 1 Axes>"
      ]
     },
     "metadata": {},
     "output_type": "display_data"
    }
   ],
   "source": [
    "x = \"market segment type\"\n",
    "y = \"average price \"\n",
    "plot(x, y)"
   ]
  },
  {
   "cell_type": "markdown",
   "id": "8f745a5e",
   "metadata": {},
   "source": [
    "#### Comments\n",
    "- The analysis suggests that average price does not exhibit a linear relationship with the individual categorical features examined. For instance, changes in the number of nights or the number of children do not appear to significantly affect the average price.\n",
    "- Specifically, increasing the number of nights booked or the number of children does not show a corresponding change in the average price.\n",
    "- I believe that average price may be influenced by a combination of features working together rather than any single feature individually. It is likely that the interplay between multiple variables contributes to variations in average price."
   ]
  },
  {
   "cell_type": "markdown",
   "id": "965685a6",
   "metadata": {},
   "source": [
    "## -------------------------------------------------------------------------------------------------------"
   ]
  },
  {
   "cell_type": "markdown",
   "id": "4fded04d",
   "metadata": {},
   "source": [
    "#### Combining the \"number of week nights\" and \"number of weekend nights\" into one Feature"
   ]
  },
  {
   "cell_type": "code",
   "execution_count": 780,
   "id": "93edbc33",
   "metadata": {},
   "outputs": [],
   "source": [
    "data[\"total nights\"] = data[\"number of week nights\"] + data[\"number of weekend nights\"]"
   ]
  },
  {
   "cell_type": "markdown",
   "id": "5587e340",
   "metadata": {},
   "source": [
    "#### Extract the Feature \"month\" and the Feature \"day\" from the \"date of reservation\""
   ]
  },
  {
   "cell_type": "code",
   "execution_count": 781,
   "id": "dd27f794",
   "metadata": {},
   "outputs": [],
   "source": [
    "data[\"date of reservation\"] = data[\"date of reservation\"].replace('2018-2-29', '2/28/2018')\n",
    "data[\"date of reservation\"] = pd.to_datetime(data[\"date of reservation\"], format=\"%m/%d/%Y\", errors=\"coerce\")\n",
    "data[\"month\"] = data[\"date of reservation\"].dt.month\n",
    "data[\"day\"] = data[\"date of reservation\"].dt.day"
   ]
  },
  {
   "cell_type": "code",
   "execution_count": 782,
   "id": "5887a0c1",
   "metadata": {
    "scrolled": true
   },
   "outputs": [
    {
     "data": {
      "text/html": [
       "<div>\n",
       "<style scoped>\n",
       "    .dataframe tbody tr th:only-of-type {\n",
       "        vertical-align: middle;\n",
       "    }\n",
       "\n",
       "    .dataframe tbody tr th {\n",
       "        vertical-align: top;\n",
       "    }\n",
       "\n",
       "    .dataframe thead th {\n",
       "        text-align: right;\n",
       "    }\n",
       "</style>\n",
       "<table border=\"1\" class=\"dataframe\">\n",
       "  <thead>\n",
       "    <tr style=\"text-align: right;\">\n",
       "      <th></th>\n",
       "      <th>Booking_ID</th>\n",
       "      <th>number of adults</th>\n",
       "      <th>number of children</th>\n",
       "      <th>number of weekend nights</th>\n",
       "      <th>number of week nights</th>\n",
       "      <th>type of meal</th>\n",
       "      <th>car parking space</th>\n",
       "      <th>room type</th>\n",
       "      <th>lead time</th>\n",
       "      <th>market segment type</th>\n",
       "      <th>repeated</th>\n",
       "      <th>P-C</th>\n",
       "      <th>P-not-C</th>\n",
       "      <th>average price</th>\n",
       "      <th>special requests</th>\n",
       "      <th>date of reservation</th>\n",
       "      <th>booking status</th>\n",
       "      <th>total nights</th>\n",
       "      <th>month</th>\n",
       "      <th>day</th>\n",
       "    </tr>\n",
       "  </thead>\n",
       "  <tbody>\n",
       "    <tr>\n",
       "      <th>0</th>\n",
       "      <td>INN00001</td>\n",
       "      <td>1</td>\n",
       "      <td>1</td>\n",
       "      <td>2</td>\n",
       "      <td>5</td>\n",
       "      <td>1</td>\n",
       "      <td>0</td>\n",
       "      <td>0</td>\n",
       "      <td>224</td>\n",
       "      <td>1</td>\n",
       "      <td>0</td>\n",
       "      <td>0</td>\n",
       "      <td>0</td>\n",
       "      <td>88.00</td>\n",
       "      <td>0</td>\n",
       "      <td>2015-10-02</td>\n",
       "      <td>0</td>\n",
       "      <td>7</td>\n",
       "      <td>10</td>\n",
       "      <td>2</td>\n",
       "    </tr>\n",
       "    <tr>\n",
       "      <th>1</th>\n",
       "      <td>INN00002</td>\n",
       "      <td>1</td>\n",
       "      <td>0</td>\n",
       "      <td>1</td>\n",
       "      <td>3</td>\n",
       "      <td>0</td>\n",
       "      <td>0</td>\n",
       "      <td>0</td>\n",
       "      <td>5</td>\n",
       "      <td>0</td>\n",
       "      <td>0</td>\n",
       "      <td>0</td>\n",
       "      <td>0</td>\n",
       "      <td>106.68</td>\n",
       "      <td>1</td>\n",
       "      <td>2018-11-06</td>\n",
       "      <td>0</td>\n",
       "      <td>4</td>\n",
       "      <td>11</td>\n",
       "      <td>6</td>\n",
       "    </tr>\n",
       "    <tr>\n",
       "      <th>2</th>\n",
       "      <td>INN00003</td>\n",
       "      <td>2</td>\n",
       "      <td>1</td>\n",
       "      <td>1</td>\n",
       "      <td>3</td>\n",
       "      <td>1</td>\n",
       "      <td>0</td>\n",
       "      <td>0</td>\n",
       "      <td>1</td>\n",
       "      <td>0</td>\n",
       "      <td>0</td>\n",
       "      <td>0</td>\n",
       "      <td>0</td>\n",
       "      <td>50.00</td>\n",
       "      <td>0</td>\n",
       "      <td>2018-02-28</td>\n",
       "      <td>1</td>\n",
       "      <td>4</td>\n",
       "      <td>2</td>\n",
       "      <td>28</td>\n",
       "    </tr>\n",
       "    <tr>\n",
       "      <th>3</th>\n",
       "      <td>INN00004</td>\n",
       "      <td>1</td>\n",
       "      <td>0</td>\n",
       "      <td>0</td>\n",
       "      <td>2</td>\n",
       "      <td>1</td>\n",
       "      <td>0</td>\n",
       "      <td>0</td>\n",
       "      <td>211</td>\n",
       "      <td>0</td>\n",
       "      <td>0</td>\n",
       "      <td>0</td>\n",
       "      <td>0</td>\n",
       "      <td>100.00</td>\n",
       "      <td>1</td>\n",
       "      <td>2017-05-20</td>\n",
       "      <td>1</td>\n",
       "      <td>2</td>\n",
       "      <td>5</td>\n",
       "      <td>20</td>\n",
       "    </tr>\n",
       "    <tr>\n",
       "      <th>4</th>\n",
       "      <td>INN00005</td>\n",
       "      <td>1</td>\n",
       "      <td>0</td>\n",
       "      <td>1</td>\n",
       "      <td>2</td>\n",
       "      <td>0</td>\n",
       "      <td>0</td>\n",
       "      <td>0</td>\n",
       "      <td>48</td>\n",
       "      <td>0</td>\n",
       "      <td>0</td>\n",
       "      <td>0</td>\n",
       "      <td>0</td>\n",
       "      <td>77.00</td>\n",
       "      <td>0</td>\n",
       "      <td>2018-04-11</td>\n",
       "      <td>1</td>\n",
       "      <td>3</td>\n",
       "      <td>4</td>\n",
       "      <td>11</td>\n",
       "    </tr>\n",
       "  </tbody>\n",
       "</table>\n",
       "</div>"
      ],
      "text/plain": [
       "  Booking_ID  number of adults  number of children  number of weekend nights  \\\n",
       "0   INN00001                 1                   1                         2   \n",
       "1   INN00002                 1                   0                         1   \n",
       "2   INN00003                 2                   1                         1   \n",
       "3   INN00004                 1                   0                         0   \n",
       "4   INN00005                 1                   0                         1   \n",
       "\n",
       "   number of week nights  type of meal  car parking space  room type  \\\n",
       "0                      5             1                  0          0   \n",
       "1                      3             0                  0          0   \n",
       "2                      3             1                  0          0   \n",
       "3                      2             1                  0          0   \n",
       "4                      2             0                  0          0   \n",
       "\n",
       "   lead time  market segment type  repeated  P-C  P-not-C  average price   \\\n",
       "0        224                    1         0    0        0           88.00   \n",
       "1          5                    0         0    0        0          106.68   \n",
       "2          1                    0         0    0        0           50.00   \n",
       "3        211                    0         0    0        0          100.00   \n",
       "4         48                    0         0    0        0           77.00   \n",
       "\n",
       "   special requests date of reservation  booking status  total nights  month  \\\n",
       "0                 0          2015-10-02               0             7     10   \n",
       "1                 1          2018-11-06               0             4     11   \n",
       "2                 0          2018-02-28               1             4      2   \n",
       "3                 1          2017-05-20               1             2      5   \n",
       "4                 0          2018-04-11               1             3      4   \n",
       "\n",
       "   day  \n",
       "0    2  \n",
       "1    6  \n",
       "2   28  \n",
       "3   20  \n",
       "4   11  "
      ]
     },
     "execution_count": 782,
     "metadata": {},
     "output_type": "execute_result"
    }
   ],
   "source": [
    "data.head()"
   ]
  },
  {
   "cell_type": "markdown",
   "id": "963fb523",
   "metadata": {},
   "source": [
    "## -------------------------------------------------------------------------------------------------------"
   ]
  },
  {
   "cell_type": "markdown",
   "id": "9c01542d",
   "metadata": {},
   "source": [
    "#### Dropping Unnecessary Features"
   ]
  },
  {
   "cell_type": "code",
   "execution_count": 783,
   "id": "5eff0d81",
   "metadata": {},
   "outputs": [],
   "source": [
    "data.drop(columns=[\"Booking_ID\", \"date of reservation\", \"number of weekend nights\", \"number of week nights\"], inplace=True)"
   ]
  },
  {
   "cell_type": "code",
   "execution_count": 784,
   "id": "87f99314",
   "metadata": {
    "scrolled": true
   },
   "outputs": [
    {
     "data": {
      "text/html": [
       "<div>\n",
       "<style scoped>\n",
       "    .dataframe tbody tr th:only-of-type {\n",
       "        vertical-align: middle;\n",
       "    }\n",
       "\n",
       "    .dataframe tbody tr th {\n",
       "        vertical-align: top;\n",
       "    }\n",
       "\n",
       "    .dataframe thead th {\n",
       "        text-align: right;\n",
       "    }\n",
       "</style>\n",
       "<table border=\"1\" class=\"dataframe\">\n",
       "  <thead>\n",
       "    <tr style=\"text-align: right;\">\n",
       "      <th></th>\n",
       "      <th>number of adults</th>\n",
       "      <th>number of children</th>\n",
       "      <th>type of meal</th>\n",
       "      <th>car parking space</th>\n",
       "      <th>room type</th>\n",
       "      <th>lead time</th>\n",
       "      <th>market segment type</th>\n",
       "      <th>repeated</th>\n",
       "      <th>P-C</th>\n",
       "      <th>P-not-C</th>\n",
       "      <th>average price</th>\n",
       "      <th>special requests</th>\n",
       "      <th>booking status</th>\n",
       "      <th>total nights</th>\n",
       "      <th>month</th>\n",
       "      <th>day</th>\n",
       "    </tr>\n",
       "  </thead>\n",
       "  <tbody>\n",
       "    <tr>\n",
       "      <th>0</th>\n",
       "      <td>1</td>\n",
       "      <td>1</td>\n",
       "      <td>1</td>\n",
       "      <td>0</td>\n",
       "      <td>0</td>\n",
       "      <td>224</td>\n",
       "      <td>1</td>\n",
       "      <td>0</td>\n",
       "      <td>0</td>\n",
       "      <td>0</td>\n",
       "      <td>88.00</td>\n",
       "      <td>0</td>\n",
       "      <td>0</td>\n",
       "      <td>7</td>\n",
       "      <td>10</td>\n",
       "      <td>2</td>\n",
       "    </tr>\n",
       "    <tr>\n",
       "      <th>1</th>\n",
       "      <td>1</td>\n",
       "      <td>0</td>\n",
       "      <td>0</td>\n",
       "      <td>0</td>\n",
       "      <td>0</td>\n",
       "      <td>5</td>\n",
       "      <td>0</td>\n",
       "      <td>0</td>\n",
       "      <td>0</td>\n",
       "      <td>0</td>\n",
       "      <td>106.68</td>\n",
       "      <td>1</td>\n",
       "      <td>0</td>\n",
       "      <td>4</td>\n",
       "      <td>11</td>\n",
       "      <td>6</td>\n",
       "    </tr>\n",
       "    <tr>\n",
       "      <th>2</th>\n",
       "      <td>2</td>\n",
       "      <td>1</td>\n",
       "      <td>1</td>\n",
       "      <td>0</td>\n",
       "      <td>0</td>\n",
       "      <td>1</td>\n",
       "      <td>0</td>\n",
       "      <td>0</td>\n",
       "      <td>0</td>\n",
       "      <td>0</td>\n",
       "      <td>50.00</td>\n",
       "      <td>0</td>\n",
       "      <td>1</td>\n",
       "      <td>4</td>\n",
       "      <td>2</td>\n",
       "      <td>28</td>\n",
       "    </tr>\n",
       "    <tr>\n",
       "      <th>3</th>\n",
       "      <td>1</td>\n",
       "      <td>0</td>\n",
       "      <td>1</td>\n",
       "      <td>0</td>\n",
       "      <td>0</td>\n",
       "      <td>211</td>\n",
       "      <td>0</td>\n",
       "      <td>0</td>\n",
       "      <td>0</td>\n",
       "      <td>0</td>\n",
       "      <td>100.00</td>\n",
       "      <td>1</td>\n",
       "      <td>1</td>\n",
       "      <td>2</td>\n",
       "      <td>5</td>\n",
       "      <td>20</td>\n",
       "    </tr>\n",
       "    <tr>\n",
       "      <th>4</th>\n",
       "      <td>1</td>\n",
       "      <td>0</td>\n",
       "      <td>0</td>\n",
       "      <td>0</td>\n",
       "      <td>0</td>\n",
       "      <td>48</td>\n",
       "      <td>0</td>\n",
       "      <td>0</td>\n",
       "      <td>0</td>\n",
       "      <td>0</td>\n",
       "      <td>77.00</td>\n",
       "      <td>0</td>\n",
       "      <td>1</td>\n",
       "      <td>3</td>\n",
       "      <td>4</td>\n",
       "      <td>11</td>\n",
       "    </tr>\n",
       "  </tbody>\n",
       "</table>\n",
       "</div>"
      ],
      "text/plain": [
       "   number of adults  number of children  type of meal  car parking space  \\\n",
       "0                 1                   1             1                  0   \n",
       "1                 1                   0             0                  0   \n",
       "2                 2                   1             1                  0   \n",
       "3                 1                   0             1                  0   \n",
       "4                 1                   0             0                  0   \n",
       "\n",
       "   room type  lead time  market segment type  repeated  P-C  P-not-C  \\\n",
       "0          0        224                    1         0    0        0   \n",
       "1          0          5                    0         0    0        0   \n",
       "2          0          1                    0         0    0        0   \n",
       "3          0        211                    0         0    0        0   \n",
       "4          0         48                    0         0    0        0   \n",
       "\n",
       "   average price   special requests  booking status  total nights  month  day  \n",
       "0           88.00                 0               0             7     10    2  \n",
       "1          106.68                 1               0             4     11    6  \n",
       "2           50.00                 0               1             4      2   28  \n",
       "3          100.00                 1               1             2      5   20  \n",
       "4           77.00                 0               1             3      4   11  "
      ]
     },
     "execution_count": 784,
     "metadata": {},
     "output_type": "execute_result"
    }
   ],
   "source": [
    "data.head()"
   ]
  },
  {
   "cell_type": "markdown",
   "id": "f03acdbc",
   "metadata": {},
   "source": [
    "## -------------------------------------------------------------------------------------------------------"
   ]
  },
  {
   "cell_type": "markdown",
   "id": "d422883b",
   "metadata": {},
   "source": [
    "## Feature Scaling "
   ]
  },
  {
   "cell_type": "code",
   "execution_count": 785,
   "id": "782b3df7",
   "metadata": {},
   "outputs": [],
   "source": [
    "# from sklearn.preprocessing import MinMaxScaler\n",
    "\n",
    "# # Initialize the MinMaxScaler\n",
    "# scaler = MinMaxScaler()\n",
    "\n",
    "from sklearn.preprocessing import StandardScaler\n",
    "\n",
    "# Initialize the StandardScaler\n",
    "scaler = StandardScaler()"
   ]
  },
  {
   "cell_type": "code",
   "execution_count": 786,
   "id": "88d98574",
   "metadata": {},
   "outputs": [],
   "source": [
    "features = [\"average price \", \"lead time\", \"P-not-C\", \"total nights\"]"
   ]
  },
  {
   "cell_type": "code",
   "execution_count": 787,
   "id": "fbc3ef5b",
   "metadata": {},
   "outputs": [],
   "source": [
    "for feature in features:\n",
    "    data[feature] = scaler.fit_transform(data[[feature]])"
   ]
  },
  {
   "cell_type": "code",
   "execution_count": 788,
   "id": "880380d8",
   "metadata": {},
   "outputs": [],
   "source": [
    "#data[\"average price \"] = np.log(data[\"average price \"] + 0.001)"
   ]
  },
  {
   "cell_type": "code",
   "execution_count": 789,
   "id": "809b0856",
   "metadata": {},
   "outputs": [],
   "source": [
    "#data[\"lead time\"] = np.log(data[\"lead time\"] + 0.001)"
   ]
  },
  {
   "cell_type": "code",
   "execution_count": 790,
   "id": "34dc8df8",
   "metadata": {},
   "outputs": [
    {
     "data": {
      "text/html": [
       "<div>\n",
       "<style scoped>\n",
       "    .dataframe tbody tr th:only-of-type {\n",
       "        vertical-align: middle;\n",
       "    }\n",
       "\n",
       "    .dataframe tbody tr th {\n",
       "        vertical-align: top;\n",
       "    }\n",
       "\n",
       "    .dataframe thead th {\n",
       "        text-align: right;\n",
       "    }\n",
       "</style>\n",
       "<table border=\"1\" class=\"dataframe\">\n",
       "  <thead>\n",
       "    <tr style=\"text-align: right;\">\n",
       "      <th></th>\n",
       "      <th>number of adults</th>\n",
       "      <th>number of children</th>\n",
       "      <th>type of meal</th>\n",
       "      <th>car parking space</th>\n",
       "      <th>room type</th>\n",
       "      <th>lead time</th>\n",
       "      <th>market segment type</th>\n",
       "      <th>repeated</th>\n",
       "      <th>P-C</th>\n",
       "      <th>P-not-C</th>\n",
       "      <th>average price</th>\n",
       "      <th>special requests</th>\n",
       "      <th>booking status</th>\n",
       "      <th>total nights</th>\n",
       "      <th>month</th>\n",
       "      <th>day</th>\n",
       "    </tr>\n",
       "  </thead>\n",
       "  <tbody>\n",
       "    <tr>\n",
       "      <th>0</th>\n",
       "      <td>1</td>\n",
       "      <td>1</td>\n",
       "      <td>1</td>\n",
       "      <td>0</td>\n",
       "      <td>0</td>\n",
       "      <td>1.614661</td>\n",
       "      <td>1</td>\n",
       "      <td>0</td>\n",
       "      <td>0</td>\n",
       "      <td>-0.087444</td>\n",
       "      <td>-0.439538</td>\n",
       "      <td>0</td>\n",
       "      <td>0</td>\n",
       "      <td>2.231109</td>\n",
       "      <td>10</td>\n",
       "      <td>2</td>\n",
       "    </tr>\n",
       "    <tr>\n",
       "      <th>1</th>\n",
       "      <td>1</td>\n",
       "      <td>0</td>\n",
       "      <td>0</td>\n",
       "      <td>0</td>\n",
       "      <td>0</td>\n",
       "      <td>-0.933699</td>\n",
       "      <td>0</td>\n",
       "      <td>0</td>\n",
       "      <td>0</td>\n",
       "      <td>-0.087444</td>\n",
       "      <td>0.092868</td>\n",
       "      <td>1</td>\n",
       "      <td>0</td>\n",
       "      <td>0.551354</td>\n",
       "      <td>11</td>\n",
       "      <td>6</td>\n",
       "    </tr>\n",
       "    <tr>\n",
       "      <th>2</th>\n",
       "      <td>2</td>\n",
       "      <td>1</td>\n",
       "      <td>1</td>\n",
       "      <td>0</td>\n",
       "      <td>0</td>\n",
       "      <td>-0.980244</td>\n",
       "      <td>0</td>\n",
       "      <td>0</td>\n",
       "      <td>0</td>\n",
       "      <td>-0.087444</td>\n",
       "      <td>-1.522592</td>\n",
       "      <td>0</td>\n",
       "      <td>1</td>\n",
       "      <td>0.551354</td>\n",
       "      <td>2</td>\n",
       "      <td>28</td>\n",
       "    </tr>\n",
       "    <tr>\n",
       "      <th>3</th>\n",
       "      <td>1</td>\n",
       "      <td>0</td>\n",
       "      <td>1</td>\n",
       "      <td>0</td>\n",
       "      <td>0</td>\n",
       "      <td>1.463389</td>\n",
       "      <td>0</td>\n",
       "      <td>0</td>\n",
       "      <td>0</td>\n",
       "      <td>-0.087444</td>\n",
       "      <td>-0.097521</td>\n",
       "      <td>1</td>\n",
       "      <td>1</td>\n",
       "      <td>-0.568483</td>\n",
       "      <td>5</td>\n",
       "      <td>20</td>\n",
       "    </tr>\n",
       "    <tr>\n",
       "      <th>4</th>\n",
       "      <td>1</td>\n",
       "      <td>0</td>\n",
       "      <td>0</td>\n",
       "      <td>0</td>\n",
       "      <td>0</td>\n",
       "      <td>-0.433336</td>\n",
       "      <td>0</td>\n",
       "      <td>0</td>\n",
       "      <td>0</td>\n",
       "      <td>-0.087444</td>\n",
       "      <td>-0.753054</td>\n",
       "      <td>0</td>\n",
       "      <td>1</td>\n",
       "      <td>-0.008564</td>\n",
       "      <td>4</td>\n",
       "      <td>11</td>\n",
       "    </tr>\n",
       "  </tbody>\n",
       "</table>\n",
       "</div>"
      ],
      "text/plain": [
       "   number of adults  number of children  type of meal  car parking space  \\\n",
       "0                 1                   1             1                  0   \n",
       "1                 1                   0             0                  0   \n",
       "2                 2                   1             1                  0   \n",
       "3                 1                   0             1                  0   \n",
       "4                 1                   0             0                  0   \n",
       "\n",
       "   room type  lead time  market segment type  repeated  P-C   P-not-C  \\\n",
       "0          0   1.614661                    1         0    0 -0.087444   \n",
       "1          0  -0.933699                    0         0    0 -0.087444   \n",
       "2          0  -0.980244                    0         0    0 -0.087444   \n",
       "3          0   1.463389                    0         0    0 -0.087444   \n",
       "4          0  -0.433336                    0         0    0 -0.087444   \n",
       "\n",
       "   average price   special requests  booking status  total nights  month  day  \n",
       "0       -0.439538                 0               0      2.231109     10    2  \n",
       "1        0.092868                 1               0      0.551354     11    6  \n",
       "2       -1.522592                 0               1      0.551354      2   28  \n",
       "3       -0.097521                 1               1     -0.568483      5   20  \n",
       "4       -0.753054                 0               1     -0.008564      4   11  "
      ]
     },
     "execution_count": 790,
     "metadata": {},
     "output_type": "execute_result"
    }
   ],
   "source": [
    "data.head()"
   ]
  },
  {
   "cell_type": "code",
   "execution_count": 791,
   "id": "1c00b443",
   "metadata": {
    "scrolled": true
   },
   "outputs": [
    {
     "data": {
      "text/html": [
       "<div>\n",
       "<style scoped>\n",
       "    .dataframe tbody tr th:only-of-type {\n",
       "        vertical-align: middle;\n",
       "    }\n",
       "\n",
       "    .dataframe tbody tr th {\n",
       "        vertical-align: top;\n",
       "    }\n",
       "\n",
       "    .dataframe thead th {\n",
       "        text-align: right;\n",
       "    }\n",
       "</style>\n",
       "<table border=\"1\" class=\"dataframe\">\n",
       "  <thead>\n",
       "    <tr style=\"text-align: right;\">\n",
       "      <th></th>\n",
       "      <th>number of adults</th>\n",
       "      <th>number of children</th>\n",
       "      <th>type of meal</th>\n",
       "      <th>car parking space</th>\n",
       "      <th>room type</th>\n",
       "      <th>lead time</th>\n",
       "      <th>market segment type</th>\n",
       "      <th>repeated</th>\n",
       "      <th>P-C</th>\n",
       "      <th>P-not-C</th>\n",
       "      <th>average price</th>\n",
       "      <th>special requests</th>\n",
       "      <th>booking status</th>\n",
       "      <th>total nights</th>\n",
       "      <th>month</th>\n",
       "      <th>day</th>\n",
       "    </tr>\n",
       "  </thead>\n",
       "  <tbody>\n",
       "    <tr>\n",
       "      <th>count</th>\n",
       "      <td>36285.000000</td>\n",
       "      <td>36285.000000</td>\n",
       "      <td>36285.000000</td>\n",
       "      <td>36285.000000</td>\n",
       "      <td>36285.000000</td>\n",
       "      <td>3.628500e+04</td>\n",
       "      <td>36285.000000</td>\n",
       "      <td>36285.000000</td>\n",
       "      <td>36285.000000</td>\n",
       "      <td>3.628500e+04</td>\n",
       "      <td>3.628500e+04</td>\n",
       "      <td>36285.000000</td>\n",
       "      <td>36285.000000</td>\n",
       "      <td>3.628500e+04</td>\n",
       "      <td>36285.000000</td>\n",
       "      <td>36285.000000</td>\n",
       "    </tr>\n",
       "    <tr>\n",
       "      <th>mean</th>\n",
       "      <td>1.844839</td>\n",
       "      <td>0.105360</td>\n",
       "      <td>0.949952</td>\n",
       "      <td>0.030977</td>\n",
       "      <td>0.708860</td>\n",
       "      <td>1.684075e-17</td>\n",
       "      <td>0.447513</td>\n",
       "      <td>0.025630</td>\n",
       "      <td>0.023343</td>\n",
       "      <td>2.996088e-17</td>\n",
       "      <td>4.343348e-16</td>\n",
       "      <td>0.619733</td>\n",
       "      <td>0.327656</td>\n",
       "      <td>-8.028731e-17</td>\n",
       "      <td>7.423811</td>\n",
       "      <td>15.595673</td>\n",
       "    </tr>\n",
       "    <tr>\n",
       "      <th>std</th>\n",
       "      <td>0.518813</td>\n",
       "      <td>0.402704</td>\n",
       "      <td>0.480209</td>\n",
       "      <td>0.173258</td>\n",
       "      <td>1.399801</td>\n",
       "      <td>1.000014e+00</td>\n",
       "      <td>0.681489</td>\n",
       "      <td>0.158032</td>\n",
       "      <td>0.368281</td>\n",
       "      <td>1.000014e+00</td>\n",
       "      <td>1.000014e+00</td>\n",
       "      <td>0.786262</td>\n",
       "      <td>0.469365</td>\n",
       "      <td>1.000014e+00</td>\n",
       "      <td>3.069935</td>\n",
       "      <td>8.738817</td>\n",
       "    </tr>\n",
       "    <tr>\n",
       "      <th>min</th>\n",
       "      <td>0.000000</td>\n",
       "      <td>0.000000</td>\n",
       "      <td>0.000000</td>\n",
       "      <td>0.000000</td>\n",
       "      <td>0.000000</td>\n",
       "      <td>-9.918806e-01</td>\n",
       "      <td>0.000000</td>\n",
       "      <td>0.000000</td>\n",
       "      <td>0.000000</td>\n",
       "      <td>-8.744431e-02</td>\n",
       "      <td>-2.947662e+00</td>\n",
       "      <td>0.000000</td>\n",
       "      <td>0.000000</td>\n",
       "      <td>-1.688319e+00</td>\n",
       "      <td>1.000000</td>\n",
       "      <td>1.000000</td>\n",
       "    </tr>\n",
       "    <tr>\n",
       "      <th>25%</th>\n",
       "      <td>2.000000</td>\n",
       "      <td>0.000000</td>\n",
       "      <td>1.000000</td>\n",
       "      <td>0.000000</td>\n",
       "      <td>0.000000</td>\n",
       "      <td>-7.940627e-01</td>\n",
       "      <td>0.000000</td>\n",
       "      <td>0.000000</td>\n",
       "      <td>0.000000</td>\n",
       "      <td>-8.744431e-02</td>\n",
       "      <td>-6.589992e-01</td>\n",
       "      <td>0.000000</td>\n",
       "      <td>0.000000</td>\n",
       "      <td>-5.684825e-01</td>\n",
       "      <td>5.000000</td>\n",
       "      <td>8.000000</td>\n",
       "    </tr>\n",
       "    <tr>\n",
       "      <th>50%</th>\n",
       "      <td>2.000000</td>\n",
       "      <td>0.000000</td>\n",
       "      <td>1.000000</td>\n",
       "      <td>0.000000</td>\n",
       "      <td>0.000000</td>\n",
       "      <td>-3.286088e-01</td>\n",
       "      <td>0.000000</td>\n",
       "      <td>0.000000</td>\n",
       "      <td>0.000000</td>\n",
       "      <td>-8.744431e-02</td>\n",
       "      <td>-1.131972e-01</td>\n",
       "      <td>0.000000</td>\n",
       "      <td>0.000000</td>\n",
       "      <td>-8.564272e-03</td>\n",
       "      <td>8.000000</td>\n",
       "      <td>16.000000</td>\n",
       "    </tr>\n",
       "    <tr>\n",
       "      <th>75%</th>\n",
       "      <td>2.000000</td>\n",
       "      <td>0.000000</td>\n",
       "      <td>1.000000</td>\n",
       "      <td>0.000000</td>\n",
       "      <td>0.000000</td>\n",
       "      <td>4.742993e-01</td>\n",
       "      <td>1.000000</td>\n",
       "      <td>0.000000</td>\n",
       "      <td>0.000000</td>\n",
       "      <td>-8.744431e-02</td>\n",
       "      <td>4.725067e-01</td>\n",
       "      <td>1.000000</td>\n",
       "      <td>1.000000</td>\n",
       "      <td>5.513540e-01</td>\n",
       "      <td>10.000000</td>\n",
       "      <td>23.000000</td>\n",
       "    </tr>\n",
       "    <tr>\n",
       "      <th>max</th>\n",
       "      <td>4.000000</td>\n",
       "      <td>10.000000</td>\n",
       "      <td>3.000000</td>\n",
       "      <td>1.000000</td>\n",
       "      <td>6.000000</td>\n",
       "      <td>4.163022e+00</td>\n",
       "      <td>4.000000</td>\n",
       "      <td>1.000000</td>\n",
       "      <td>13.000000</td>\n",
       "      <td>3.298159e+01</td>\n",
       "      <td>1.244310e+01</td>\n",
       "      <td>5.000000</td>\n",
       "      <td>1.000000</td>\n",
       "      <td>1.174972e+01</td>\n",
       "      <td>12.000000</td>\n",
       "      <td>31.000000</td>\n",
       "    </tr>\n",
       "  </tbody>\n",
       "</table>\n",
       "</div>"
      ],
      "text/plain": [
       "       number of adults  number of children  type of meal  car parking space  \\\n",
       "count      36285.000000        36285.000000  36285.000000       36285.000000   \n",
       "mean           1.844839            0.105360      0.949952           0.030977   \n",
       "std            0.518813            0.402704      0.480209           0.173258   \n",
       "min            0.000000            0.000000      0.000000           0.000000   \n",
       "25%            2.000000            0.000000      1.000000           0.000000   \n",
       "50%            2.000000            0.000000      1.000000           0.000000   \n",
       "75%            2.000000            0.000000      1.000000           0.000000   \n",
       "max            4.000000           10.000000      3.000000           1.000000   \n",
       "\n",
       "          room type     lead time  market segment type      repeated  \\\n",
       "count  36285.000000  3.628500e+04         36285.000000  36285.000000   \n",
       "mean       0.708860  1.684075e-17             0.447513      0.025630   \n",
       "std        1.399801  1.000014e+00             0.681489      0.158032   \n",
       "min        0.000000 -9.918806e-01             0.000000      0.000000   \n",
       "25%        0.000000 -7.940627e-01             0.000000      0.000000   \n",
       "50%        0.000000 -3.286088e-01             0.000000      0.000000   \n",
       "75%        0.000000  4.742993e-01             1.000000      0.000000   \n",
       "max        6.000000  4.163022e+00             4.000000      1.000000   \n",
       "\n",
       "                P-C       P-not-C  average price   special requests  \\\n",
       "count  36285.000000  3.628500e+04    3.628500e+04      36285.000000   \n",
       "mean       0.023343  2.996088e-17    4.343348e-16          0.619733   \n",
       "std        0.368281  1.000014e+00    1.000014e+00          0.786262   \n",
       "min        0.000000 -8.744431e-02   -2.947662e+00          0.000000   \n",
       "25%        0.000000 -8.744431e-02   -6.589992e-01          0.000000   \n",
       "50%        0.000000 -8.744431e-02   -1.131972e-01          0.000000   \n",
       "75%        0.000000 -8.744431e-02    4.725067e-01          1.000000   \n",
       "max       13.000000  3.298159e+01    1.244310e+01          5.000000   \n",
       "\n",
       "       booking status  total nights         month           day  \n",
       "count    36285.000000  3.628500e+04  36285.000000  36285.000000  \n",
       "mean         0.327656 -8.028731e-17      7.423811     15.595673  \n",
       "std          0.469365  1.000014e+00      3.069935      8.738817  \n",
       "min          0.000000 -1.688319e+00      1.000000      1.000000  \n",
       "25%          0.000000 -5.684825e-01      5.000000      8.000000  \n",
       "50%          0.000000 -8.564272e-03      8.000000     16.000000  \n",
       "75%          1.000000  5.513540e-01     10.000000     23.000000  \n",
       "max          1.000000  1.174972e+01     12.000000     31.000000  "
      ]
     },
     "execution_count": 791,
     "metadata": {},
     "output_type": "execute_result"
    }
   ],
   "source": [
    "data.describe()"
   ]
  },
  {
   "cell_type": "code",
   "execution_count": 792,
   "id": "7cb96d5c",
   "metadata": {},
   "outputs": [],
   "source": [
    "#data['average price '] = scaler.fit_transform(data[['average price ']])"
   ]
  },
  {
   "cell_type": "markdown",
   "id": "fb263961",
   "metadata": {},
   "source": [
    "## -------------------------------------------------------------------------------------------------------"
   ]
  },
  {
   "cell_type": "markdown",
   "id": "0035b802",
   "metadata": {},
   "source": [
    "## Split Data into Train and Test Sets"
   ]
  },
  {
   "cell_type": "code",
   "execution_count": 793,
   "id": "fb889abd",
   "metadata": {},
   "outputs": [],
   "source": [
    "# Separate the features (X) and the target variable (y)\n",
    "X = data.drop(columns=[\"booking status\"])\n",
    "y = data[\"booking status\"]\n",
    "\n",
    "# Split the dataset (80% train, 20% test is typical)\n",
    "X_train, X_test, y_train, y_test = train_test_split(X, y, test_size=0.2, random_state=42)"
   ]
  },
  {
   "cell_type": "code",
   "execution_count": 794,
   "id": "bffdf5d7",
   "metadata": {},
   "outputs": [
    {
     "name": "stdout",
     "output_type": "stream",
     "text": [
      "Shape of X_train (29028, 15)\n",
      "Shape of y_train (29028,)\n",
      "Shape of X_test (7257, 15)\n",
      "Shape of y_test (7257,)\n"
     ]
    }
   ],
   "source": [
    "print(\"Shape of X_train\", X_train.shape)\n",
    "print(\"Shape of y_train\", y_train.shape)\n",
    "print(\"Shape of X_test\", X_test.shape)\n",
    "print(\"Shape of y_test\", y_test.shape)"
   ]
  },
  {
   "cell_type": "markdown",
   "id": "ec0b9994",
   "metadata": {},
   "source": [
    "## -------------------------------------------------------------------------------------------------------"
   ]
  },
  {
   "cell_type": "markdown",
   "id": "b26f78a2",
   "metadata": {},
   "source": [
    "## Fit the Data using LR"
   ]
  },
  {
   "cell_type": "code",
   "execution_count": 813,
   "id": "1d0d96f5",
   "metadata": {},
   "outputs": [],
   "source": [
    "model = Sequential(\n",
    "    [\n",
    "        Dense(1, activation=\"sigmoid\"),\n",
    "    ]\n",
    ")"
   ]
  },
  {
   "cell_type": "code",
   "execution_count": 822,
   "id": "a94c41bb",
   "metadata": {},
   "outputs": [],
   "source": [
    "model.compile(loss=\"binary_crossentropy\", optimizer=SGD(learning_rate=0.0001), metrics=[\"accuracy\"])"
   ]
  },
  {
   "cell_type": "code",
   "execution_count": 823,
   "id": "3f209199",
   "metadata": {
    "scrolled": false
   },
   "outputs": [
    {
     "name": "stdout",
     "output_type": "stream",
     "text": [
      "Epoch 1/30\n",
      "\u001b[1m908/908\u001b[0m \u001b[32m━━━━━━━━━━━━━━━━━━━━\u001b[0m\u001b[37m\u001b[0m \u001b[1m1s\u001b[0m 840us/step - accuracy: 0.7910 - loss: 0.4500\n",
      "Epoch 2/30\n",
      "\u001b[1m908/908\u001b[0m \u001b[32m━━━━━━━━━━━━━━━━━━━━\u001b[0m\u001b[37m\u001b[0m \u001b[1m1s\u001b[0m 800us/step - accuracy: 0.7876 - loss: 0.4537\n",
      "Epoch 3/30\n",
      "\u001b[1m908/908\u001b[0m \u001b[32m━━━━━━━━━━━━━━━━━━━━\u001b[0m\u001b[37m\u001b[0m \u001b[1m1s\u001b[0m 804us/step - accuracy: 0.7955 - loss: 0.4450\n",
      "Epoch 4/30\n",
      "\u001b[1m908/908\u001b[0m \u001b[32m━━━━━━━━━━━━━━━━━━━━\u001b[0m\u001b[37m\u001b[0m \u001b[1m1s\u001b[0m 865us/step - accuracy: 0.7909 - loss: 0.4507\n",
      "Epoch 5/30\n",
      "\u001b[1m908/908\u001b[0m \u001b[32m━━━━━━━━━━━━━━━━━━━━\u001b[0m\u001b[37m\u001b[0m \u001b[1m1s\u001b[0m 929us/step - accuracy: 0.7932 - loss: 0.4483\n",
      "Epoch 6/30\n",
      "\u001b[1m908/908\u001b[0m \u001b[32m━━━━━━━━━━━━━━━━━━━━\u001b[0m\u001b[37m\u001b[0m \u001b[1m1s\u001b[0m 712us/step - accuracy: 0.7892 - loss: 0.4505\n",
      "Epoch 7/30\n",
      "\u001b[1m908/908\u001b[0m \u001b[32m━━━━━━━━━━━━━━━━━━━━\u001b[0m\u001b[37m\u001b[0m \u001b[1m1s\u001b[0m 710us/step - accuracy: 0.7954 - loss: 0.4457\n",
      "Epoch 8/30\n",
      "\u001b[1m908/908\u001b[0m \u001b[32m━━━━━━━━━━━━━━━━━━━━\u001b[0m\u001b[37m\u001b[0m \u001b[1m1s\u001b[0m 763us/step - accuracy: 0.7929 - loss: 0.4505\n",
      "Epoch 9/30\n",
      "\u001b[1m908/908\u001b[0m \u001b[32m━━━━━━━━━━━━━━━━━━━━\u001b[0m\u001b[37m\u001b[0m \u001b[1m1s\u001b[0m 760us/step - accuracy: 0.7871 - loss: 0.4516\n",
      "Epoch 10/30\n",
      "\u001b[1m908/908\u001b[0m \u001b[32m━━━━━━━━━━━━━━━━━━━━\u001b[0m\u001b[37m\u001b[0m \u001b[1m1s\u001b[0m 733us/step - accuracy: 0.7926 - loss: 0.4485\n",
      "Epoch 11/30\n",
      "\u001b[1m908/908\u001b[0m \u001b[32m━━━━━━━━━━━━━━━━━━━━\u001b[0m\u001b[37m\u001b[0m \u001b[1m1s\u001b[0m 747us/step - accuracy: 0.7896 - loss: 0.4527\n",
      "Epoch 12/30\n",
      "\u001b[1m908/908\u001b[0m \u001b[32m━━━━━━━━━━━━━━━━━━━━\u001b[0m\u001b[37m\u001b[0m \u001b[1m1s\u001b[0m 825us/step - accuracy: 0.7970 - loss: 0.4453\n",
      "Epoch 13/30\n",
      "\u001b[1m908/908\u001b[0m \u001b[32m━━━━━━━━━━━━━━━━━━━━\u001b[0m\u001b[37m\u001b[0m \u001b[1m1s\u001b[0m 755us/step - accuracy: 0.7966 - loss: 0.4459\n",
      "Epoch 14/30\n",
      "\u001b[1m908/908\u001b[0m \u001b[32m━━━━━━━━━━━━━━━━━━━━\u001b[0m\u001b[37m\u001b[0m \u001b[1m1s\u001b[0m 769us/step - accuracy: 0.7911 - loss: 0.4507\n",
      "Epoch 15/30\n",
      "\u001b[1m908/908\u001b[0m \u001b[32m━━━━━━━━━━━━━━━━━━━━\u001b[0m\u001b[37m\u001b[0m \u001b[1m1s\u001b[0m 836us/step - accuracy: 0.7919 - loss: 0.4485\n",
      "Epoch 16/30\n",
      "\u001b[1m908/908\u001b[0m \u001b[32m━━━━━━━━━━━━━━━━━━━━\u001b[0m\u001b[37m\u001b[0m \u001b[1m1s\u001b[0m 820us/step - accuracy: 0.7892 - loss: 0.4482\n",
      "Epoch 17/30\n",
      "\u001b[1m908/908\u001b[0m \u001b[32m━━━━━━━━━━━━━━━━━━━━\u001b[0m\u001b[37m\u001b[0m \u001b[1m1s\u001b[0m 798us/step - accuracy: 0.7906 - loss: 0.4485\n",
      "Epoch 18/30\n",
      "\u001b[1m908/908\u001b[0m \u001b[32m━━━━━━━━━━━━━━━━━━━━\u001b[0m\u001b[37m\u001b[0m \u001b[1m1s\u001b[0m 864us/step - accuracy: 0.7879 - loss: 0.4533\n",
      "Epoch 19/30\n",
      "\u001b[1m908/908\u001b[0m \u001b[32m━━━━━━━━━━━━━━━━━━━━\u001b[0m\u001b[37m\u001b[0m \u001b[1m1s\u001b[0m 781us/step - accuracy: 0.7980 - loss: 0.4413\n",
      "Epoch 20/30\n",
      "\u001b[1m908/908\u001b[0m \u001b[32m━━━━━━━━━━━━━━━━━━━━\u001b[0m\u001b[37m\u001b[0m \u001b[1m1s\u001b[0m 742us/step - accuracy: 0.7868 - loss: 0.4524\n",
      "Epoch 21/30\n",
      "\u001b[1m908/908\u001b[0m \u001b[32m━━━━━━━━━━━━━━━━━━━━\u001b[0m\u001b[37m\u001b[0m \u001b[1m1s\u001b[0m 808us/step - accuracy: 0.7893 - loss: 0.4500\n",
      "Epoch 22/30\n",
      "\u001b[1m908/908\u001b[0m \u001b[32m━━━━━━━━━━━━━━━━━━━━\u001b[0m\u001b[37m\u001b[0m \u001b[1m1s\u001b[0m 769us/step - accuracy: 0.7919 - loss: 0.4496\n",
      "Epoch 23/30\n",
      "\u001b[1m908/908\u001b[0m \u001b[32m━━━━━━━━━━━━━━━━━━━━\u001b[0m\u001b[37m\u001b[0m \u001b[1m1s\u001b[0m 758us/step - accuracy: 0.7896 - loss: 0.4516\n",
      "Epoch 24/30\n",
      "\u001b[1m908/908\u001b[0m \u001b[32m━━━━━━━━━━━━━━━━━━━━\u001b[0m\u001b[37m\u001b[0m \u001b[1m1s\u001b[0m 794us/step - accuracy: 0.7914 - loss: 0.4511\n",
      "Epoch 25/30\n",
      "\u001b[1m908/908\u001b[0m \u001b[32m━━━━━━━━━━━━━━━━━━━━\u001b[0m\u001b[37m\u001b[0m \u001b[1m1s\u001b[0m 785us/step - accuracy: 0.7888 - loss: 0.4521\n",
      "Epoch 26/30\n",
      "\u001b[1m908/908\u001b[0m \u001b[32m━━━━━━━━━━━━━━━━━━━━\u001b[0m\u001b[37m\u001b[0m \u001b[1m1s\u001b[0m 804us/step - accuracy: 0.7896 - loss: 0.4513\n",
      "Epoch 27/30\n",
      "\u001b[1m908/908\u001b[0m \u001b[32m━━━━━━━━━━━━━━━━━━━━\u001b[0m\u001b[37m\u001b[0m \u001b[1m1s\u001b[0m 717us/step - accuracy: 0.7878 - loss: 0.4523\n",
      "Epoch 28/30\n",
      "\u001b[1m908/908\u001b[0m \u001b[32m━━━━━━━━━━━━━━━━━━━━\u001b[0m\u001b[37m\u001b[0m \u001b[1m1s\u001b[0m 791us/step - accuracy: 0.7916 - loss: 0.4499\n",
      "Epoch 29/30\n",
      "\u001b[1m908/908\u001b[0m \u001b[32m━━━━━━━━━━━━━━━━━━━━\u001b[0m\u001b[37m\u001b[0m \u001b[1m1s\u001b[0m 703us/step - accuracy: 0.7946 - loss: 0.4440\n",
      "Epoch 30/30\n",
      "\u001b[1m908/908\u001b[0m \u001b[32m━━━━━━━━━━━━━━━━━━━━\u001b[0m\u001b[37m\u001b[0m \u001b[1m1s\u001b[0m 790us/step - accuracy: 0.7942 - loss: 0.4482\n"
     ]
    },
    {
     "data": {
      "text/plain": [
       "<keras.src.callbacks.history.History at 0x7b6adbef21c0>"
      ]
     },
     "execution_count": 823,
     "metadata": {},
     "output_type": "execute_result"
    }
   ],
   "source": [
    "model.fit(X_train, y_train, epochs=30)"
   ]
  },
  {
   "cell_type": "markdown",
   "id": "502f508b",
   "metadata": {},
   "source": [
    "##### Accuracy on Training Data"
   ]
  },
  {
   "cell_type": "code",
   "execution_count": 824,
   "id": "b764c226",
   "metadata": {
    "scrolled": true
   },
   "outputs": [
    {
     "name": "stdout",
     "output_type": "stream",
     "text": [
      "\u001b[1m908/908\u001b[0m \u001b[32m━━━━━━━━━━━━━━━━━━━━\u001b[0m\u001b[37m\u001b[0m \u001b[1m1s\u001b[0m 605us/step - accuracy: 0.7923 - loss: 0.4476\n"
     ]
    }
   ],
   "source": [
    "train_loss, train_acc = model.evaluate(X_train, y_train)"
   ]
  },
  {
   "cell_type": "markdown",
   "id": "988b78c6",
   "metadata": {},
   "source": [
    "##### Accuracy on Test Data"
   ]
  },
  {
   "cell_type": "code",
   "execution_count": 825,
   "id": "955f6fc8",
   "metadata": {},
   "outputs": [
    {
     "name": "stdout",
     "output_type": "stream",
     "text": [
      "\u001b[1m227/227\u001b[0m \u001b[32m━━━━━━━━━━━━━━━━━━━━\u001b[0m\u001b[37m\u001b[0m \u001b[1m0s\u001b[0m 596us/step - accuracy: 0.8029 - loss: 0.4362\n"
     ]
    }
   ],
   "source": [
    "test_loss, test_acc = model.evaluate(X_test, y_test)"
   ]
  },
  {
   "cell_type": "code",
   "execution_count": null,
   "id": "396bec35",
   "metadata": {},
   "outputs": [],
   "source": []
  },
  {
   "cell_type": "code",
   "execution_count": null,
   "id": "2ff509f5",
   "metadata": {},
   "outputs": [],
   "source": []
  }
 ],
 "metadata": {
  "kernelspec": {
   "display_name": "ai1",
   "language": "python",
   "name": "ai1"
  },
  "language_info": {
   "codemirror_mode": {
    "name": "ipython",
    "version": 3
   },
   "file_extension": ".py",
   "mimetype": "text/x-python",
   "name": "python",
   "nbconvert_exporter": "python",
   "pygments_lexer": "ipython3",
   "version": "3.9.18"
  }
 },
 "nbformat": 4,
 "nbformat_minor": 5
}
