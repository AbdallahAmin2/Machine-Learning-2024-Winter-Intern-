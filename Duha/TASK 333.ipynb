{
 "cells": [
  {
   "cell_type": "markdown",
   "id": "91810a88-4573-40bb-b3ca-347afac102e9",
   "metadata": {},
   "source": [
    " # Part 1: Data Preprocessing\r\n",
    "\r\n"
   ]
  },
  {
   "cell_type": "code",
   "execution_count": null,
   "id": "7add378a-3d82-4d7f-8c30-5521cb783eb9",
   "metadata": {},
   "outputs": [],
   "source": []
  },
  {
   "cell_type": "code",
   "execution_count": 20,
   "id": "a75e1424-d3fc-42c5-8215-f2fbe97745df",
   "metadata": {},
   "outputs": [
    {
     "name": "stdout",
     "output_type": "stream",
     "text": [
      "Data Preprocessing Complete\n"
     ]
    }
   ],
   "source": [
    "# Import necessary libraries\n",
    "import pandas as pd\n",
    "from sklearn.preprocessing import LabelEncoder\n",
    "\n",
    "# Load the dataset\n",
    "df = pd.read_csv('first inten project.csv')\n",
    "\n",
    "# Split the data into features (X) and target (y)\n",
    "X = df.drop('booking status', axis=1)\n",
    "y = df['booking status']\n",
    "\n",
    "# Preprocess the data\n",
    "le = LabelEncoder()\n",
    "for col in X.columns:\n",
    "    if X[col].dtype == 'object':\n",
    "        X[col] = le.fit_transform(X[col])\n",
    "\n",
    "print(\"Data Preprocessing Complete\")"
   ]
  },
  {
   "cell_type": "code",
   "execution_count": null,
   "id": "0e4383b2-b73b-409b-9ad4-c3f5c0371e95",
   "metadata": {},
   "outputs": [],
   "source": []
  },
  {
   "cell_type": "markdown",
   "id": "bc587159-91ea-4a30-b35e-2410cb6bf565",
   "metadata": {},
   "source": [
    "# Part 2: Data Split\n",
    "\n"
   ]
  },
  {
   "cell_type": "code",
   "execution_count": null,
   "id": "6f816045-13bb-47d0-b0e7-180c8027ad39",
   "metadata": {},
   "outputs": [],
   "source": []
  },
  {
   "cell_type": "code",
   "execution_count": 3,
   "id": "349d0063-c723-449f-afcb-6db2ac4c6a5e",
   "metadata": {},
   "outputs": [
    {
     "name": "stdout",
     "output_type": "stream",
     "text": [
      "Data Split Complete\n"
     ]
    }
   ],
   "source": [
    "from sklearn.model_selection import train_test_split\n",
    "\n",
    "# Split the data into training and testing sets\n",
    "X_train, X_test, y_train, y_test = train_test_split(X, y, test_size=0.2, random_state=42)\n",
    "\n",
    "print(\"Data Split Complete\")"
   ]
  },
  {
   "cell_type": "code",
   "execution_count": null,
   "id": "e97fd391-0f2d-4970-a06b-d2e125f23ca1",
   "metadata": {},
   "outputs": [],
   "source": []
  },
  {
   "cell_type": "markdown",
   "id": "09d4f26a-f120-4001-b8b2-a6976a990ed8",
   "metadata": {},
   "source": [
    "# Part 3: Hyperparameter Tuning using Randomized Search\n",
    "\n"
   ]
  },
  {
   "cell_type": "code",
   "execution_count": null,
   "id": "7a528898-7f6e-4792-ac07-6992549e648f",
   "metadata": {},
   "outputs": [],
   "source": []
  },
  {
   "cell_type": "code",
   "execution_count": 7,
   "id": "f899b5b9-2dd1-4921-af98-b5a74d362a4d",
   "metadata": {},
   "outputs": [
    {
     "name": "stdout",
     "output_type": "stream",
     "text": [
      "Hyperparameter Tuning Complete\n"
     ]
    }
   ],
   "source": [
    "from sklearn.model_selection import RandomizedSearchCV\n",
    "from sklearn.ensemble import RandomForestClassifier\n",
    "from scipy.stats import randint\n",
    "\n",
    "# Define hyperparameter tuning space\n",
    "param_grid = {\n",
    "    'n_estimators': randint(100, 500),\n",
    "    'max_depth': [None, 5, 10, 15],\n",
    "    'min_samples_split': [2, 5, 10],\n",
    "    'min_samples_leaf': [1, 5, 10]\n",
    "}\n",
    "\n",
    "# Initialize the Random Forest Classifier\n",
    "rfc = RandomForestClassifier(random_state=42)\n",
    "\n",
    "# Perform hyperparameter tuning using Randomized Search\n",
    "random_search = RandomizedSearchCV(estimator=rfc, param_distributions=param_grid, cv=5, n_iter=10, n_jobs=-1)\n",
    "random_search.fit(X_train, y_train)\n",
    "\n",
    "print(\"Hyperparameter Tuning Complete\")"
   ]
  },
  {
   "cell_type": "code",
   "execution_count": null,
   "id": "f25ee44b-4e28-407e-9d1f-1ca3a8a611eb",
   "metadata": {},
   "outputs": [],
   "source": []
  },
  {
   "cell_type": "markdown",
   "id": "db685b6c-fa10-4a47-ad87-7f9cd7c48540",
   "metadata": {},
   "source": [
    "# Part 4: Model Evaluation\n",
    "\n"
   ]
  },
  {
   "cell_type": "code",
   "execution_count": null,
   "id": "414a6410-9e8d-44ee-a44c-ecab4989266d",
   "metadata": {},
   "outputs": [],
   "source": []
  },
  {
   "cell_type": "code",
   "execution_count": 11,
   "id": "6d504947-1d58-43e4-8367-1a621e509470",
   "metadata": {},
   "outputs": [
    {
     "name": "stdout",
     "output_type": "stream",
     "text": [
      "Best Hyperparameters:  {'max_depth': 15, 'min_samples_leaf': 1, 'min_samples_split': 5, 'n_estimators': 203}\n",
      "Best Accuracy:  0.8869021651248538\n",
      "Classification Report:\n",
      "              precision    recall  f1-score   support\n",
      "\n",
      "    Canceled       0.88      0.77      0.82      2402\n",
      "Not_Canceled       0.89      0.95      0.92      4855\n",
      "\n",
      "    accuracy                           0.89      7257\n",
      "   macro avg       0.89      0.86      0.87      7257\n",
      "weighted avg       0.89      0.89      0.89      7257\n",
      "\n",
      "Confusion Matrix:\n",
      "[[1855  547]\n",
      " [ 254 4601]]\n",
      "Model Evaluation Complete\n"
     ]
    }
   ],
   "source": [
    "# Import necessary libraries\n",
    "from sklearn.metrics import accuracy_score, classification_report, confusion_matrix\n",
    "\n",
    "# Print the best hyperparameters and the corresponding accuracy\n",
    "print(\"Best Hyperparameters: \", random_search.best_params_)\n",
    "print(\"Best Accuracy: \", random_search.best_score_)\n",
    "\n",
    "# Evaluate the model on the test set\n",
    "y_pred = random_search.best_estimator_.predict(X_test)\n",
    "print(\"Classification Report:\")\n",
    "print(classification_report(y_test, y_pred))\n",
    "print(\"Confusion Matrix:\")\n",
    "print(confusion_matrix(y_test, y_pred))\n",
    "\n",
    "print(\"Model Evaluation Complete\")"
   ]
  },
  {
   "cell_type": "code",
   "execution_count": null,
   "id": "7d5ec187-f1b3-406f-8728-708be819c014",
   "metadata": {},
   "outputs": [],
   "source": []
  }
 ],
 "metadata": {
  "kernelspec": {
   "display_name": "Python 3 (ipykernel)",
   "language": "python",
   "name": "python3"
  },
  "language_info": {
   "codemirror_mode": {
    "name": "ipython",
    "version": 3
   },
   "file_extension": ".py",
   "mimetype": "text/x-python",
   "name": "python",
   "nbconvert_exporter": "python",
   "pygments_lexer": "ipython3",
   "version": "3.12.4"
  }
 },
 "nbformat": 4,
 "nbformat_minor": 5
}
