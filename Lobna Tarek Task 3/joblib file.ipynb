{
 "cells": [
  {
   "cell_type": "code",
   "execution_count": 8,
   "id": "efd9e8b5",
   "metadata": {},
   "outputs": [],
   "source": [
    "import pandas as pd\n",
    "import numpy as np\n",
    "\n",
    "import matplotlib.pyplot as plt\n",
    "import seaborn as sns \n",
    "\n",
    "from scipy.stats import zscore\n",
    "from scipy.stats import randint\n",
    "\n",
    "import lightgbm as lgb\n",
    "import xgboost as xgb\n",
    "\n",
    "from sklearn.model_selection import train_test_split, GridSearchCV, cross_val_score\n",
    "from sklearn.linear_model import LinearRegression, LogisticRegression \n",
    "from sklearn.tree import DecisionTreeClassifier\n",
    "from sklearn.ensemble import RandomForestClassifier\n",
    "from sklearn.metrics import mean_squared_error, accuracy_score, classification_report\n",
    "from sklearn.preprocessing import LabelEncoder\n",
    "\n",
    "import joblib\n",
    "\n",
    "%matplotlib inline"
   ]
  },
  {
   "cell_type": "code",
   "execution_count": 9,
   "id": "31a93fde",
   "metadata": {},
   "outputs": [],
   "source": [
    "df = pd.read_csv('first inten project.csv')"
   ]
  },
  {
   "cell_type": "code",
   "execution_count": 10,
   "id": "acc2e114",
   "metadata": {},
   "outputs": [
    {
     "data": {
      "text/plain": [
       "2933"
      ]
     },
     "execution_count": 10,
     "metadata": {},
     "output_type": "execute_result"
    }
   ],
   "source": [
    "def get_outlier_indices(df, columns=None, threshold=3):\n",
    "    outlier_indices = set() \n",
    "\n",
    "    if columns is None:\n",
    "        columns = df.select_dtypes(include=['number']).columns\n",
    "\n",
    "    for col in columns:\n",
    "        z_scores = zscore(df[col])\n",
    "        col_outliers = df[(z_scores > threshold) | (z_scores < -threshold)].index\n",
    "        \n",
    "        outlier_indices.update(col_outliers)\n",
    "\n",
    "    return list(outlier_indices)\n",
    "\n",
    "\n",
    "columns_to_check = ['number of adults', 'number of children', 'average price ', 'number of weekend nights',\n",
    "                    'number of week nights','special requests', 'P-C', 'P-not-C', 'lead time'] \n",
    "\n",
    "\n",
    "outlier_indices = get_outlier_indices(df, columns=columns_to_check)\n",
    "len(outlier_indices)\n",
    "#I tried with threshold 4, but the accuracy was better with 3"
   ]
  },
  {
   "cell_type": "code",
   "execution_count": 11,
   "id": "209645a4",
   "metadata": {},
   "outputs": [],
   "source": [
    "df_cleaned = df.drop(outlier_indices)"
   ]
  },
  {
   "cell_type": "code",
   "execution_count": 16,
   "id": "6e0f9e33",
   "metadata": {},
   "outputs": [
    {
     "name": "stdout",
     "output_type": "stream",
     "text": [
      "Index(['number of adults', 'number of children', 'number of weekend nights',\n",
      "       'number of week nights', 'car parking space', 'lead time', 'repeated',\n",
      "       'P-C', 'P-not-C', 'average price ', 'special requests',\n",
      "       'type of meal_Meal Plan 1', 'type of meal_Meal Plan 2',\n",
      "       'type of meal_Meal Plan 3', 'type of meal_Not Selected',\n",
      "       'room type_Room_Type 1', 'room type_Room_Type 2',\n",
      "       'room type_Room_Type 3', 'room type_Room_Type 4',\n",
      "       'room type_Room_Type 5', 'room type_Room_Type 6',\n",
      "       'room type_Room_Type 7', 'market segment type_Aviation',\n",
      "       'market segment type_Complementary', 'market segment type_Corporate',\n",
      "       'market segment type_Offline', 'market segment type_Online'],\n",
      "      dtype='object')\n"
     ]
    }
   ],
   "source": [
    "columns = df_x_encoded.columns\n",
    "print(columns)"
   ]
  },
  {
   "cell_type": "code",
   "execution_count": 12,
   "id": "b5bc5c08",
   "metadata": {},
   "outputs": [],
   "source": [
    "df_x = df_cleaned.drop(columns=['booking status', 'Booking_ID', 'date of reservation'])\n",
    "df_x_encoded = pd.get_dummies(df_x, columns=['type of meal', 'room type', 'market segment type'])\n",
    "df_y = pd.get_dummies(df_cleaned, columns=['booking status'])\n",
    "df_x = df_cleaned.drop(columns=['booking status', 'Booking_ID'])\n",
    "X = df_x_encoded \n",
    "y = df_cleaned['booking status']  \n",
    "\n",
    "X_train, X_test, y_train, y_test = train_test_split(X, y, test_size=0.2, random_state=42)"
   ]
  },
  {
   "cell_type": "code",
   "execution_count": 6,
   "id": "7eb30afa",
   "metadata": {},
   "outputs": [],
   "source": [
    "random_forest = RandomForestClassifier(random_state=42)\n",
    "random_forest.fit(X_train, y_train)\n",
    "y_pred_forest = random_forest.predict(X_test)"
   ]
  },
  {
   "cell_type": "code",
   "execution_count": 7,
   "id": "5d673d80",
   "metadata": {},
   "outputs": [
    {
     "name": "stdout",
     "output_type": "stream",
     "text": [
      "Random Forest Performance:\n",
      "Accuracy: 0.8874231749362914\n",
      "Classification Report:\n",
      "              precision    recall  f1-score   support\n",
      "\n",
      "    Canceled       0.84      0.79      0.81      2090\n",
      "Not_Canceled       0.91      0.93      0.92      4581\n",
      "\n",
      "    accuracy                           0.89      6671\n",
      "   macro avg       0.87      0.86      0.87      6671\n",
      "weighted avg       0.89      0.89      0.89      6671\n",
      "\n"
     ]
    }
   ],
   "source": [
    "print(\"Random Forest Performance:\")\n",
    "print(f\"Accuracy: {accuracy_score(y_test, y_pred_forest)}\")\n",
    "print(\"Classification Report:\")\n",
    "print(classification_report(y_test, y_pred_forest))"
   ]
  },
  {
   "cell_type": "code",
   "execution_count": 9,
   "id": "369419d8",
   "metadata": {},
   "outputs": [
    {
     "data": {
      "text/plain": [
       "['random_forest_model.pkl']"
      ]
     },
     "execution_count": 9,
     "metadata": {},
     "output_type": "execute_result"
    }
   ],
   "source": [
    "joblib.dump(random_forest, 'random_forest_model.pkl')"
   ]
  },
  {
   "cell_type": "code",
   "execution_count": null,
   "id": "957c8179",
   "metadata": {},
   "outputs": [],
   "source": []
  },
  {
   "cell_type": "code",
   "execution_count": null,
   "id": "ea047972",
   "metadata": {},
   "outputs": [],
   "source": []
  },
  {
   "cell_type": "code",
   "execution_count": null,
   "id": "29ad41b0",
   "metadata": {},
   "outputs": [],
   "source": []
  },
  {
   "cell_type": "code",
   "execution_count": null,
   "id": "3eea76ad",
   "metadata": {},
   "outputs": [],
   "source": []
  },
  {
   "cell_type": "code",
   "execution_count": null,
   "id": "83f179f7",
   "metadata": {},
   "outputs": [],
   "source": []
  }
 ],
 "metadata": {
  "kernelspec": {
   "display_name": "Python 3 (ipykernel)",
   "language": "python",
   "name": "python3"
  },
  "language_info": {
   "codemirror_mode": {
    "name": "ipython",
    "version": 3
   },
   "file_extension": ".py",
   "mimetype": "text/x-python",
   "name": "python",
   "nbconvert_exporter": "python",
   "pygments_lexer": "ipython3",
   "version": "3.11.5"
  }
 },
 "nbformat": 4,
 "nbformat_minor": 5
}
